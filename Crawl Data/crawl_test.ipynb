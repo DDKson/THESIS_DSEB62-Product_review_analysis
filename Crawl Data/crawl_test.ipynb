{
 "cells": [
  {
   "cell_type": "code",
   "execution_count": 1,
   "metadata": {},
   "outputs": [],
   "source": [
    "import numpy as np\n",
    "import pandas as pd\n",
    "import os\n",
    "from key_word_crawl import ProductURLCrawler, ProductFeatureExtractor"
   ]
  },
  {
   "cell_type": "code",
   "execution_count": 2,
   "metadata": {},
   "outputs": [
    {
     "name": "stdout",
     "output_type": "stream",
     "text": [
      "Detected OS : Windows\n",
      "_________________________________\n",
      "Current web-browser version:\t114.0.5735.134\n",
      "Current chrome-driver version:\t114.0.5735.90\n",
      "_________________________________\n"
     ]
    }
   ],
   "source": [
    "url_crawler = ProductURLCrawler()"
   ]
  },
  {
   "cell_type": "code",
   "execution_count": 6,
   "metadata": {},
   "outputs": [
    {
     "name": "stdout",
     "output_type": "stream",
     "text": [
      "Crawling URLs for keyword: lego\n",
      "URLs for keyword: lego crawled successfully, saved at ./product link/lego_urls.csv, execution time: 193.75474739074707\n",
      "Crawling URLs for keyword: figure\n",
      "URLs for keyword: figure crawled successfully, saved at ./product link/figure_urls.csv, execution time: 195.07105565071106\n",
      "Crawling URLs for keyword: truyện tranh\n",
      "URLs for keyword: truyện tranh crawled successfully, saved at ./product link/truyện tranh_urls.csv, execution time: 195.86123895645142\n",
      "Crawling URLs for keyword: sách\n",
      "URLs for keyword: sách crawled successfully, saved at ./product link/sách_urls.csv, execution time: 194.83571696281433\n",
      "Crawling URLs for keyword: CPU\n",
      "URLs for keyword: CPU crawled successfully, saved at ./product link/CPU_urls.csv, execution time: 193.02042365074158\n",
      "Crawling URLs for keyword: cắm trại\n",
      "URLs for keyword: cắm trại crawled successfully, saved at ./product link/cắm trại_urls.csv, execution time: 191.69789385795593\n",
      "Crawling URLs for keyword: câu cá\n",
      "URLs for keyword: câu cá crawled successfully, saved at ./product link/câu cá_urls.csv, execution time: 192.10228943824768\n",
      "Crawling URLs for keyword: đồ bơi\n",
      "URLs for keyword: đồ bơi crawled successfully, saved at ./product link/đồ bơi_urls.csv, execution time: 195.03593182563782\n",
      "Crawling URLs for keyword: golf\n",
      "URLs for keyword: golf crawled successfully, saved at ./product link/golf_urls.csv, execution time: 190.79750299453735\n",
      "Crawling URLs for keyword: sneaker\n",
      "URLs for keyword: sneaker crawled successfully, saved at ./product link/sneaker_urls.csv, execution time: 196.331392288208\n",
      "Crawling URLs for keyword: xe đạp\n",
      "URLs for keyword: xe đạp crawled successfully, saved at ./product link/xe đạp_urls.csv, execution time: 190.20341730117798\n",
      "Crawling finished\n"
     ]
    },
    {
     "data": {
      "text/plain": [
       "True"
      ]
     },
     "execution_count": 6,
     "metadata": {},
     "output_type": "execute_result"
    }
   ],
   "source": [
    "keywords = ['lego', 'figure', 'truyện tranh', 'sách', 'CPU', 'cắm trại', 'câu cá', 'đồ bơi', 'golf', 'sneaker', 'xe đạp']\n",
    "dfs = url_crawler.crawl_multiple_keywords(keywords, './product link')\n",
    "\n",
    "len(dfs) == len(keywords)"
   ]
  },
  {
   "cell_type": "code",
   "execution_count": 8,
   "metadata": {},
   "outputs": [
    {
     "data": {
      "text/html": [
       "<div>\n",
       "<style scoped>\n",
       "    .dataframe tbody tr th:only-of-type {\n",
       "        vertical-align: middle;\n",
       "    }\n",
       "\n",
       "    .dataframe tbody tr th {\n",
       "        vertical-align: top;\n",
       "    }\n",
       "\n",
       "    .dataframe thead th {\n",
       "        text-align: right;\n",
       "    }\n",
       "</style>\n",
       "<table border=\"1\" class=\"dataframe\">\n",
       "  <thead>\n",
       "    <tr style=\"text-align: right;\">\n",
       "      <th></th>\n",
       "      <th>name</th>\n",
       "      <th>sold_per_month</th>\n",
       "      <th>product_url</th>\n",
       "    </tr>\n",
       "  </thead>\n",
       "  <tbody>\n",
       "    <tr>\n",
       "      <th>0</th>\n",
       "      <td>MÔ HÌNH LẮP RÁP MINI 3D HOẠT HÌNH ĐÁNG YÊU CHO...</td>\n",
       "      <td>Đã bán 4,1k/tháng</td>\n",
       "      <td>https://shopee.vn/MÔ-HÌNH-LẮP-RÁP-MINI-3D-HOẠT...</td>\n",
       "    </tr>\n",
       "    <tr>\n",
       "      <th>1</th>\n",
       "      <td>Bộ mô hình đồ chơi lego lắp ráp xếp hình mini ...</td>\n",
       "      <td>Đã bán 6k/tháng</td>\n",
       "      <td>https://shopee.vn/Bộ-mô-hình-đồ-chơi-lego-lắp-...</td>\n",
       "    </tr>\n",
       "    <tr>\n",
       "      <th>2</th>\n",
       "      <td>Bộ mô hình đồ chơi lego lắp ráp xếp hình 3D Nh...</td>\n",
       "      <td>Đã bán 2,3k/tháng</td>\n",
       "      <td>https://shopee.vn/Bộ-mô-hình-đồ-chơi-lego-lắp-...</td>\n",
       "    </tr>\n",
       "    <tr>\n",
       "      <th>3</th>\n",
       "      <td>Xếp Hình Nam Châm Ánh Sáng Colorful Magnetic T...</td>\n",
       "      <td>Đã bán 51/tháng</td>\n",
       "      <td>https://shopee.vn/Xếp-Hình-Nam-Châm-Ánh-Sáng-C...</td>\n",
       "    </tr>\n",
       "    <tr>\n",
       "      <th>4</th>\n",
       "      <td>Bảng ghép hình khối nổi cho bé tập tư duy ghép...</td>\n",
       "      <td>Đã bán 594/tháng</td>\n",
       "      <td>https://shopee.vn/Bảng-ghép-hình-khối-nổi-cho-...</td>\n",
       "    </tr>\n",
       "    <tr>\n",
       "      <th>...</th>\n",
       "      <td>...</td>\n",
       "      <td>...</td>\n",
       "      <td>...</td>\n",
       "    </tr>\n",
       "    <tr>\n",
       "      <th>485</th>\n",
       "      <td>(HÀNG SẴN) Lego mèo xinh xắn cho năm 2023 - HÀ...</td>\n",
       "      <td>Đã bán 9/tháng</td>\n",
       "      <td>https://shopee.vn/(HÀNG-SẴN)-Lego-mèo-xinh-xắn...</td>\n",
       "    </tr>\n",
       "    <tr>\n",
       "      <th>486</th>\n",
       "      <td>BỘ ĐỒ CHƠI LEGO NAM CHÂM 48 MÓN XẾP HÌNH Lắp R...</td>\n",
       "      <td>Đã bán 9/tháng</td>\n",
       "      <td>https://shopee.vn/BỘ-ĐỒ-CHƠI-LEGO-NAM-CHÂM-48-...</td>\n",
       "    </tr>\n",
       "    <tr>\n",
       "      <th>487</th>\n",
       "      <td>LEGO Spider-Man Series Mini búp bê khối Venom ...</td>\n",
       "      <td>Đã bán 9/tháng</td>\n",
       "      <td>https://shopee.vn/LEGO-Spider-Man-Series-Mini-...</td>\n",
       "    </tr>\n",
       "    <tr>\n",
       "      <th>488</th>\n",
       "      <td>le.go gấu họa sĩ nhiếp ảnh gia 45cm gấu tedy b...</td>\n",
       "      <td>Đã bán 9/tháng</td>\n",
       "      <td>https://shopee.vn/le.go-gấu-họa-sĩ-nhiếp-ảnh-g...</td>\n",
       "    </tr>\n",
       "    <tr>\n",
       "      <th>489</th>\n",
       "      <td>Non Lego - Phụ Kiện Dragon Sword Cầm Tay Cho M...</td>\n",
       "      <td>Đã bán 9/tháng</td>\n",
       "      <td>https://shopee.vn/Non-Lego-Phụ-Kiện-Dragon-Swo...</td>\n",
       "    </tr>\n",
       "  </tbody>\n",
       "</table>\n",
       "<p>490 rows × 3 columns</p>\n",
       "</div>"
      ],
      "text/plain": [
       "                                                  name     sold_per_month  \\\n",
       "0    MÔ HÌNH LẮP RÁP MINI 3D HOẠT HÌNH ĐÁNG YÊU CHO...  Đã bán 4,1k/tháng   \n",
       "1    Bộ mô hình đồ chơi lego lắp ráp xếp hình mini ...    Đã bán 6k/tháng   \n",
       "2    Bộ mô hình đồ chơi lego lắp ráp xếp hình 3D Nh...  Đã bán 2,3k/tháng   \n",
       "3    Xếp Hình Nam Châm Ánh Sáng Colorful Magnetic T...    Đã bán 51/tháng   \n",
       "4    Bảng ghép hình khối nổi cho bé tập tư duy ghép...   Đã bán 594/tháng   \n",
       "..                                                 ...                ...   \n",
       "485  (HÀNG SẴN) Lego mèo xinh xắn cho năm 2023 - HÀ...     Đã bán 9/tháng   \n",
       "486  BỘ ĐỒ CHƠI LEGO NAM CHÂM 48 MÓN XẾP HÌNH Lắp R...     Đã bán 9/tháng   \n",
       "487  LEGO Spider-Man Series Mini búp bê khối Venom ...     Đã bán 9/tháng   \n",
       "488  le.go gấu họa sĩ nhiếp ảnh gia 45cm gấu tedy b...     Đã bán 9/tháng   \n",
       "489  Non Lego - Phụ Kiện Dragon Sword Cầm Tay Cho M...     Đã bán 9/tháng   \n",
       "\n",
       "                                           product_url  \n",
       "0    https://shopee.vn/MÔ-HÌNH-LẮP-RÁP-MINI-3D-HOẠT...  \n",
       "1    https://shopee.vn/Bộ-mô-hình-đồ-chơi-lego-lắp-...  \n",
       "2    https://shopee.vn/Bộ-mô-hình-đồ-chơi-lego-lắp-...  \n",
       "3    https://shopee.vn/Xếp-Hình-Nam-Châm-Ánh-Sáng-C...  \n",
       "4    https://shopee.vn/Bảng-ghép-hình-khối-nổi-cho-...  \n",
       "..                                                 ...  \n",
       "485  https://shopee.vn/(HÀNG-SẴN)-Lego-mèo-xinh-xắn...  \n",
       "486  https://shopee.vn/BỘ-ĐỒ-CHƠI-LEGO-NAM-CHÂM-48-...  \n",
       "487  https://shopee.vn/LEGO-Spider-Man-Series-Mini-...  \n",
       "488  https://shopee.vn/le.go-gấu-họa-sĩ-nhiếp-ảnh-g...  \n",
       "489  https://shopee.vn/Non-Lego-Phụ-Kiện-Dragon-Swo...  \n",
       "\n",
       "[490 rows x 3 columns]"
      ]
     },
     "execution_count": 8,
     "metadata": {},
     "output_type": "execute_result"
    }
   ],
   "source": [
    "dfs[0]"
   ]
  },
  {
   "cell_type": "code",
   "execution_count": 2,
   "metadata": {},
   "outputs": [],
   "source": [
    "def read_df_from_dir(directory):\n",
    "    try:\n",
    "        os.chdir(directory)\n",
    "    except FileNotFoundError:\n",
    "        print('Invalid directory.')\n",
    "    except NotADirectoryError:\n",
    "        print('Input is a file path, not a directory.')\n",
    "    except SyntaxError:\n",
    "        print('Invalid directory syntax. Change \"\\\" to \"\\\\\" or \"/\".')\n",
    "    path = os.getcwd()\n",
    "    files = os.listdir(path)\n",
    "    \n",
    "    df_list = []\n",
    "    sheet_type = ['xlsx', 'xls', 'xlsm', 'xlsb', 'odf', 'ods']\n",
    "    for f in files:\n",
    "        file_type = f.split('.')[-1]\n",
    "        if file_type == 'csv':\n",
    "            df = pd.read_csv(f)\n",
    "            df_list.append(df)\n",
    "            print(f'Read csv file {f}.')\n",
    "        elif file_type in sheet_type:\n",
    "            sheets = pd.ExcelFile(f).sheet_names\n",
    "            if len(sheets) > 1:\n",
    "                dfs = []\n",
    "                for s in sheets:\n",
    "                    dfs.append(pd.read_excel(f, sheet_name=s))\n",
    "                df_list.append(dfs)\n",
    "                print(f'Read {file_type} file {f} which has multiple sheets.')\n",
    "            else:\n",
    "                df_list.append(pd.read_excel(f))\n",
    "                print(f'Read {file_type} file {f} which has one sheet.')\n",
    "        else:\n",
    "            print(f'Non sheet type detected: {f}.')\n",
    "    return df_list, files"
   ]
  },
  {
   "cell_type": "code",
   "execution_count": 3,
   "metadata": {},
   "outputs": [
    {
     "name": "stdout",
     "output_type": "stream",
     "text": [
      "Detected OS : Windows\n",
      "_________________________________\n",
      "Current web-browser version:\t114.0.5735.134\n",
      "Current chrome-driver version:\t114.0.5735.90\n",
      "_________________________________\n"
     ]
    }
   ],
   "source": [
    "os.chdir(\"C:\\\\Users\\\\ADMIN\\\\PycharmProjects\\\\pricecrawler\")\n",
    "product_crawler = ProductFeatureExtractor(no_gui=False, proxy=False, schemas_file_path=\"schemas/product_schema.json\")"
   ]
  },
  {
   "cell_type": "code",
   "execution_count": 5,
   "metadata": {},
   "outputs": [
    {
     "name": "stdout",
     "output_type": "stream",
     "text": [
      "Read csv file đồ bơi_urls.csv.\n"
     ]
    },
    {
     "data": {
      "text/plain": [
       "['đồ bơi']"
      ]
     },
     "execution_count": 5,
     "metadata": {},
     "output_type": "execute_result"
    }
   ],
   "source": [
    "directory = \"C:\\\\Users\\\\ADMIN\\\\PycharmProjects\\\\pricecrawler\\\\test\"\n",
    "dfs, file_names = read_df_from_dir(directory)\n",
    "keyword = []\n",
    "for n in file_names:\n",
    "    prod_name = n.split('_')[0]\n",
    "    keyword.append(prod_name)\n",
    "\n",
    "keyword"
   ]
  },
  {
   "cell_type": "code",
   "execution_count": 6,
   "metadata": {},
   "outputs": [
    {
     "name": "stdout",
     "output_type": "stream",
     "text": [
      "\n",
      "\n",
      "-----------------------------------------------------------\n",
      "Crawling products for đồ bơi...\n",
      "-----------------------------------------------------------\n",
      "Crawling features for product Bộ bơi kèm mũ cho bé trai RICHKIDS\n"
     ]
    },
    {
     "name": "stderr",
     "output_type": "stream",
     "text": [
      "c:\\Users\\ADMIN\\PycharmProjects\\pricecrawler\\key_word_crawl.py:433: FutureWarning: The frame.append method is deprecated and will be removed from pandas in a future version. Use pandas.concat instead.\n",
      "  output_df = output_df.append(result, ignore_index=True)\n"
     ]
    },
    {
     "name": "stdout",
     "output_type": "stream",
     "text": [
      "Execution time: 29.022202014923096\n",
      "Crawling features for product Đồ bơi bé gái kín đáo quần đùi size đại Sunday (xanh/hồng) từ 18-60kg\n"
     ]
    },
    {
     "name": "stderr",
     "output_type": "stream",
     "text": [
      "c:\\Users\\ADMIN\\PycharmProjects\\pricecrawler\\key_word_crawl.py:433: FutureWarning: The frame.append method is deprecated and will be removed from pandas in a future version. Use pandas.concat instead.\n",
      "  output_df = output_df.append(result, ignore_index=True)\n"
     ]
    },
    {
     "name": "stdout",
     "output_type": "stream",
     "text": [
      "Execution time: 57.8293240070343\n",
      "Crawling features for product Đồ bơi bé gái bé trai, bộ bơi cho trẻ em từ 2 đến 12 tuổi, size đại 46kg  FAT GUY\n"
     ]
    },
    {
     "name": "stderr",
     "output_type": "stream",
     "text": [
      "ERROR:root:Traceback (most recent call last):\n",
      "  File \"c:\\Users\\ADMIN\\PycharmProjects\\pricecrawler\\key_word_crawl.py\", line 432, in crawl_multiple_products\n",
      "    result = self.extract_product_feature(url)\n",
      "  File \"c:\\Users\\ADMIN\\PycharmProjects\\pricecrawler\\key_word_crawl.py\", line 406, in extract_product_feature\n",
      "    result[\"num_like\"] = soup.find_all(\"div\", {\"class\": \"Ne7dEf\"})[1].text\n",
      "IndexError: list index out of range\n",
      "\n"
     ]
    },
    {
     "name": "stdout",
     "output_type": "stream",
     "text": [
      "Crawling features for product Bộ đồ bơi cho bé trai KÈM MŨ, chất liệu bền đẹp co dãn tốt, đường may chuẩn chỉnh chắc chắn cho bé 9- 30kg\n"
     ]
    },
    {
     "name": "stderr",
     "output_type": "stream",
     "text": [
      "c:\\Users\\ADMIN\\PycharmProjects\\pricecrawler\\key_word_crawl.py:433: FutureWarning: The frame.append method is deprecated and will be removed from pandas in a future version. Use pandas.concat instead.\n",
      "  output_df = output_df.append(result, ignore_index=True)\n"
     ]
    },
    {
     "name": "stdout",
     "output_type": "stream",
     "text": [
      "Execution time: 111.46752405166626\n",
      "Crawling features for product Đồ Bơi Liền Thân Bộ Đồ Bơi Rời Cho Bé Trai Họa Tiết Siêu Nhân Nhện Siêu Anh Hùng Cá Mập Hàng Cao Cấp Loại 1\n"
     ]
    },
    {
     "name": "stderr",
     "output_type": "stream",
     "text": [
      "c:\\Users\\ADMIN\\PycharmProjects\\pricecrawler\\key_word_crawl.py:433: FutureWarning: The frame.append method is deprecated and will be removed from pandas in a future version. Use pandas.concat instead.\n",
      "  output_df = output_df.append(result, ignore_index=True)\n"
     ]
    },
    {
     "name": "stdout",
     "output_type": "stream",
     "text": [
      "Execution time: 141.29893469810486\n",
      "Crawling features for product Đồ bơi bé gái 5-25kg cánh tiên liền thân BBShine, Bikini cho bé họa tiết chấm bi cực xinh xắn – DB019\n"
     ]
    },
    {
     "name": "stderr",
     "output_type": "stream",
     "text": [
      "c:\\Users\\ADMIN\\PycharmProjects\\pricecrawler\\key_word_crawl.py:433: FutureWarning: The frame.append method is deprecated and will be removed from pandas in a future version. Use pandas.concat instead.\n",
      "  output_df = output_df.append(result, ignore_index=True)\n"
     ]
    },
    {
     "name": "stdout",
     "output_type": "stream",
     "text": [
      "Execution time: 203.88603734970093\n",
      "Crawling features for product Bể bơi 1m3, 1m5, 1m8, 2m1 cho bé, hồ bơi trẻ em loại dày có đáy chống trượt an toàn\n"
     ]
    },
    {
     "name": "stderr",
     "output_type": "stream",
     "text": [
      "c:\\Users\\ADMIN\\PycharmProjects\\pricecrawler\\key_word_crawl.py:433: FutureWarning: The frame.append method is deprecated and will be removed from pandas in a future version. Use pandas.concat instead.\n",
      "  output_df = output_df.append(result, ignore_index=True)\n"
     ]
    },
    {
     "name": "stdout",
     "output_type": "stream",
     "text": [
      "Execution time: 228.87611198425293\n",
      "Crawling features for product Đồ bơi bé gái bé trai DINOKING [TẶNG MŨ BƠI] Bộ bơi liền thân trẻ em công chúa siêu anh hùng cho bé 2- 10 tuổi DB10\n"
     ]
    },
    {
     "name": "stderr",
     "output_type": "stream",
     "text": [
      "c:\\Users\\ADMIN\\PycharmProjects\\pricecrawler\\key_word_crawl.py:433: FutureWarning: The frame.append method is deprecated and will be removed from pandas in a future version. Use pandas.concat instead.\n",
      "  output_df = output_df.append(result, ignore_index=True)\n"
     ]
    },
    {
     "name": "stdout",
     "output_type": "stream",
     "text": [
      "Execution time: 273.07729482650757\n",
      "Crawling features for product Đồ bơi liền thân RICH KIDS cho bé trai và bé gái 5-10 tuổi họa tiết hoạt hình đáng yêu nhiều màu sắc\n"
     ]
    },
    {
     "name": "stderr",
     "output_type": "stream",
     "text": [
      "c:\\Users\\ADMIN\\PycharmProjects\\pricecrawler\\key_word_crawl.py:433: FutureWarning: The frame.append method is deprecated and will be removed from pandas in a future version. Use pandas.concat instead.\n",
      "  output_df = output_df.append(result, ignore_index=True)\n"
     ]
    },
    {
     "name": "stdout",
     "output_type": "stream",
     "text": [
      "Execution time: 301.935809135437\n",
      "Crawling features for product [Size M,L,XL] Bikini đồ bơi đi biển 1 mảnh khoá kéo form short kín đáo BIKINI SUNSHINE MS-P01\n"
     ]
    },
    {
     "name": "stderr",
     "output_type": "stream",
     "text": [
      "c:\\Users\\ADMIN\\PycharmProjects\\pricecrawler\\key_word_crawl.py:433: FutureWarning: The frame.append method is deprecated and will be removed from pandas in a future version. Use pandas.concat instead.\n",
      "  output_df = output_df.append(result, ignore_index=True)\n"
     ]
    },
    {
     "name": "stdout",
     "output_type": "stream",
     "text": [
      "Execution time: 327.70388174057007\n",
      "Crawling features for product Phao bơi hình thú cho bé từ 1-5 tuổi nhiều mẫu dễ thương\n"
     ]
    },
    {
     "name": "stderr",
     "output_type": "stream",
     "text": [
      "c:\\Users\\ADMIN\\PycharmProjects\\pricecrawler\\key_word_crawl.py:433: FutureWarning: The frame.append method is deprecated and will be removed from pandas in a future version. Use pandas.concat instead.\n",
      "  output_df = output_df.append(result, ignore_index=True)\n"
     ]
    },
    {
     "name": "stdout",
     "output_type": "stream",
     "text": [
      "Execution time: 353.36646461486816\n",
      "Crawling features for product (XTRA) BỂ BƠI CHO BÉ, BỂ BƠI GIA ĐÌNH 2M1 3 TẦNG, 1M8 3 TÀNG, 1M5 3 TẦNG, 1M3 3 TẦNG KÈM MIẾNG VÁ FREESHIP\n"
     ]
    },
    {
     "name": "stderr",
     "output_type": "stream",
     "text": [
      "c:\\Users\\ADMIN\\PycharmProjects\\pricecrawler\\key_word_crawl.py:433: FutureWarning: The frame.append method is deprecated and will be removed from pandas in a future version. Use pandas.concat instead.\n",
      "  output_df = output_df.append(result, ignore_index=True)\n"
     ]
    },
    {
     "name": "stdout",
     "output_type": "stream",
     "text": [
      "Execution time: 380.0519585609436\n",
      "Crawling features for product Phao bơi liền thân, phao tay đỡ ngực cho bé trai bé gái từ 14kg đến 25kg chất liệu cao cấp mềm mại (tuyển sỉ).\n"
     ]
    },
    {
     "name": "stderr",
     "output_type": "stream",
     "text": [
      "c:\\Users\\ADMIN\\PycharmProjects\\pricecrawler\\key_word_crawl.py:433: FutureWarning: The frame.append method is deprecated and will be removed from pandas in a future version. Use pandas.concat instead.\n",
      "  output_df = output_df.append(result, ignore_index=True)\n"
     ]
    },
    {
     "name": "stdout",
     "output_type": "stream",
     "text": [
      "Execution time: 408.74635195732117\n",
      "Crawling features for product Đồ bơi cho bé trai 18-50kg hàng Quảng Châu dày đẹp kèm mũ\n"
     ]
    },
    {
     "name": "stderr",
     "output_type": "stream",
     "text": [
      "c:\\Users\\ADMIN\\PycharmProjects\\pricecrawler\\key_word_crawl.py:433: FutureWarning: The frame.append method is deprecated and will be removed from pandas in a future version. Use pandas.concat instead.\n",
      "  output_df = output_df.append(result, ignore_index=True)\n"
     ]
    },
    {
     "name": "stdout",
     "output_type": "stream",
     "text": [
      "Execution time: 432.50133228302\n",
      "Crawling features for product Đồ bơi bé trai, set đồ bơi 3ct: áo, quần và mũ bơi KL cho bé\n"
     ]
    },
    {
     "name": "stderr",
     "output_type": "stream",
     "text": [
      "c:\\Users\\ADMIN\\PycharmProjects\\pricecrawler\\key_word_crawl.py:433: FutureWarning: The frame.append method is deprecated and will be removed from pandas in a future version. Use pandas.concat instead.\n",
      "  output_df = output_df.append(result, ignore_index=True)\n"
     ]
    },
    {
     "name": "stdout",
     "output_type": "stream",
     "text": [
      "Execution time: 457.18639516830444\n",
      "Crawling features for product Bộ đồ bơi Bikini áo tắm liền thân nơ lưng cho bé gái Bongkids 561\n"
     ]
    },
    {
     "name": "stderr",
     "output_type": "stream",
     "text": [
      "c:\\Users\\ADMIN\\PycharmProjects\\pricecrawler\\key_word_crawl.py:433: FutureWarning: The frame.append method is deprecated and will be removed from pandas in a future version. Use pandas.concat instead.\n",
      "  output_df = output_df.append(result, ignore_index=True)\n"
     ]
    },
    {
     "name": "stdout",
     "output_type": "stream",
     "text": [
      "Execution time: 480.9043176174164\n",
      "Crawling features for product áo bơi trẻ em đồ bơi bé gái đồ bơi bé trai Đồ bơi liền thân cho bé trai và bé gái 3-12 tuổi họa tiết hoạt hình đáng yêu nhiều màu sắc\n"
     ]
    },
    {
     "name": "stderr",
     "output_type": "stream",
     "text": [
      "c:\\Users\\ADMIN\\PycharmProjects\\pricecrawler\\key_word_crawl.py:433: FutureWarning: The frame.append method is deprecated and will be removed from pandas in a future version. Use pandas.concat instead.\n",
      "  output_df = output_df.append(result, ignore_index=True)\n"
     ]
    },
    {
     "name": "stdout",
     "output_type": "stream",
     "text": [
      "Execution time: 506.3496367931366\n",
      "Crawling features for product Áo Phao Tập Bơi Trẻ Em 2-12 Tuổi Mẫu ABC\n"
     ]
    },
    {
     "name": "stderr",
     "output_type": "stream",
     "text": [
      "c:\\Users\\ADMIN\\PycharmProjects\\pricecrawler\\key_word_crawl.py:433: FutureWarning: The frame.append method is deprecated and will be removed from pandas in a future version. Use pandas.concat instead.\n",
      "  output_df = output_df.append(result, ignore_index=True)\n"
     ]
    },
    {
     "name": "stdout",
     "output_type": "stream",
     "text": [
      "Execution time: 581.4009919166565\n",
      "Crawling features for product Bộ Đồ Bơi Bikini Ba Mảnh Thời Trang Quyến Rũ Cho Nữ\n"
     ]
    },
    {
     "name": "stderr",
     "output_type": "stream",
     "text": [
      "c:\\Users\\ADMIN\\PycharmProjects\\pricecrawler\\key_word_crawl.py:433: FutureWarning: The frame.append method is deprecated and will be removed from pandas in a future version. Use pandas.concat instead.\n",
      "  output_df = output_df.append(result, ignore_index=True)\n"
     ]
    },
    {
     "name": "stdout",
     "output_type": "stream",
     "text": [
      "Execution time: 650.6616508960724\n",
      "Crawling features for product Bikini đi biển Đùi Quảng Châu Đồ Bơi Nữ Dài Tay chống nắng 2 mảnh Chất Đẹp 2101 2201 k5T4-2\n"
     ]
    },
    {
     "name": "stderr",
     "output_type": "stream",
     "text": [
      "c:\\Users\\ADMIN\\PycharmProjects\\pricecrawler\\key_word_crawl.py:433: FutureWarning: The frame.append method is deprecated and will be removed from pandas in a future version. Use pandas.concat instead.\n",
      "  output_df = output_df.append(result, ignore_index=True)\n"
     ]
    },
    {
     "name": "stdout",
     "output_type": "stream",
     "text": [
      "Execution time: 676.5118298530579\n",
      "Crawling features for product Áo phao bơi INTEX 59661\n"
     ]
    },
    {
     "name": "stderr",
     "output_type": "stream",
     "text": [
      "c:\\Users\\ADMIN\\PycharmProjects\\pricecrawler\\key_word_crawl.py:433: FutureWarning: The frame.append method is deprecated and will be removed from pandas in a future version. Use pandas.concat instead.\n",
      "  output_df = output_df.append(result, ignore_index=True)\n"
     ]
    },
    {
     "name": "stdout",
     "output_type": "stream",
     "text": [
      "Execution time: 734.0884554386139\n",
      "Crawling features for product Đồ bơi bé gái liền thân hoạ tiết thỏ dễ thương, bikini cho bé gái\n"
     ]
    },
    {
     "name": "stderr",
     "output_type": "stream",
     "text": [
      "c:\\Users\\ADMIN\\PycharmProjects\\pricecrawler\\key_word_crawl.py:433: FutureWarning: The frame.append method is deprecated and will be removed from pandas in a future version. Use pandas.concat instead.\n",
      "  output_df = output_df.append(result, ignore_index=True)\n"
     ]
    },
    {
     "name": "stdout",
     "output_type": "stream",
     "text": [
      "Execution time: 759.7503533363342\n",
      "Crawling features for product Quần bơi nam short vải dày co giãn 4 chiều thoải mái hoạt động\n"
     ]
    },
    {
     "name": "stderr",
     "output_type": "stream",
     "text": [
      "c:\\Users\\ADMIN\\PycharmProjects\\pricecrawler\\key_word_crawl.py:433: FutureWarning: The frame.append method is deprecated and will be removed from pandas in a future version. Use pandas.concat instead.\n",
      "  output_df = output_df.append(result, ignore_index=True)\n"
     ]
    },
    {
     "name": "stdout",
     "output_type": "stream",
     "text": [
      "Execution time: 786.354382276535\n",
      "Crawling features for product Đồ tập gym nữ, set đồ tập erobic đi biển dã ngoại đi bơi nữ chân váy 2 lớp áo croptop rút dây (Set vay03)\n"
     ]
    },
    {
     "name": "stderr",
     "output_type": "stream",
     "text": [
      "c:\\Users\\ADMIN\\PycharmProjects\\pricecrawler\\key_word_crawl.py:433: FutureWarning: The frame.append method is deprecated and will be removed from pandas in a future version. Use pandas.concat instead.\n",
      "  output_df = output_df.append(result, ignore_index=True)\n"
     ]
    },
    {
     "name": "stdout",
     "output_type": "stream",
     "text": [
      "Execution time: 819.052820444107\n",
      "Crawling features for product Bộ jumsuits đen phối viền trắng,bộ liền thân ôm body sexy quyến rũ,bộ đồ bơi đi biển B704 SUTANO\n"
     ]
    },
    {
     "name": "stderr",
     "output_type": "stream",
     "text": [
      "c:\\Users\\ADMIN\\PycharmProjects\\pricecrawler\\key_word_crawl.py:433: FutureWarning: The frame.append method is deprecated and will be removed from pandas in a future version. Use pandas.concat instead.\n",
      "  output_df = output_df.append(result, ignore_index=True)\n"
     ]
    },
    {
     "name": "stdout",
     "output_type": "stream",
     "text": [
      "Execution time: 849.0054895877838\n",
      "Crawling features for product (8-20kg) Bộ quần áo bơi kèm mũ nhiều hình - Bộ quần áo cho bé trai QATE960 TB254\n"
     ]
    },
    {
     "name": "stderr",
     "output_type": "stream",
     "text": [
      "c:\\Users\\ADMIN\\PycharmProjects\\pricecrawler\\key_word_crawl.py:433: FutureWarning: The frame.append method is deprecated and will be removed from pandas in a future version. Use pandas.concat instead.\n",
      "  output_df = output_df.append(result, ignore_index=True)\n"
     ]
    },
    {
     "name": "stdout",
     "output_type": "stream",
     "text": [
      "Execution time: 878.9625110626221\n",
      "Crawling features for product Phao Bơi Tròn Tập Bơi Cho Bé 0-16 Tuổi Nhiều Hình\n"
     ]
    },
    {
     "name": "stderr",
     "output_type": "stream",
     "text": [
      "c:\\Users\\ADMIN\\PycharmProjects\\pricecrawler\\key_word_crawl.py:433: FutureWarning: The frame.append method is deprecated and will be removed from pandas in a future version. Use pandas.concat instead.\n",
      "  output_df = output_df.append(result, ignore_index=True)\n"
     ]
    },
    {
     "name": "stdout",
     "output_type": "stream",
     "text": [
      "Execution time: 906.7741816043854\n",
      "Crawling features for product Đồ bơi bé gái size đại 20-30kg chất thun bơi, bikini cho bé gái áo+chân váy có quần bảo hộ\n"
     ]
    },
    {
     "name": "stderr",
     "output_type": "stream",
     "text": [
      "c:\\Users\\ADMIN\\PycharmProjects\\pricecrawler\\key_word_crawl.py:433: FutureWarning: The frame.append method is deprecated and will be removed from pandas in a future version. Use pandas.concat instead.\n",
      "  output_df = output_df.append(result, ignore_index=True)\n"
     ]
    },
    {
     "name": "stdout",
     "output_type": "stream",
     "text": [
      "Execution time: 937.4874272346497\n",
      "Crawling features for product Áo phao bơi người lớn và trẻ em, áo phao cứu hộ cao cấp\n"
     ]
    },
    {
     "name": "stderr",
     "output_type": "stream",
     "text": [
      "c:\\Users\\ADMIN\\PycharmProjects\\pricecrawler\\key_word_crawl.py:433: FutureWarning: The frame.append method is deprecated and will be removed from pandas in a future version. Use pandas.concat instead.\n",
      "  output_df = output_df.append(result, ignore_index=True)\n"
     ]
    },
    {
     "name": "stdout",
     "output_type": "stream",
     "text": [
      "Execution time: 965.4398317337036\n",
      "Crawling features for product Đồ bơi bé trai bé gái, bikini cho bé kèm mũ hoạ tiết động vật dễ thương\n"
     ]
    },
    {
     "name": "stderr",
     "output_type": "stream",
     "text": [
      "c:\\Users\\ADMIN\\PycharmProjects\\pricecrawler\\key_word_crawl.py:433: FutureWarning: The frame.append method is deprecated and will be removed from pandas in a future version. Use pandas.concat instead.\n",
      "  output_df = output_df.append(result, ignore_index=True)\n"
     ]
    },
    {
     "name": "stdout",
     "output_type": "stream",
     "text": [
      "Execution time: 993.3083596229553\n",
      "Crawling features for product (Sẵn) Bộ đồ bơi nữ hãng YLIKE áo tắm hai mảnh ngắn tay chất thun lạnh hàn quốc quần 2 lớp che bụng kín đáo\n"
     ]
    },
    {
     "name": "stderr",
     "output_type": "stream",
     "text": [
      "c:\\Users\\ADMIN\\PycharmProjects\\pricecrawler\\key_word_crawl.py:433: FutureWarning: The frame.append method is deprecated and will be removed from pandas in a future version. Use pandas.concat instead.\n",
      "  output_df = output_df.append(result, ignore_index=True)\n"
     ]
    },
    {
     "name": "stdout",
     "output_type": "stream",
     "text": [
      "Execution time: 1036.4598932266235\n",
      "Crawling features for product Đồ Bơi Bé Trai Họa Tiêt Cá Mập Đáng Yêu, Chất Liệu Bền Đẹp Co Dãn Tốt HB06\n"
     ]
    },
    {
     "name": "stderr",
     "output_type": "stream",
     "text": [
      "c:\\Users\\ADMIN\\PycharmProjects\\pricecrawler\\key_word_crawl.py:433: FutureWarning: The frame.append method is deprecated and will be removed from pandas in a future version. Use pandas.concat instead.\n",
      "  output_df = output_df.append(result, ignore_index=True)\n"
     ]
    },
    {
     "name": "stdout",
     "output_type": "stream",
     "text": [
      "Execution time: 1084.9435391426086\n",
      "Crawling features for product [mua 1 được 4] sét đồ bơi 4 chi tiết cho bé Size đại (8-35kg)\n"
     ]
    },
    {
     "name": "stderr",
     "output_type": "stream",
     "text": [
      "c:\\Users\\ADMIN\\PycharmProjects\\pricecrawler\\key_word_crawl.py:433: FutureWarning: The frame.append method is deprecated and will be removed from pandas in a future version. Use pandas.concat instead.\n",
      "  output_df = output_df.append(result, ignore_index=True)\n"
     ]
    },
    {
     "name": "stdout",
     "output_type": "stream",
     "text": [
      "Execution time: 1112.982127904892\n",
      "Crawling features for product BỂ BƠI CHO BÉ, BỂ BƠI GIA ĐÌNH 1M8 3 TÀNG, 1M5 3 TẦNG, 1M3 3 TẦNG KÈM MIẾNG VÁ FSS XTRA\n"
     ]
    },
    {
     "name": "stderr",
     "output_type": "stream",
     "text": [
      "c:\\Users\\ADMIN\\PycharmProjects\\pricecrawler\\key_word_crawl.py:433: FutureWarning: The frame.append method is deprecated and will be removed from pandas in a future version. Use pandas.concat instead.\n",
      "  output_df = output_df.append(result, ignore_index=True)\n"
     ]
    },
    {
     "name": "stdout",
     "output_type": "stream",
     "text": [
      "Execution time: 1138.7601673603058\n",
      "Crawling features for product Bikini cho bé gái - Bikini Thổ Cẩm đi bơi đi biển xinh xắn cho bé từ 1-8 Tuổi\n"
     ]
    },
    {
     "name": "stderr",
     "output_type": "stream",
     "text": [
      "c:\\Users\\ADMIN\\PycharmProjects\\pricecrawler\\key_word_crawl.py:433: FutureWarning: The frame.append method is deprecated and will be removed from pandas in a future version. Use pandas.concat instead.\n",
      "  output_df = output_df.append(result, ignore_index=True)\n"
     ]
    },
    {
     "name": "stdout",
     "output_type": "stream",
     "text": [
      "Execution time: 1194.9957518577576\n",
      "Crawling features for product (8-30kg) Đồ bơi bé gái - Bikini cho bé gái QATE923 TB262 TN264 TB318\n"
     ]
    },
    {
     "name": "stderr",
     "output_type": "stream",
     "text": [
      "c:\\Users\\ADMIN\\PycharmProjects\\pricecrawler\\key_word_crawl.py:433: FutureWarning: The frame.append method is deprecated and will be removed from pandas in a future version. Use pandas.concat instead.\n",
      "  output_df = output_df.append(result, ignore_index=True)\n"
     ]
    },
    {
     "name": "stdout",
     "output_type": "stream",
     "text": [
      "Execution time: 1221.4384894371033\n",
      "Crawling features for product Phao bơi hình tròn 2 lớp dày dặn 60 - 70 - 80 - 90 cm\n"
     ]
    },
    {
     "name": "stderr",
     "output_type": "stream",
     "text": [
      "c:\\Users\\ADMIN\\PycharmProjects\\pricecrawler\\key_word_crawl.py:433: FutureWarning: The frame.append method is deprecated and will be removed from pandas in a future version. Use pandas.concat instead.\n",
      "  output_df = output_df.append(result, ignore_index=True)\n"
     ]
    },
    {
     "name": "stdout",
     "output_type": "stream",
     "text": [
      "Execution time: 1249.1676490306854\n",
      "Crawling features for product Khăn Tắm Choàng Cho Bé Chống Lạnh Khi Đi Bơi, Đi Biển Có Mũ Trùm Đầu\n"
     ]
    },
    {
     "name": "stderr",
     "output_type": "stream",
     "text": [
      "c:\\Users\\ADMIN\\PycharmProjects\\pricecrawler\\key_word_crawl.py:433: FutureWarning: The frame.append method is deprecated and will be removed from pandas in a future version. Use pandas.concat instead.\n",
      "  output_df = output_df.append(result, ignore_index=True)\n"
     ]
    },
    {
     "name": "stdout",
     "output_type": "stream",
     "text": [
      "Execution time: 1275.8949041366577\n",
      "Crawling features for product Bộ đồ bơi bé gái, bộ bơi bé gái dài tay kín đáo quần đùi kèm váy size đại Sunday (15-50kg)\n"
     ]
    },
    {
     "name": "stderr",
     "output_type": "stream",
     "text": [
      "c:\\Users\\ADMIN\\PycharmProjects\\pricecrawler\\key_word_crawl.py:433: FutureWarning: The frame.append method is deprecated and will be removed from pandas in a future version. Use pandas.concat instead.\n",
      "  output_df = output_df.append(result, ignore_index=True)\n"
     ]
    },
    {
     "name": "stdout",
     "output_type": "stream",
     "text": [
      "Execution time: 1304.8873600959778\n",
      "Crawling features for product Set 2 Phao Tay Tập Bơi Cho Bé 1-6 Tuổi Hoạt Hình\n"
     ]
    },
    {
     "name": "stderr",
     "output_type": "stream",
     "text": [
      "c:\\Users\\ADMIN\\PycharmProjects\\pricecrawler\\key_word_crawl.py:433: FutureWarning: The frame.append method is deprecated and will be removed from pandas in a future version. Use pandas.concat instead.\n",
      "  output_df = output_df.append(result, ignore_index=True)\n"
     ]
    },
    {
     "name": "stdout",
     "output_type": "stream",
     "text": [
      "Execution time: 1329.5671300888062\n",
      "Crawling features for product [TẶNG KÈM BÓNG NHỰA+ MIẾNG DÁN] Bể bơi CHỐNG TRƯỢT HÀNG LOẠI 1 3 tầng\n"
     ]
    },
    {
     "name": "stderr",
     "output_type": "stream",
     "text": [
      "c:\\Users\\ADMIN\\PycharmProjects\\pricecrawler\\key_word_crawl.py:433: FutureWarning: The frame.append method is deprecated and will be removed from pandas in a future version. Use pandas.concat instead.\n",
      "  output_df = output_df.append(result, ignore_index=True)\n"
     ]
    },
    {
     "name": "stdout",
     "output_type": "stream",
     "text": [
      "Execution time: 1359.3888087272644\n",
      "Crawling features for product Áo Phao Tập Bơi Trẻ Em Hoạt Hình Từ 2-12 Tuổi\n"
     ]
    },
    {
     "name": "stderr",
     "output_type": "stream",
     "text": [
      "c:\\Users\\ADMIN\\PycharmProjects\\pricecrawler\\key_word_crawl.py:433: FutureWarning: The frame.append method is deprecated and will be removed from pandas in a future version. Use pandas.concat instead.\n",
      "  output_df = output_df.append(result, ignore_index=True)\n"
     ]
    },
    {
     "name": "stdout",
     "output_type": "stream",
     "text": [
      "Execution time: 1384.2334752082825\n",
      "Crawling features for product Phao bơi xỏ chân hình con thú đáng yêu cho bé.Kaori86\n"
     ]
    },
    {
     "name": "stderr",
     "output_type": "stream",
     "text": [
      "c:\\Users\\ADMIN\\PycharmProjects\\pricecrawler\\key_word_crawl.py:433: FutureWarning: The frame.append method is deprecated and will be removed from pandas in a future version. Use pandas.concat instead.\n",
      "  output_df = output_df.append(result, ignore_index=True)\n"
     ]
    },
    {
     "name": "stdout",
     "output_type": "stream",
     "text": [
      "Execution time: 1405.7328906059265\n",
      "Crawling features for product Bộ Đồ Bơi Bikini Ba Mảnh Thời Trang Âu Mỹ Quyến Rũ Cho Nữ\n"
     ]
    },
    {
     "name": "stderr",
     "output_type": "stream",
     "text": [
      "c:\\Users\\ADMIN\\PycharmProjects\\pricecrawler\\key_word_crawl.py:433: FutureWarning: The frame.append method is deprecated and will be removed from pandas in a future version. Use pandas.concat instead.\n",
      "  output_df = output_df.append(result, ignore_index=True)\n"
     ]
    },
    {
     "name": "stdout",
     "output_type": "stream",
     "text": [
      "Execution time: 1477.6032500267029\n",
      "Crawling features for product (Cao cấp) Bikini ba mảnh, thời trang và sexy treo đồ bơi XLYZB155\n"
     ]
    },
    {
     "name": "stderr",
     "output_type": "stream",
     "text": [
      "c:\\Users\\ADMIN\\PycharmProjects\\pricecrawler\\key_word_crawl.py:433: FutureWarning: The frame.append method is deprecated and will be removed from pandas in a future version. Use pandas.concat instead.\n",
      "  output_df = output_df.append(result, ignore_index=True)\n"
     ]
    },
    {
     "name": "stdout",
     "output_type": "stream",
     "text": [
      "Execution time: 1514.6244263648987\n",
      "Crawling features for product Bikini Đồ Bơi Nữ Hai Mãnh Badblo Phong Cách Hàn Quốc BELLA ( Video Cận Chất Shop Tự Quay)\n"
     ]
    },
    {
     "name": "stderr",
     "output_type": "stream",
     "text": [
      "c:\\Users\\ADMIN\\PycharmProjects\\pricecrawler\\key_word_crawl.py:433: FutureWarning: The frame.append method is deprecated and will be removed from pandas in a future version. Use pandas.concat instead.\n",
      "  output_df = output_df.append(result, ignore_index=True)\n"
     ]
    },
    {
     "name": "stdout",
     "output_type": "stream",
     "text": [
      "Execution time: 1541.2456815242767\n",
      "Crawling features for product Đồ Bơi Bé Trai KÈM MŨ, Đồ Bơi Trẻ Em Thiết Kế Họa Tiết Cá Mập Chất Liệu Co Giãn Cho Bé 15-50kg\n"
     ]
    },
    {
     "name": "stderr",
     "output_type": "stream",
     "text": [
      "c:\\Users\\ADMIN\\PycharmProjects\\pricecrawler\\key_word_crawl.py:433: FutureWarning: The frame.append method is deprecated and will be removed from pandas in a future version. Use pandas.concat instead.\n",
      "  output_df = output_df.append(result, ignore_index=True)\n"
     ]
    },
    {
     "name": "stdout",
     "output_type": "stream",
     "text": [
      "Execution time: 1566.9889032840729\n",
      "Crawling features for product Quần bơi nam dáng lửng Sport vải dày co giãn 4 chiều thoải mái hoạt động dưới nước\n"
     ]
    },
    {
     "name": "stderr",
     "output_type": "stream",
     "text": [
      "c:\\Users\\ADMIN\\PycharmProjects\\pricecrawler\\key_word_crawl.py:433: FutureWarning: The frame.append method is deprecated and will be removed from pandas in a future version. Use pandas.concat instead.\n",
      "  output_df = output_df.append(result, ignore_index=True)\n"
     ]
    },
    {
     "name": "stdout",
     "output_type": "stream",
     "text": [
      "Execution time: 1597.1975183486938\n",
      "Crawling features for product Bikini basic - Đồ bơi 2 mảnh siêu sang chảnh (nhiều màu)\n"
     ]
    },
    {
     "name": "stderr",
     "output_type": "stream",
     "text": [
      "c:\\Users\\ADMIN\\PycharmProjects\\pricecrawler\\key_word_crawl.py:433: FutureWarning: The frame.append method is deprecated and will be removed from pandas in a future version. Use pandas.concat instead.\n",
      "  output_df = output_df.append(result, ignore_index=True)\n"
     ]
    },
    {
     "name": "stdout",
     "output_type": "stream",
     "text": [
      "Execution time: 1649.5818622112274\n",
      "Crawling features for product Bikini đồ bơi nữ có tay khóa kéo màu đen form short sành điệu kín đáo KONKUN MS85\n"
     ]
    },
    {
     "name": "stderr",
     "output_type": "stream",
     "text": [
      "c:\\Users\\ADMIN\\PycharmProjects\\pricecrawler\\key_word_crawl.py:433: FutureWarning: The frame.append method is deprecated and will be removed from pandas in a future version. Use pandas.concat instead.\n",
      "  output_df = output_df.append(result, ignore_index=True)\n"
     ]
    },
    {
     "name": "stdout",
     "output_type": "stream",
     "text": [
      "Execution time: 1676.3192884922028\n",
      "Crawling features for product (8-30kg) Bộ bơi bé gái Bikini bé gái TB13 TN265 TB304 TN305\n"
     ]
    },
    {
     "name": "stderr",
     "output_type": "stream",
     "text": [
      "c:\\Users\\ADMIN\\PycharmProjects\\pricecrawler\\key_word_crawl.py:433: FutureWarning: The frame.append method is deprecated and will be removed from pandas in a future version. Use pandas.concat instead.\n",
      "  output_df = output_df.append(result, ignore_index=True)\n"
     ]
    },
    {
     "name": "stdout",
     "output_type": "stream",
     "text": [
      "Execution time: 1703.9729311466217\n",
      "Crawling features for product Bộ đồ bơi  nữ V0074, 2 mảnh quần đùi dáng thể thao năng động đi biển, đi bơi dễ vận động và kín đáo\n"
     ]
    },
    {
     "name": "stderr",
     "output_type": "stream",
     "text": [
      "c:\\Users\\ADMIN\\PycharmProjects\\pricecrawler\\key_word_crawl.py:433: FutureWarning: The frame.append method is deprecated and will be removed from pandas in a future version. Use pandas.concat instead.\n",
      "  output_df = output_df.append(result, ignore_index=True)\n"
     ]
    },
    {
     "name": "stdout",
     "output_type": "stream",
     "text": [
      "Execution time: 1728.7578728199005\n",
      "Crawling features for product Đồ Bơi Bé Gái, Bộ Bơi Bé Gái Tay Ngắn Demeone B04 Họa Tiết Sunday Chất Liệu Co Giãn Cho Bé Từ 15-60kg\n"
     ]
    },
    {
     "name": "stderr",
     "output_type": "stream",
     "text": [
      "c:\\Users\\ADMIN\\PycharmProjects\\pricecrawler\\key_word_crawl.py:433: FutureWarning: The frame.append method is deprecated and will be removed from pandas in a future version. Use pandas.concat instead.\n",
      "  output_df = output_df.append(result, ignore_index=True)\n"
     ]
    },
    {
     "name": "stdout",
     "output_type": "stream",
     "text": [
      "Execution time: 1757.5451095104218\n",
      "Crawling features for product Bikini nữ dài tay khóa kéo Đồ bơi nữ cộc tay quần đùi kín đáo\n"
     ]
    },
    {
     "name": "stderr",
     "output_type": "stream",
     "text": [
      "c:\\Users\\ADMIN\\PycharmProjects\\pricecrawler\\key_word_crawl.py:433: FutureWarning: The frame.append method is deprecated and will be removed from pandas in a future version. Use pandas.concat instead.\n",
      "  output_df = output_df.append(result, ignore_index=True)\n"
     ]
    },
    {
     "name": "stdout",
     "output_type": "stream",
     "text": [
      "Execution time: 1781.422663450241\n",
      "Crawling features for product Đồ Bơi Cho Bé Gái hãng YLIKE Hàng Loại 1 (Từ 10kg đến size Đại)\n"
     ]
    },
    {
     "name": "stderr",
     "output_type": "stream",
     "text": [
      "c:\\Users\\ADMIN\\PycharmProjects\\pricecrawler\\key_word_crawl.py:433: FutureWarning: The frame.append method is deprecated and will be removed from pandas in a future version. Use pandas.concat instead.\n",
      "  output_df = output_df.append(result, ignore_index=True)\n"
     ]
    },
    {
     "name": "stdout",
     "output_type": "stream",
     "text": [
      "Execution time: 1807.0830147266388\n",
      "Crawling features for product Bộ Đồ bơi cho bé gái 3 chi tiết, bộ bơi cho trẻ em từ 2 đến 12 tuổi, size đại 46kg bikini SEA\n"
     ]
    },
    {
     "name": "stderr",
     "output_type": "stream",
     "text": [
      "c:\\Users\\ADMIN\\PycharmProjects\\pricecrawler\\key_word_crawl.py:433: FutureWarning: The frame.append method is deprecated and will be removed from pandas in a future version. Use pandas.concat instead.\n",
      "  output_df = output_df.append(result, ignore_index=True)\n"
     ]
    },
    {
     "name": "stdout",
     "output_type": "stream",
     "text": [
      "Execution time: 1839.9476735591888\n",
      "Crawling features for product Bộ quần áo tâp gym yoga erobic nữ áo croptop cộc tay kết hợp quần đùi 2 lớp Eosport kèm mút ( Bộ Áo CT- 2 lớp/Ng05)\n"
     ]
    },
    {
     "name": "stderr",
     "output_type": "stream",
     "text": [
      "c:\\Users\\ADMIN\\PycharmProjects\\pricecrawler\\key_word_crawl.py:433: FutureWarning: The frame.append method is deprecated and will be removed from pandas in a future version. Use pandas.concat instead.\n",
      "  output_df = output_df.append(result, ignore_index=True)\n"
     ]
    },
    {
     "name": "stdout",
     "output_type": "stream",
     "text": [
      "Execution time: 1865.6967964172363\n",
      "Crawling features for product Đồ bơi bé gái Set 3 chi tiết, bộ bơi cho trẻ em từ 2 đến 12 tuổi, size đại 46kg bikini SEA\n"
     ]
    },
    {
     "name": "stderr",
     "output_type": "stream",
     "text": [
      "c:\\Users\\ADMIN\\PycharmProjects\\pricecrawler\\key_word_crawl.py:433: FutureWarning: The frame.append method is deprecated and will be removed from pandas in a future version. Use pandas.concat instead.\n",
      "  output_df = output_df.append(result, ignore_index=True)\n"
     ]
    },
    {
     "name": "stdout",
     "output_type": "stream",
     "text": [
      "Execution time: 1898.7678961753845\n",
      "Crawling features for product jumpsuit đùi hai dây bản viền nữ, áo liền quần body không mút G50\n"
     ]
    },
    {
     "name": "stderr",
     "output_type": "stream",
     "text": [
      "c:\\Users\\ADMIN\\PycharmProjects\\pricecrawler\\key_word_crawl.py:433: FutureWarning: The frame.append method is deprecated and will be removed from pandas in a future version. Use pandas.concat instead.\n",
      "  output_df = output_df.append(result, ignore_index=True)\n"
     ]
    },
    {
     "name": "stdout",
     "output_type": "stream",
     "text": [
      "Execution time: 1927.701670885086\n",
      "Crawling features for product Bộ Đồ Bơi Ba Mảnh Chất Liệu Nhung\n"
     ]
    },
    {
     "name": "stderr",
     "output_type": "stream",
     "text": [
      "c:\\Users\\ADMIN\\PycharmProjects\\pricecrawler\\key_word_crawl.py:433: FutureWarning: The frame.append method is deprecated and will be removed from pandas in a future version. Use pandas.concat instead.\n",
      "  output_df = output_df.append(result, ignore_index=True)\n"
     ]
    },
    {
     "name": "stdout",
     "output_type": "stream",
     "text": [
      "Execution time: 1982.3208339214325\n",
      "Crawling features for product Quần bơi nam dáng lửng sport co giãn 4 chiều thoải mái STORE HERA QBN01\n"
     ]
    },
    {
     "name": "stderr",
     "output_type": "stream",
     "text": [
      "c:\\Users\\ADMIN\\PycharmProjects\\pricecrawler\\key_word_crawl.py:433: FutureWarning: The frame.append method is deprecated and will be removed from pandas in a future version. Use pandas.concat instead.\n",
      "  output_df = output_df.append(result, ignore_index=True)\n"
     ]
    },
    {
     "name": "stdout",
     "output_type": "stream",
     "text": [
      "Execution time: 2005.0777831077576\n",
      "Crawling features for product Quần Bơi Nam Dạng Đùi Chính Hãng HAIZID Co Giãn 4 Chiều Kháng Clo Thoáng Khí Không Thấm Nước Nhanh Khô\n"
     ]
    },
    {
     "name": "stderr",
     "output_type": "stream",
     "text": [
      "c:\\Users\\ADMIN\\PycharmProjects\\pricecrawler\\key_word_crawl.py:433: FutureWarning: The frame.append method is deprecated and will be removed from pandas in a future version. Use pandas.concat instead.\n",
      "  output_df = output_df.append(result, ignore_index=True)\n"
     ]
    },
    {
     "name": "stdout",
     "output_type": "stream",
     "text": [
      "Execution time: 2032.657719373703\n",
      "Crawling features for product Set bộ đồ bơi đi biển, set bikini tay dài-VD912\n"
     ]
    },
    {
     "name": "stderr",
     "output_type": "stream",
     "text": [
      "c:\\Users\\ADMIN\\PycharmProjects\\pricecrawler\\key_word_crawl.py:433: FutureWarning: The frame.append method is deprecated and will be removed from pandas in a future version. Use pandas.concat instead.\n",
      "  output_df = output_df.append(result, ignore_index=True)\n"
     ]
    },
    {
     "name": "stdout",
     "output_type": "stream",
     "text": [
      "Execution time: 2060.228673219681\n",
      "Crawling features for product Áo tập bra gym yoga thể thao nữ Luxury Essential gợi cảm Today U Wear\n"
     ]
    },
    {
     "name": "stderr",
     "output_type": "stream",
     "text": [
      "c:\\Users\\ADMIN\\PycharmProjects\\pricecrawler\\key_word_crawl.py:433: FutureWarning: The frame.append method is deprecated and will be removed from pandas in a future version. Use pandas.concat instead.\n",
      "  output_df = output_df.append(result, ignore_index=True)\n"
     ]
    },
    {
     "name": "stdout",
     "output_type": "stream",
     "text": [
      "Execution time: 2100.298808336258\n",
      "Crawling features for product 14-45kg Bộ thể thao ba lỗ, sát nách thông hơi BNO KIDS\n"
     ]
    },
    {
     "name": "stderr",
     "output_type": "stream",
     "text": [
      "c:\\Users\\ADMIN\\PycharmProjects\\pricecrawler\\key_word_crawl.py:433: FutureWarning: The frame.append method is deprecated and will be removed from pandas in a future version. Use pandas.concat instead.\n",
      "  output_df = output_df.append(result, ignore_index=True)\n"
     ]
    },
    {
     "name": "stdout",
     "output_type": "stream",
     "text": [
      "Execution time: 2173.2145178318024\n",
      "Crawling features for product Bikini đi biển kín đáo 1 mảnh liền váy CÓ MÚT- Đồ bơi nữ tay dài liền mảnh quần SHORT bên trong - shopnabi TD1MLV_DKTS\n"
     ]
    },
    {
     "name": "stderr",
     "output_type": "stream",
     "text": [
      "c:\\Users\\ADMIN\\PycharmProjects\\pricecrawler\\key_word_crawl.py:433: FutureWarning: The frame.append method is deprecated and will be removed from pandas in a future version. Use pandas.concat instead.\n",
      "  output_df = output_df.append(result, ignore_index=True)\n"
     ]
    },
    {
     "name": "stdout",
     "output_type": "stream",
     "text": [
      "Execution time: 2204.912830591202\n",
      "Crawling features for product [50 Mẫu] Đồ Bơi Bé Trai Liền Thân 1-5 Tuổi | Đồ Bơi Cho Bé Trai Hình Khủng Long Dễ Thương\n"
     ]
    },
    {
     "name": "stderr",
     "output_type": "stream",
     "text": [
      "c:\\Users\\ADMIN\\PycharmProjects\\pricecrawler\\key_word_crawl.py:433: FutureWarning: The frame.append method is deprecated and will be removed from pandas in a future version. Use pandas.concat instead.\n",
      "  output_df = output_df.append(result, ignore_index=True)\n"
     ]
    },
    {
     "name": "stdout",
     "output_type": "stream",
     "text": [
      "Execution time: 2236.9852516651154\n",
      "Crawling features for product Bộ Đồ Bơi Hình Cá Mập Kèm Mũ Trùm Size Lớn 10-50KG Dành Cho Bé Trai\n"
     ]
    },
    {
     "name": "stderr",
     "output_type": "stream",
     "text": [
      "c:\\Users\\ADMIN\\PycharmProjects\\pricecrawler\\key_word_crawl.py:433: FutureWarning: The frame.append method is deprecated and will be removed from pandas in a future version. Use pandas.concat instead.\n",
      "  output_df = output_df.append(result, ignore_index=True)\n"
     ]
    },
    {
     "name": "stdout",
     "output_type": "stream",
     "text": [
      "Execution time: 2263.8935878276825\n",
      "Crawling features for product Quần bơi nam lửng phong cách năng động sỉ( tặng kèm cặp nhét tai xịn 15 k )\n"
     ]
    },
    {
     "name": "stderr",
     "output_type": "stream",
     "text": [
      "c:\\Users\\ADMIN\\PycharmProjects\\pricecrawler\\key_word_crawl.py:433: FutureWarning: The frame.append method is deprecated and will be removed from pandas in a future version. Use pandas.concat instead.\n",
      "  output_df = output_df.append(result, ignore_index=True)\n"
     ]
    },
    {
     "name": "stdout",
     "output_type": "stream",
     "text": [
      "Execution time: 2289.6669170856476\n",
      "Crawling features for product ✦♛✦đồ bơi bé trai,Bộ Đồ Bơi Bảo Vệ Chống Nắng Dành Cho Bé Trai 1-6 Tuổi\n"
     ]
    },
    {
     "name": "stderr",
     "output_type": "stream",
     "text": [
      "c:\\Users\\ADMIN\\PycharmProjects\\pricecrawler\\key_word_crawl.py:433: FutureWarning: The frame.append method is deprecated and will be removed from pandas in a future version. Use pandas.concat instead.\n",
      "  output_df = output_df.append(result, ignore_index=True)\n"
     ]
    },
    {
     "name": "stdout",
     "output_type": "stream",
     "text": [
      "Execution time: 2317.4222140312195\n",
      "Crawling features for product Phao bơi cho bé [Hàng có sẵn, ship luôn] Phao liền thân đỡ ngực tập bơi (Ảnh thật)\n"
     ]
    },
    {
     "name": "stderr",
     "output_type": "stream",
     "text": [
      "c:\\Users\\ADMIN\\PycharmProjects\\pricecrawler\\key_word_crawl.py:433: FutureWarning: The frame.append method is deprecated and will be removed from pandas in a future version. Use pandas.concat instead.\n",
      "  output_df = output_df.append(result, ignore_index=True)\n"
     ]
    },
    {
     "name": "stdout",
     "output_type": "stream",
     "text": [
      "Execution time: 2346.352882862091\n",
      "Crawling features for product Bộ đồ bơi bé gái, bộ bơi bé gái và Mẹ  kín đáo quần đùi kèm váy size đại (20kg đến 60kg)\n"
     ]
    },
    {
     "name": "stderr",
     "output_type": "stream",
     "text": [
      "c:\\Users\\ADMIN\\PycharmProjects\\pricecrawler\\key_word_crawl.py:433: FutureWarning: The frame.append method is deprecated and will be removed from pandas in a future version. Use pandas.concat instead.\n",
      "  output_df = output_df.append(result, ignore_index=True)\n"
     ]
    },
    {
     "name": "stdout",
     "output_type": "stream",
     "text": [
      "Execution time: 2371.586134672165\n",
      "Crawling features for product Bộ đồ bơi bé gái, bộ bơi bé gái Cộc tay SÙRFING kín đáo quần đùi kèm váy size đại(15-50kg)\n"
     ]
    },
    {
     "name": "stderr",
     "output_type": "stream",
     "text": [
      "c:\\Users\\ADMIN\\PycharmProjects\\pricecrawler\\key_word_crawl.py:433: FutureWarning: The frame.append method is deprecated and will be removed from pandas in a future version. Use pandas.concat instead.\n",
      "  output_df = output_df.append(result, ignore_index=True)\n"
     ]
    },
    {
     "name": "stdout",
     "output_type": "stream",
     "text": [
      "Execution time: 2396.333641052246\n",
      "Crawling features for product bikini đồ bơi tam giác 2 mảnh sang chảnh cưng xĩu\n"
     ]
    },
    {
     "name": "stderr",
     "output_type": "stream",
     "text": [
      "c:\\Users\\ADMIN\\PycharmProjects\\pricecrawler\\key_word_crawl.py:433: FutureWarning: The frame.append method is deprecated and will be removed from pandas in a future version. Use pandas.concat instead.\n",
      "  output_df = output_df.append(result, ignore_index=True)\n"
     ]
    },
    {
     "name": "stdout",
     "output_type": "stream",
     "text": [
      "Execution time: 2426.2069611549377\n",
      "Crawling features for product Áo Phao Bơi Họa Tiết Hoạt Hình Cho Bé Từ 2-7 Tuổi\n"
     ]
    },
    {
     "name": "stderr",
     "output_type": "stream",
     "text": [
      "c:\\Users\\ADMIN\\PycharmProjects\\pricecrawler\\key_word_crawl.py:433: FutureWarning: The frame.append method is deprecated and will be removed from pandas in a future version. Use pandas.concat instead.\n",
      "  output_df = output_df.append(result, ignore_index=True)\n"
     ]
    },
    {
     "name": "stdout",
     "output_type": "stream",
     "text": [
      "Execution time: 2483.696056127548\n",
      "Crawling features for product Bộ đồ bơi bikini nữ 2 mảnh màu sắc trẻ kín đáo thời trang thể thao đi biển V0083\n"
     ]
    },
    {
     "name": "stderr",
     "output_type": "stream",
     "text": [
      "c:\\Users\\ADMIN\\PycharmProjects\\pricecrawler\\key_word_crawl.py:433: FutureWarning: The frame.append method is deprecated and will be removed from pandas in a future version. Use pandas.concat instead.\n",
      "  output_df = output_df.append(result, ignore_index=True)\n"
     ]
    },
    {
     "name": "stdout",
     "output_type": "stream",
     "text": [
      "Execution time: 2506.4787092208862\n",
      "Crawling features for product Đồ bơi liền mảnh CAMEL che bụng thời trang dành cho nữ\n"
     ]
    },
    {
     "name": "stderr",
     "output_type": "stream",
     "text": [
      "c:\\Users\\ADMIN\\PycharmProjects\\pricecrawler\\key_word_crawl.py:433: FutureWarning: The frame.append method is deprecated and will be removed from pandas in a future version. Use pandas.concat instead.\n",
      "  output_df = output_df.append(result, ignore_index=True)\n"
     ]
    },
    {
     "name": "stdout",
     "output_type": "stream",
     "text": [
      "Execution time: 2536.3839950561523\n",
      "Crawling features for product Bikini 1 mảnh Đồ bơi nữ liền mảnh CÀI KHÓA SAU  khoét lưng màu đen viền trắng sporty nhiều kiểu\n"
     ]
    },
    {
     "name": "stderr",
     "output_type": "stream",
     "text": [
      "c:\\Users\\ADMIN\\PycharmProjects\\pricecrawler\\key_word_crawl.py:433: FutureWarning: The frame.append method is deprecated and will be removed from pandas in a future version. Use pandas.concat instead.\n",
      "  output_df = output_df.append(result, ignore_index=True)\n"
     ]
    },
    {
     "name": "stdout",
     "output_type": "stream",
     "text": [
      "Execution time: 2567.2983498573303\n",
      "Crawling features for product Đồ bơi nam siêu đẹp cả bộ gồm áo và quần logo nikee và speedoo ngâyc nhiên( sỉ ib)từ 30-75 kg tặng kèm nhét tai bơi 20 k\n"
     ]
    },
    {
     "name": "stderr",
     "output_type": "stream",
     "text": [
      "c:\\Users\\ADMIN\\PycharmProjects\\pricecrawler\\key_word_crawl.py:433: FutureWarning: The frame.append method is deprecated and will be removed from pandas in a future version. Use pandas.concat instead.\n",
      "  output_df = output_df.append(result, ignore_index=True)\n"
     ]
    },
    {
     "name": "stdout",
     "output_type": "stream",
     "text": [
      "Execution time: 2591.088105916977\n",
      "Crawling features for product [BIKINI LOẠI ĐẸP] Bikini liền mảnh, Đồ bơi nữ tay dài nhún ngực khoét lưng khoét ngực siêu sexy\n"
     ]
    },
    {
     "name": "stderr",
     "output_type": "stream",
     "text": [
      "c:\\Users\\ADMIN\\PycharmProjects\\pricecrawler\\key_word_crawl.py:433: FutureWarning: The frame.append method is deprecated and will be removed from pandas in a future version. Use pandas.concat instead.\n",
      "  output_df = output_df.append(result, ignore_index=True)\n"
     ]
    },
    {
     "name": "stdout",
     "output_type": "stream",
     "text": [
      "Execution time: 2617.798644065857\n",
      "Crawling features for product Áo SUPER BƠI + mũ cho bé mã 39055\n"
     ]
    },
    {
     "name": "stderr",
     "output_type": "stream",
     "text": [
      "c:\\Users\\ADMIN\\PycharmProjects\\pricecrawler\\key_word_crawl.py:433: FutureWarning: The frame.append method is deprecated and will be removed from pandas in a future version. Use pandas.concat instead.\n",
      "  output_df = output_df.append(result, ignore_index=True)\n"
     ]
    },
    {
     "name": "stdout",
     "output_type": "stream",
     "text": [
      "Execution time: 2641.4129362106323\n",
      "Crawling features for product Đồ bơi cho bé gái, học sinh, thiếu niên hai mảnh thể thao 6-15 tuổi phong cách Hàn Quốc\n"
     ]
    },
    {
     "name": "stderr",
     "output_type": "stream",
     "text": [
      "c:\\Users\\ADMIN\\PycharmProjects\\pricecrawler\\key_word_crawl.py:433: FutureWarning: The frame.append method is deprecated and will be removed from pandas in a future version. Use pandas.concat instead.\n",
      "  output_df = output_df.append(result, ignore_index=True)\n"
     ]
    },
    {
     "name": "stdout",
     "output_type": "stream",
     "text": [
      "Execution time: 2666.053809404373\n",
      "Crawling features for product [Size S,M,L,XL] Bikini 2 mảnh đồ bơi đi biển áo tắm dây rút ngực váy xòe The Queen 021\n"
     ]
    },
    {
     "name": "stderr",
     "output_type": "stream",
     "text": [
      "c:\\Users\\ADMIN\\PycharmProjects\\pricecrawler\\key_word_crawl.py:433: FutureWarning: The frame.append method is deprecated and will be removed from pandas in a future version. Use pandas.concat instead.\n",
      "  output_df = output_df.append(result, ignore_index=True)\n"
     ]
    },
    {
     "name": "stdout",
     "output_type": "stream",
     "text": [
      "Execution time: 2698.080441713333\n",
      "Crawling features for product (8-22kg) Bộ bơi bé gái QATE939 Bộ bikini bé gái TB35 TB56 - Quần áo bé gái đi chơi TB289\n"
     ]
    },
    {
     "name": "stderr",
     "output_type": "stream",
     "text": [
      "c:\\Users\\ADMIN\\PycharmProjects\\pricecrawler\\key_word_crawl.py:433: FutureWarning: The frame.append method is deprecated and will be removed from pandas in a future version. Use pandas.concat instead.\n",
      "  output_df = output_df.append(result, ignore_index=True)\n"
     ]
    },
    {
     "name": "stdout",
     "output_type": "stream",
     "text": [
      "Execution time: 2724.8580238819122\n",
      "Crawling features for product Bikini bassi đồ bơi nữ hai mảnh phối khoen cực xinh (nhiều màu)\n"
     ]
    },
    {
     "name": "stderr",
     "output_type": "stream",
     "text": [
      "c:\\Users\\ADMIN\\PycharmProjects\\pricecrawler\\key_word_crawl.py:433: FutureWarning: The frame.append method is deprecated and will be removed from pandas in a future version. Use pandas.concat instead.\n",
      "  output_df = output_df.append(result, ignore_index=True)\n"
     ]
    },
    {
     "name": "stdout",
     "output_type": "stream",
     "text": [
      "Execution time: 2753.5410397052765\n",
      "Crawling features for product Đồ Bơi Bé Trai Habi Fashion Họa Tiết Cá Tính, Chất Liệu Co Giãn Cho Bé Trai Từ 9-30kg\n"
     ]
    },
    {
     "name": "stderr",
     "output_type": "stream",
     "text": [
      "c:\\Users\\ADMIN\\PycharmProjects\\pricecrawler\\key_word_crawl.py:433: FutureWarning: The frame.append method is deprecated and will be removed from pandas in a future version. Use pandas.concat instead.\n",
      "  output_df = output_df.append(result, ignore_index=True)\n"
     ]
    },
    {
     "name": "stdout",
     "output_type": "stream",
     "text": [
      "Execution time: 2805.7400946617126\n",
      "Crawling features for product BIKINI ĐỒ BƠI ĐI BIỂN ÁO RÚT NGỰC CHÂN VÁY 2 TẦNG MẪU MỚI BELLA 009\n"
     ]
    },
    {
     "name": "stderr",
     "output_type": "stream",
     "text": [
      "c:\\Users\\ADMIN\\PycharmProjects\\pricecrawler\\key_word_crawl.py:433: FutureWarning: The frame.append method is deprecated and will be removed from pandas in a future version. Use pandas.concat instead.\n",
      "  output_df = output_df.append(result, ignore_index=True)\n"
     ]
    },
    {
     "name": "stdout",
     "output_type": "stream",
     "text": [
      "Execution time: 2835.454482793808\n",
      "Crawling features for product Bộ Đồ Bơi 2 Mảnh Kiểu Dáng Thể Thao Trẻ Trung Năng Động Cho Nữ\n"
     ]
    },
    {
     "name": "stderr",
     "output_type": "stream",
     "text": [
      "c:\\Users\\ADMIN\\PycharmProjects\\pricecrawler\\key_word_crawl.py:433: FutureWarning: The frame.append method is deprecated and will be removed from pandas in a future version. Use pandas.concat instead.\n",
      "  output_df = output_df.append(result, ignore_index=True)\n"
     ]
    },
    {
     "name": "stdout",
     "output_type": "stream",
     "text": [
      "Execution time: 2859.115002632141\n",
      "Crawling features for product Bộ bơi cho bé trai kèm mũ chất co giãn thoải mái ôm dáng BT02 từ 8 - 20kg\n"
     ]
    },
    {
     "name": "stderr",
     "output_type": "stream",
     "text": [
      "c:\\Users\\ADMIN\\PycharmProjects\\pricecrawler\\key_word_crawl.py:433: FutureWarning: The frame.append method is deprecated and will be removed from pandas in a future version. Use pandas.concat instead.\n",
      "  output_df = output_df.append(result, ignore_index=True)\n"
     ]
    },
    {
     "name": "stdout",
     "output_type": "stream",
     "text": [
      "Execution time: 2890.982675075531\n",
      "Crawling features for product Đồ Bơi Bé Trai Bộ Cộc Tặng Kèm Mũ Bơi 0-6 Tuổi (8-21 Kg) QB10\n"
     ]
    },
    {
     "name": "stderr",
     "output_type": "stream",
     "text": [
      "c:\\Users\\ADMIN\\PycharmProjects\\pricecrawler\\key_word_crawl.py:433: FutureWarning: The frame.append method is deprecated and will be removed from pandas in a future version. Use pandas.concat instead.\n",
      "  output_df = output_df.append(result, ignore_index=True)\n"
     ]
    },
    {
     "name": "stdout",
     "output_type": "stream",
     "text": [
      "Execution time: 2944.4668831825256\n",
      "Crawling features for product Tiger Run Bộ Đồ Bơi Quần Đùi Boxer Chuyên Nghiệp Thời Trang Mùa Xuân Mới 2022 Phong Cách Kín Đáo\n"
     ]
    },
    {
     "name": "stderr",
     "output_type": "stream",
     "text": [
      "c:\\Users\\ADMIN\\PycharmProjects\\pricecrawler\\key_word_crawl.py:433: FutureWarning: The frame.append method is deprecated and will be removed from pandas in a future version. Use pandas.concat instead.\n",
      "  output_df = output_df.append(result, ignore_index=True)\n"
     ]
    },
    {
     "name": "stdout",
     "output_type": "stream",
     "text": [
      "Execution time: 2968.471682548523\n",
      "Crawling features for product Bộ bơi liền thân có khoá hàng đẹp cho bé gái từ 11-37kg\n"
     ]
    },
    {
     "name": "stderr",
     "output_type": "stream",
     "text": [
      "c:\\Users\\ADMIN\\PycharmProjects\\pricecrawler\\key_word_crawl.py:433: FutureWarning: The frame.append method is deprecated and will be removed from pandas in a future version. Use pandas.concat instead.\n",
      "  output_df = output_df.append(result, ignore_index=True)\n"
     ]
    },
    {
     "name": "stdout",
     "output_type": "stream",
     "text": [
      "Execution time: 2990.1420538425446\n",
      "Crawling features for product Đồ bơi giả váy nữ đi biển kín đáo dành cho bạn nữ có đệm ngực\n"
     ]
    },
    {
     "name": "stderr",
     "output_type": "stream",
     "text": [
      "c:\\Users\\ADMIN\\PycharmProjects\\pricecrawler\\key_word_crawl.py:433: FutureWarning: The frame.append method is deprecated and will be removed from pandas in a future version. Use pandas.concat instead.\n",
      "  output_df = output_df.append(result, ignore_index=True)\n"
     ]
    },
    {
     "name": "stdout",
     "output_type": "stream",
     "text": [
      "Execution time: 3041.671504497528\n",
      "Crawling features for product Bikini đi biển 2 mảnh áo váy kín đáo CÓ MÚT CÓ SIZE- Đồ bơi nữ tay dài váy xòe - Áo bơi croptop - shopnabi TD2MVX_CDEN\n"
     ]
    },
    {
     "name": "stderr",
     "output_type": "stream",
     "text": [
      "c:\\Users\\ADMIN\\PycharmProjects\\pricecrawler\\key_word_crawl.py:433: FutureWarning: The frame.append method is deprecated and will be removed from pandas in a future version. Use pandas.concat instead.\n",
      "  output_df = output_df.append(result, ignore_index=True)\n"
     ]
    },
    {
     "name": "stdout",
     "output_type": "stream",
     "text": [
      "Execution time: 3071.868800640106\n",
      "Crawling features for product Đồ Bơi Liền Thân Bé Gái Họa Tiết Hồng Hạc Kỳ Lân Hồng Tím Nàng Tiên Cá Công Chúa Elsa Hàng Cao Cấp Loại 1\n"
     ]
    },
    {
     "name": "stderr",
     "output_type": "stream",
     "text": [
      "c:\\Users\\ADMIN\\PycharmProjects\\pricecrawler\\key_word_crawl.py:433: FutureWarning: The frame.append method is deprecated and will be removed from pandas in a future version. Use pandas.concat instead.\n",
      "  output_df = output_df.append(result, ignore_index=True)\n"
     ]
    },
    {
     "name": "stdout",
     "output_type": "stream",
     "text": [
      "Execution time: 3099.6274914741516\n",
      "Crawling features for product Đồ bơi bé gái DINOKING Bộ bơi 2 mảnh váy áo dài tay cho bé gái đi tắm biển hoạ tiết dễ thương cho trẻ em 2 - 8 tuổi DB13\n"
     ]
    },
    {
     "name": "stderr",
     "output_type": "stream",
     "text": [
      "c:\\Users\\ADMIN\\PycharmProjects\\pricecrawler\\key_word_crawl.py:433: FutureWarning: The frame.append method is deprecated and will be removed from pandas in a future version. Use pandas.concat instead.\n",
      "  output_df = output_df.append(result, ignore_index=True)\n"
     ]
    },
    {
     "name": "stdout",
     "output_type": "stream",
     "text": [
      "Execution time: 3128.397631406784\n",
      "Crawling features for product Đồ bơi nữ, đồ tắm biển dài tay quần short năng động BK-346i\n"
     ]
    },
    {
     "name": "stderr",
     "output_type": "stream",
     "text": [
      "c:\\Users\\ADMIN\\PycharmProjects\\pricecrawler\\key_word_crawl.py:433: FutureWarning: The frame.append method is deprecated and will be removed from pandas in a future version. Use pandas.concat instead.\n",
      "  output_df = output_df.append(result, ignore_index=True)\n"
     ]
    },
    {
     "name": "stdout",
     "output_type": "stream",
     "text": [
      "Execution time: 3154.161672115326\n",
      "Crawling features for product Bơm Phao Bơi Bằng Tay Nhỏ Gọn Tiện Dụng\n"
     ]
    },
    {
     "name": "stderr",
     "output_type": "stream",
     "text": [
      "c:\\Users\\ADMIN\\PycharmProjects\\pricecrawler\\key_word_crawl.py:433: FutureWarning: The frame.append method is deprecated and will be removed from pandas in a future version. Use pandas.concat instead.\n",
      "  output_df = output_df.append(result, ignore_index=True)\n"
     ]
    },
    {
     "name": "stdout",
     "output_type": "stream",
     "text": [
      "Execution time: 3182.182222366333\n",
      "Crawling features for product Quần Bơi Nam YLIKE Quần Bơi 2 Lớp Chống Thấm Nhanh Khô\n"
     ]
    },
    {
     "name": "stderr",
     "output_type": "stream",
     "text": [
      "c:\\Users\\ADMIN\\PycharmProjects\\pricecrawler\\key_word_crawl.py:433: FutureWarning: The frame.append method is deprecated and will be removed from pandas in a future version. Use pandas.concat instead.\n",
      "  output_df = output_df.append(result, ignore_index=True)\n"
     ]
    },
    {
     "name": "stdout",
     "output_type": "stream",
     "text": [
      "Execution time: 3210.6223752498627\n",
      "Crawling features for product ĐỒ BƠI CHO BÉ -- BIKINI 2 MẢNH THỔ CẨM 8-30KG ANNAKIDS\n"
     ]
    },
    {
     "name": "stderr",
     "output_type": "stream",
     "text": [
      "c:\\Users\\ADMIN\\PycharmProjects\\pricecrawler\\key_word_crawl.py:433: FutureWarning: The frame.append method is deprecated and will be removed from pandas in a future version. Use pandas.concat instead.\n",
      "  output_df = output_df.append(result, ignore_index=True)\n"
     ]
    },
    {
     "name": "stdout",
     "output_type": "stream",
     "text": [
      "Execution time: 3240.386040210724\n",
      "Crawling features for product bikini đồ bơi sét 3 món tay phòng kèm video thật😜😜😜mẫu hót nhất hiên nay\n"
     ]
    },
    {
     "name": "stderr",
     "output_type": "stream",
     "text": [
      "c:\\Users\\ADMIN\\PycharmProjects\\pricecrawler\\key_word_crawl.py:433: FutureWarning: The frame.append method is deprecated and will be removed from pandas in a future version. Use pandas.concat instead.\n",
      "  output_df = output_df.append(result, ignore_index=True)\n"
     ]
    },
    {
     "name": "stdout",
     "output_type": "stream",
     "text": [
      "Execution time: 3266.26788520813\n",
      "Crawling features for product Quần Bơi Nam Lửng Dài Gần Tới Gối Co Giãn 4 Chiều Vải Đẹp ( 881 )\n"
     ]
    },
    {
     "name": "stderr",
     "output_type": "stream",
     "text": [
      "c:\\Users\\ADMIN\\PycharmProjects\\pricecrawler\\key_word_crawl.py:433: FutureWarning: The frame.append method is deprecated and will be removed from pandas in a future version. Use pandas.concat instead.\n",
      "  output_df = output_df.append(result, ignore_index=True)\n"
     ]
    },
    {
     "name": "stdout",
     "output_type": "stream",
     "text": [
      "Execution time: 3291.9721705913544\n",
      "Crawling features for product Bikini 2 mảnh bơi lội Đồ đi biển Basics cao cấp nhiều màu đen trắng đỏ xanh tím\n"
     ]
    },
    {
     "name": "stderr",
     "output_type": "stream",
     "text": [
      "c:\\Users\\ADMIN\\PycharmProjects\\pricecrawler\\key_word_crawl.py:433: FutureWarning: The frame.append method is deprecated and will be removed from pandas in a future version. Use pandas.concat instead.\n",
      "  output_df = output_df.append(result, ignore_index=True)\n"
     ]
    },
    {
     "name": "stdout",
     "output_type": "stream",
     "text": [
      "Execution time: 3316.5165145397186\n",
      "Crawling features for product Đồ Bơi Bé Gái ,Bộ Bơi, Sét Đồ Bơi Bé Gái Size Đại Liền Thân Từ 10Kg đến 46kg Cho Bé - Hãng Dollar Kids\n"
     ]
    },
    {
     "name": "stderr",
     "output_type": "stream",
     "text": [
      "c:\\Users\\ADMIN\\PycharmProjects\\pricecrawler\\key_word_crawl.py:433: FutureWarning: The frame.append method is deprecated and will be removed from pandas in a future version. Use pandas.concat instead.\n",
      "  output_df = output_df.append(result, ignore_index=True)\n"
     ]
    },
    {
     "name": "stdout",
     "output_type": "stream",
     "text": [
      "Execution time: 3342.3574941158295\n",
      "Crawling features for product Bể bơi 2 tầng Đủ kích cỡ có đáy chống trượt cho trẻ em. Mẫu Mới 2023.\n"
     ]
    },
    {
     "name": "stderr",
     "output_type": "stream",
     "text": [
      "c:\\Users\\ADMIN\\PycharmProjects\\pricecrawler\\key_word_crawl.py:433: FutureWarning: The frame.append method is deprecated and will be removed from pandas in a future version. Use pandas.concat instead.\n",
      "  output_df = output_df.append(result, ignore_index=True)\n"
     ]
    },
    {
     "name": "stdout",
     "output_type": "stream",
     "text": [
      "Execution time: 3366.4803833961487\n",
      "Crawling features for product Đồ bơi nữ kín đáo tay ngắn CÓ MÚT CÓ SIZE-Bikini đi biển 2 mảnh có tay váy xoè- đồ bơi học sinh nữ- shopnabi TN2MVX_TĐTT\n"
     ]
    },
    {
     "name": "stderr",
     "output_type": "stream",
     "text": [
      "c:\\Users\\ADMIN\\PycharmProjects\\pricecrawler\\key_word_crawl.py:433: FutureWarning: The frame.append method is deprecated and will be removed from pandas in a future version. Use pandas.concat instead.\n",
      "  output_df = output_df.append(result, ignore_index=True)\n"
     ]
    },
    {
     "name": "stdout",
     "output_type": "stream",
     "text": [
      "Execution time: 3396.5073642730713\n",
      "Crawling features for product Đồ bơi bé gái, bikini 2 mảnh bo chun sang chảnh cho bé 8-30kg\n"
     ]
    },
    {
     "name": "stderr",
     "output_type": "stream",
     "text": [
      "c:\\Users\\ADMIN\\PycharmProjects\\pricecrawler\\key_word_crawl.py:433: FutureWarning: The frame.append method is deprecated and will be removed from pandas in a future version. Use pandas.concat instead.\n",
      "  output_df = output_df.append(result, ignore_index=True)\n"
     ]
    },
    {
     "name": "stdout",
     "output_type": "stream",
     "text": [
      "Execution time: 3425.450052022934\n",
      "Crawling features for product Đồ Bơi Bé Gái Dài Tay Habi Fashion HB2302 Chất Liệu Co Giãn Cho Bé Từ 18-60kg\n"
     ]
    },
    {
     "name": "stderr",
     "output_type": "stream",
     "text": [
      "c:\\Users\\ADMIN\\PycharmProjects\\pricecrawler\\key_word_crawl.py:433: FutureWarning: The frame.append method is deprecated and will be removed from pandas in a future version. Use pandas.concat instead.\n",
      "  output_df = output_df.append(result, ignore_index=True)\n"
     ]
    },
    {
     "name": "stdout",
     "output_type": "stream",
     "text": [
      "Execution time: 3476.8105177879333\n",
      "Crawling features for product Bikini Đồ Bơi Nữ Kín Đáo Đùi Ngắn Tay Đi Biển Hàn Quốc 2 Mảnh Bigsize LUHAZO Phong Cách Thể Thao Du Lịch 9340 B-14\n"
     ]
    },
    {
     "name": "stderr",
     "output_type": "stream",
     "text": [
      "c:\\Users\\ADMIN\\PycharmProjects\\pricecrawler\\key_word_crawl.py:433: FutureWarning: The frame.append method is deprecated and will be removed from pandas in a future version. Use pandas.concat instead.\n",
      "  output_df = output_df.append(result, ignore_index=True)\n"
     ]
    },
    {
     "name": "stdout",
     "output_type": "stream",
     "text": [
      "Execution time: 3504.3691596984863\n",
      "Crawling features for product Phao bơi cho bé kiểu xỏ chân hoặc ngồi trên nước (1-9 tuổi) hình Thú dễ thương mã 50055\n"
     ]
    },
    {
     "name": "stderr",
     "output_type": "stream",
     "text": [
      "c:\\Users\\ADMIN\\PycharmProjects\\pricecrawler\\key_word_crawl.py:433: FutureWarning: The frame.append method is deprecated and will be removed from pandas in a future version. Use pandas.concat instead.\n",
      "  output_df = output_df.append(result, ignore_index=True)\n"
     ]
    },
    {
     "name": "stdout",
     "output_type": "stream",
     "text": [
      "Execution time: 3529.989683866501\n",
      "Crawling features for product Set đồ bơi IQ ANGEL hai món áo tay dài và quần dài in họa tiết nàng tiên cá xinh xắn dành cho bé gái\n"
     ]
    },
    {
     "name": "stderr",
     "output_type": "stream",
     "text": [
      "c:\\Users\\ADMIN\\PycharmProjects\\pricecrawler\\key_word_crawl.py:433: FutureWarning: The frame.append method is deprecated and will be removed from pandas in a future version. Use pandas.concat instead.\n",
      "  output_df = output_df.append(result, ignore_index=True)\n"
     ]
    },
    {
     "name": "stdout",
     "output_type": "stream",
     "text": [
      "Execution time: 3554.84189248085\n",
      "Crawling features for product [Size M,L,XL] Bikini đi biển, đồ bơi nữ kín đáo 1 mảnh liền váy (sét váy) đồ học bơi nữ tay dài có quần bảo hộ\n"
     ]
    },
    {
     "name": "stderr",
     "output_type": "stream",
     "text": [
      "c:\\Users\\ADMIN\\PycharmProjects\\pricecrawler\\key_word_crawl.py:433: FutureWarning: The frame.append method is deprecated and will be removed from pandas in a future version. Use pandas.concat instead.\n",
      "  output_df = output_df.append(result, ignore_index=True)\n"
     ]
    },
    {
     "name": "stdout",
     "output_type": "stream",
     "text": [
      "Execution time: 3580.643168926239\n",
      "Crawling features for product Đồ bơi bé gái liền thân size 10-50kg chất xịn, bikini bé gái liền thân có quần bảo hộ\n"
     ]
    },
    {
     "name": "stderr",
     "output_type": "stream",
     "text": [
      "c:\\Users\\ADMIN\\PycharmProjects\\pricecrawler\\key_word_crawl.py:433: FutureWarning: The frame.append method is deprecated and will be removed from pandas in a future version. Use pandas.concat instead.\n",
      "  output_df = output_df.append(result, ignore_index=True)\n"
     ]
    },
    {
     "name": "stdout",
     "output_type": "stream",
     "text": [
      "Execution time: 3611.6622562408447\n",
      "Crawling features for product Bộ đồ bơi mới Sexy Three Pieces Velvet Vải Swimsuit XLYZC159\n"
     ]
    },
    {
     "name": "stderr",
     "output_type": "stream",
     "text": [
      "c:\\Users\\ADMIN\\PycharmProjects\\pricecrawler\\key_word_crawl.py:433: FutureWarning: The frame.append method is deprecated and will be removed from pandas in a future version. Use pandas.concat instead.\n",
      "  output_df = output_df.append(result, ignore_index=True)\n"
     ]
    },
    {
     "name": "stdout",
     "output_type": "stream",
     "text": [
      "Execution time: 3668.9385390281677\n",
      "Crawling features for product Đồ bơi trẻ em ,áo bơi LIỀN PHAO tự nổi ,bộ liền có phao cho bé trai loại CAO CẤP chất LYCRA Hàn\n"
     ]
    },
    {
     "name": "stderr",
     "output_type": "stream",
     "text": [
      "c:\\Users\\ADMIN\\PycharmProjects\\pricecrawler\\key_word_crawl.py:433: FutureWarning: The frame.append method is deprecated and will be removed from pandas in a future version. Use pandas.concat instead.\n",
      "  output_df = output_df.append(result, ignore_index=True)\n"
     ]
    },
    {
     "name": "stdout",
     "output_type": "stream",
     "text": [
      "Execution time: 3743.924712896347\n",
      "Crawling features for product Áo Liền Quần Ngắn Ôm Dáng Eo Cao Quyến Rũ Thời Trang Hàn Quốc Cho Nữ\n"
     ]
    },
    {
     "name": "stderr",
     "output_type": "stream",
     "text": [
      "c:\\Users\\ADMIN\\PycharmProjects\\pricecrawler\\key_word_crawl.py:433: FutureWarning: The frame.append method is deprecated and will be removed from pandas in a future version. Use pandas.concat instead.\n",
      "  output_df = output_df.append(result, ignore_index=True)\n"
     ]
    },
    {
     "name": "stdout",
     "output_type": "stream",
     "text": [
      "Execution time: 3808.6153960227966\n",
      "Crawling features for product Bikini Cho Bé Gái Từ 9kg Đến 25kg Hãng Dokki Kids\n"
     ]
    },
    {
     "name": "stderr",
     "output_type": "stream",
     "text": [
      "c:\\Users\\ADMIN\\PycharmProjects\\pricecrawler\\key_word_crawl.py:433: FutureWarning: The frame.append method is deprecated and will be removed from pandas in a future version. Use pandas.concat instead.\n",
      "  output_df = output_df.append(result, ignore_index=True)\n"
     ]
    },
    {
     "name": "stdout",
     "output_type": "stream",
     "text": [
      "Execution time: 3833.238398551941\n",
      "Crawling features for product Quần Bơi Nam Nữ Vải Xịnh Co Giản Cực Tốt\n"
     ]
    },
    {
     "name": "stderr",
     "output_type": "stream",
     "text": [
      "c:\\Users\\ADMIN\\PycharmProjects\\pricecrawler\\key_word_crawl.py:433: FutureWarning: The frame.append method is deprecated and will be removed from pandas in a future version. Use pandas.concat instead.\n",
      "  output_df = output_df.append(result, ignore_index=True)\n"
     ]
    },
    {
     "name": "stdout",
     "output_type": "stream",
     "text": [
      "Execution time: 3857.903041124344\n",
      "Crawling features for product Đồ Bơi Một Mảnh Dạng Váy Cho Bé Gái (105-155cm)\n"
     ]
    },
    {
     "name": "stderr",
     "output_type": "stream",
     "text": [
      "c:\\Users\\ADMIN\\PycharmProjects\\pricecrawler\\key_word_crawl.py:433: FutureWarning: The frame.append method is deprecated and will be removed from pandas in a future version. Use pandas.concat instead.\n",
      "  output_df = output_df.append(result, ignore_index=True)\n"
     ]
    },
    {
     "name": "stdout",
     "output_type": "stream",
     "text": [
      "Execution time: 3892.73570394516\n",
      "Crawling features for product Bộ bơi cho bé gái &amp; mẹ 12-62kg set đồ bơi trẻ em người lớn bikini đi biển quần váy BƠI SKY\n"
     ]
    },
    {
     "name": "stderr",
     "output_type": "stream",
     "text": [
      "c:\\Users\\ADMIN\\PycharmProjects\\pricecrawler\\key_word_crawl.py:433: FutureWarning: The frame.append method is deprecated and will be removed from pandas in a future version. Use pandas.concat instead.\n",
      "  output_df = output_df.append(result, ignore_index=True)\n"
     ]
    },
    {
     "name": "stdout",
     "output_type": "stream",
     "text": [
      "Execution time: 3922.612161397934\n",
      "Crawling features for product Quần bơi nam Short thể nam đi biển POPO ST1 đi tắm biển đồ bơi mau khô, thoáng khí\n"
     ]
    },
    {
     "name": "stderr",
     "output_type": "stream",
     "text": [
      "c:\\Users\\ADMIN\\PycharmProjects\\pricecrawler\\key_word_crawl.py:433: FutureWarning: The frame.append method is deprecated and will be removed from pandas in a future version. Use pandas.concat instead.\n",
      "  output_df = output_df.append(result, ignore_index=True)\n"
     ]
    },
    {
     "name": "stdout",
     "output_type": "stream",
     "text": [
      "Execution time: 3956.484694480896\n",
      "Crawling features for product Quần Bơi Bé Trai Họa Tiết Đáng Yêu, Chất Liệu Bền Đẹp Co Dãn Chống Thấm Nước Tốt\n"
     ]
    },
    {
     "name": "stderr",
     "output_type": "stream",
     "text": [
      "c:\\Users\\ADMIN\\PycharmProjects\\pricecrawler\\key_word_crawl.py:433: FutureWarning: The frame.append method is deprecated and will be removed from pandas in a future version. Use pandas.concat instead.\n",
      "  output_df = output_df.append(result, ignore_index=True)\n"
     ]
    },
    {
     "name": "stdout",
     "output_type": "stream",
     "text": [
      "Execution time: 3987.2405602931976\n",
      "Crawling features for product Đồ bơi nữ bigsize tay dài quần dài- Bikini đi biển 2 mảnh áo tay dài chống nắng- shopnabi QDQL_AOLAN\n"
     ]
    },
    {
     "name": "stderr",
     "output_type": "stream",
     "text": [
      "c:\\Users\\ADMIN\\PycharmProjects\\pricecrawler\\key_word_crawl.py:433: FutureWarning: The frame.append method is deprecated and will be removed from pandas in a future version. Use pandas.concat instead.\n",
      "  output_df = output_df.append(result, ignore_index=True)\n"
     ]
    },
    {
     "name": "stdout",
     "output_type": "stream",
     "text": [
      "Execution time: 4016.2108840942383\n",
      "Crawling features for product Đồ Bơi Bé Trai Liền Thân Dollarkids Từ 10kg Đến Size Đại\n"
     ]
    },
    {
     "name": "stderr",
     "output_type": "stream",
     "text": [
      "c:\\Users\\ADMIN\\PycharmProjects\\pricecrawler\\key_word_crawl.py:433: FutureWarning: The frame.append method is deprecated and will be removed from pandas in a future version. Use pandas.concat instead.\n",
      "  output_df = output_df.append(result, ignore_index=True)\n"
     ]
    },
    {
     "name": "stdout",
     "output_type": "stream",
     "text": [
      "Execution time: 4042.9791021347046\n",
      "Crawling features for product Waneca (Cao cấp) Bikini ba mảnh, thời trang và sexy treo đồ bơi\n"
     ]
    },
    {
     "name": "stderr",
     "output_type": "stream",
     "text": [
      "c:\\Users\\ADMIN\\PycharmProjects\\pricecrawler\\key_word_crawl.py:433: FutureWarning: The frame.append method is deprecated and will be removed from pandas in a future version. Use pandas.concat instead.\n",
      "  output_df = output_df.append(result, ignore_index=True)\n"
     ]
    },
    {
     "name": "stdout",
     "output_type": "stream",
     "text": [
      "Execution time: 4088.5104596614838\n",
      "Crawling features for product Đồ bơi đi biển hai mảnh xoắn ngực nhiều màu bikini HM-005\n"
     ]
    },
    {
     "name": "stderr",
     "output_type": "stream",
     "text": [
      "ERROR:root:Traceback (most recent call last):\n",
      "  File \"c:\\Users\\ADMIN\\PycharmProjects\\pricecrawler\\key_word_crawl.py\", line 432, in crawl_multiple_products\n",
      "    result = self.extract_product_feature(url)\n",
      "  File \"c:\\Users\\ADMIN\\PycharmProjects\\pricecrawler\\key_word_crawl.py\", line 208, in extract_product_feature\n",
      "    dynamic_elements = WebDriverWait(self.browser, 30).until(\n",
      "  File \"c:\\Users\\ADMIN\\anaconda3\\lib\\site-packages\\selenium\\webdriver\\support\\wait.py\", line 95, in until\n",
      "    raise TimeoutException(message, screen, stacktrace)\n",
      "selenium.common.exceptions.TimeoutException: Message: \n",
      "\n",
      "\n"
     ]
    },
    {
     "name": "stdout",
     "output_type": "stream",
     "text": [
      "Crawling features for product Đồ bơi bé gái, set bikini 2 mảnh họa tiết kẻ thổ cẩm cho bé 8-40kg\n"
     ]
    },
    {
     "name": "stderr",
     "output_type": "stream",
     "text": [
      "ERROR:root:Traceback (most recent call last):\n",
      "  File \"c:\\Users\\ADMIN\\PycharmProjects\\pricecrawler\\key_word_crawl.py\", line 432, in crawl_multiple_products\n",
      "    result = self.extract_product_feature(url)\n",
      "  File \"c:\\Users\\ADMIN\\PycharmProjects\\pricecrawler\\key_word_crawl.py\", line 208, in extract_product_feature\n",
      "    dynamic_elements = WebDriverWait(self.browser, 30).until(\n",
      "  File \"c:\\Users\\ADMIN\\anaconda3\\lib\\site-packages\\selenium\\webdriver\\support\\wait.py\", line 95, in until\n",
      "    raise TimeoutException(message, screen, stacktrace)\n",
      "selenium.common.exceptions.TimeoutException: Message: \n",
      "\n",
      "\n"
     ]
    },
    {
     "name": "stdout",
     "output_type": "stream",
     "text": [
      "Crawling features for product Bikini Đồ bơi nữ có tay khóa kéo màu ĐEN FORM SHORT sành điệu kín đáo co dãn thoải mái\n"
     ]
    },
    {
     "name": "stderr",
     "output_type": "stream",
     "text": [
      "ERROR:root:Traceback (most recent call last):\n",
      "  File \"c:\\Users\\ADMIN\\PycharmProjects\\pricecrawler\\key_word_crawl.py\", line 432, in crawl_multiple_products\n",
      "    result = self.extract_product_feature(url)\n",
      "  File \"c:\\Users\\ADMIN\\PycharmProjects\\pricecrawler\\key_word_crawl.py\", line 208, in extract_product_feature\n",
      "    dynamic_elements = WebDriverWait(self.browser, 30).until(\n",
      "  File \"c:\\Users\\ADMIN\\anaconda3\\lib\\site-packages\\selenium\\webdriver\\support\\wait.py\", line 95, in until\n",
      "    raise TimeoutException(message, screen, stacktrace)\n",
      "selenium.common.exceptions.TimeoutException: Message: \n",
      "\n",
      "\n"
     ]
    },
    {
     "name": "stdout",
     "output_type": "stream",
     "text": [
      "Crawling features for product Quần bơi nam 2 lớp nhanh khô thoải mái đi bơi đi biển thời trang tiện lợi\n"
     ]
    },
    {
     "name": "stderr",
     "output_type": "stream",
     "text": [
      "c:\\Users\\ADMIN\\PycharmProjects\\pricecrawler\\key_word_crawl.py:433: FutureWarning: The frame.append method is deprecated and will be removed from pandas in a future version. Use pandas.concat instead.\n",
      "  output_df = output_df.append(result, ignore_index=True)\n"
     ]
    },
    {
     "name": "stdout",
     "output_type": "stream",
     "text": [
      "Execution time: 4211.40496635437\n",
      "Crawling features for product (CAO CẤP) Đồ bơi nữ 1 mảnh kín đáo áo tắm liền thân tay dài đi biển đẹp bikini sexy gợi cảm Hàn Quốc một mảnh màu đen\n"
     ]
    },
    {
     "name": "stderr",
     "output_type": "stream",
     "text": [
      "c:\\Users\\ADMIN\\PycharmProjects\\pricecrawler\\key_word_crawl.py:433: FutureWarning: The frame.append method is deprecated and will be removed from pandas in a future version. Use pandas.concat instead.\n",
      "  output_df = output_df.append(result, ignore_index=True)\n"
     ]
    },
    {
     "name": "stdout",
     "output_type": "stream",
     "text": [
      "Execution time: 4247.1875948905945\n",
      "Crawling features for product Đồ bơi bé trai áo cộc quần lửng size 15-40kg,bộ bơi bé trai phối màu hoạ tiết baby shark\n"
     ]
    },
    {
     "name": "stderr",
     "output_type": "stream",
     "text": [
      "c:\\Users\\ADMIN\\PycharmProjects\\pricecrawler\\key_word_crawl.py:433: FutureWarning: The frame.append method is deprecated and will be removed from pandas in a future version. Use pandas.concat instead.\n",
      "  output_df = output_df.append(result, ignore_index=True)\n"
     ]
    },
    {
     "name": "stdout",
     "output_type": "stream",
     "text": [
      "Execution time: 4274.715789079666\n",
      "Crawling features for product Đồ Bơi DollarKids Cho Bé Gai Từ 3 Tuổi Đến 12 Tuổi\n"
     ]
    },
    {
     "name": "stderr",
     "output_type": "stream",
     "text": [
      "c:\\Users\\ADMIN\\PycharmProjects\\pricecrawler\\key_word_crawl.py:433: FutureWarning: The frame.append method is deprecated and will be removed from pandas in a future version. Use pandas.concat instead.\n",
      "  output_df = output_df.append(result, ignore_index=True)\n"
     ]
    },
    {
     "name": "stdout",
     "output_type": "stream",
     "text": [
      "Execution time: 4302.134943962097\n",
      "Crawling features for product Combo kính bơi trẻ em YouYou chính hãng cao cấp cho bé trai bé gái kèm mũ bơi, nút bịt tai, kẹp mũi chống sặc nước YaBi\n"
     ]
    },
    {
     "name": "stderr",
     "output_type": "stream",
     "text": [
      "c:\\Users\\ADMIN\\PycharmProjects\\pricecrawler\\key_word_crawl.py:433: FutureWarning: The frame.append method is deprecated and will be removed from pandas in a future version. Use pandas.concat instead.\n",
      "  output_df = output_df.append(result, ignore_index=True)\n"
     ]
    },
    {
     "name": "stdout",
     "output_type": "stream",
     "text": [
      "Execution time: 4329.382833242416\n",
      "Crawling features for product Bộ bơi bé trai KÈM MŨ, họa tiết cá mập chất vải co giãn cao cấp bền đẹp HB06\n"
     ]
    },
    {
     "name": "stderr",
     "output_type": "stream",
     "text": [
      "c:\\Users\\ADMIN\\PycharmProjects\\pricecrawler\\key_word_crawl.py:433: FutureWarning: The frame.append method is deprecated and will be removed from pandas in a future version. Use pandas.concat instead.\n",
      "  output_df = output_df.append(result, ignore_index=True)\n"
     ]
    },
    {
     "name": "stdout",
     "output_type": "stream",
     "text": [
      "Execution time: 4357.393205404282\n",
      "Crawling features for product Phao bơi cho bé ,phao tập bơi liền thân trợ nổi đỡ ngực siêu an toàn cho bé Trai - bé Gái (Không Cần Bơm)\n"
     ]
    },
    {
     "name": "stderr",
     "output_type": "stream",
     "text": [
      "c:\\Users\\ADMIN\\PycharmProjects\\pricecrawler\\key_word_crawl.py:433: FutureWarning: The frame.append method is deprecated and will be removed from pandas in a future version. Use pandas.concat instead.\n",
      "  output_df = output_df.append(result, ignore_index=True)\n"
     ]
    },
    {
     "name": "stdout",
     "output_type": "stream",
     "text": [
      "Execution time: 4384.66720700264\n",
      "Crawling features for product Bộ bơi size to cho các bé trai-hàng chuẩn đẹp\n"
     ]
    },
    {
     "name": "stderr",
     "output_type": "stream",
     "text": [
      "c:\\Users\\ADMIN\\PycharmProjects\\pricecrawler\\key_word_crawl.py:433: FutureWarning: The frame.append method is deprecated and will be removed from pandas in a future version. Use pandas.concat instead.\n",
      "  output_df = output_df.append(result, ignore_index=True)\n"
     ]
    },
    {
     "name": "stdout",
     "output_type": "stream",
     "text": [
      "Execution time: 4406.311370611191\n",
      "Crawling features for product Tổng Hợp Set Bikini Đi Biển Đồ Bơi Nữ Len Móc Hot 2023 Họa Tiết Thổ Cẩm Đan Lưới Ren Bra Đính Hạt Freesize Mùa Hè 2023\n"
     ]
    },
    {
     "name": "stderr",
     "output_type": "stream",
     "text": [
      "c:\\Users\\ADMIN\\PycharmProjects\\pricecrawler\\key_word_crawl.py:433: FutureWarning: The frame.append method is deprecated and will be removed from pandas in a future version. Use pandas.concat instead.\n",
      "  output_df = output_df.append(result, ignore_index=True)\n"
     ]
    },
    {
     "name": "stdout",
     "output_type": "stream",
     "text": [
      "Execution time: 4431.965132713318\n",
      "Crawling features for product Bộ đồ bơi nữ bikini đi biển croptop cộc tay dáng váy kín đáo tôn dáng\n"
     ]
    },
    {
     "name": "stderr",
     "output_type": "stream",
     "text": [
      "c:\\Users\\ADMIN\\PycharmProjects\\pricecrawler\\key_word_crawl.py:433: FutureWarning: The frame.append method is deprecated and will be removed from pandas in a future version. Use pandas.concat instead.\n",
      "  output_df = output_df.append(result, ignore_index=True)\n"
     ]
    },
    {
     "name": "stdout",
     "output_type": "stream",
     "text": [
      "Execution time: 4456.5423493385315\n",
      "Crawling features for product Phao bơi không bơm hơi cho bé từ 8 tháng 1 2 3 4 tuổi phao tập bơi chống lật Mambobaby\n"
     ]
    },
    {
     "name": "stderr",
     "output_type": "stream",
     "text": [
      "c:\\Users\\ADMIN\\PycharmProjects\\pricecrawler\\key_word_crawl.py:433: FutureWarning: The frame.append method is deprecated and will be removed from pandas in a future version. Use pandas.concat instead.\n",
      "  output_df = output_df.append(result, ignore_index=True)\n"
     ]
    },
    {
     "name": "stdout",
     "output_type": "stream",
     "text": [
      "Execution time: 4488.284427165985\n",
      "Crawling features for product Bikini set 3 món# Đồ bơi đi biển hoa cam kèm khăn mẫu mới BM-118\n"
     ]
    },
    {
     "name": "stderr",
     "output_type": "stream",
     "text": [
      "c:\\Users\\ADMIN\\PycharmProjects\\pricecrawler\\key_word_crawl.py:433: FutureWarning: The frame.append method is deprecated and will be removed from pandas in a future version. Use pandas.concat instead.\n",
      "  output_df = output_df.append(result, ignore_index=True)\n"
     ]
    },
    {
     "name": "stdout",
     "output_type": "stream",
     "text": [
      "Execution time: 4516.112204790115\n",
      "Crawling features for product Bộ Phao Tập Bơi Cho Người Lớn Và Trẻ Em Gồm Phao Tay , Lưng Tim / Cổ / Kính Bơi - Phao Bơi Cho Bé Chirita\n"
     ]
    },
    {
     "name": "stderr",
     "output_type": "stream",
     "text": [
      "c:\\Users\\ADMIN\\PycharmProjects\\pricecrawler\\key_word_crawl.py:433: FutureWarning: The frame.append method is deprecated and will be removed from pandas in a future version. Use pandas.concat instead.\n",
      "  output_df = output_df.append(result, ignore_index=True)\n"
     ]
    },
    {
     "name": "stdout",
     "output_type": "stream",
     "text": [
      "Execution time: 4543.956793785095\n",
      "Crawling features for product Bộ Đồ Bơi 2 Mảnh Áo Croptop Tay Dài Váy Xòe Màu Đen Trơn Kích Thước Lớn Dành Cho Bạn Nữ\n"
     ]
    },
    {
     "name": "stderr",
     "output_type": "stream",
     "text": [
      "c:\\Users\\ADMIN\\PycharmProjects\\pricecrawler\\key_word_crawl.py:433: FutureWarning: The frame.append method is deprecated and will be removed from pandas in a future version. Use pandas.concat instead.\n",
      "  output_df = output_df.append(result, ignore_index=True)\n"
     ]
    },
    {
     "name": "stdout",
     "output_type": "stream",
     "text": [
      "Execution time: 4603.257124423981\n",
      "Crawling features for product Phao bơi luồn tay Mambobaby cho bé 1 2 3 4 tuổi không bơm hơi, chống lật, siêu nhẹ, có mái che hàng chính hãng\n"
     ]
    },
    {
     "name": "stderr",
     "output_type": "stream",
     "text": [
      "c:\\Users\\ADMIN\\PycharmProjects\\pricecrawler\\key_word_crawl.py:433: FutureWarning: The frame.append method is deprecated and will be removed from pandas in a future version. Use pandas.concat instead.\n",
      "  output_df = output_df.append(result, ignore_index=True)\n"
     ]
    },
    {
     "name": "stdout",
     "output_type": "stream",
     "text": [
      "Execution time: 4681.131278038025\n",
      "Crawling features for product Bikini Đồ bơi nữ mã L10, L47, L85 có tay khóa kéo màu ĐEN FORM SHORT sành điệu kín đáo co dãn thoải mái L10\n"
     ]
    },
    {
     "name": "stderr",
     "output_type": "stream",
     "text": [
      "c:\\Users\\ADMIN\\PycharmProjects\\pricecrawler\\key_word_crawl.py:433: FutureWarning: The frame.append method is deprecated and will be removed from pandas in a future version. Use pandas.concat instead.\n",
      "  output_df = output_df.append(result, ignore_index=True)\n"
     ]
    },
    {
     "name": "stdout",
     "output_type": "stream",
     "text": [
      "Execution time: 4705.855132341385\n",
      "Crawling features for product Bộ đồ bơi hàng Quảng Châu cho bé gái FUHA, áo tắm tay ngắn kèm chân váy phù hợp bé cao 10kg đến 38kg\n"
     ]
    },
    {
     "name": "stderr",
     "output_type": "stream",
     "text": [
      "c:\\Users\\ADMIN\\PycharmProjects\\pricecrawler\\key_word_crawl.py:433: FutureWarning: The frame.append method is deprecated and will be removed from pandas in a future version. Use pandas.concat instead.\n",
      "  output_df = output_df.append(result, ignore_index=True)\n"
     ]
    },
    {
     "name": "stdout",
     "output_type": "stream",
     "text": [
      "Execution time: 4747.879333257675\n",
      "Crawling features for product Đồ bơi nữ kín đáo tay dài- Bikini đi biển 2 mảnh áo tắm có tay - đồ bơi học sinh nữ L30\n"
     ]
    },
    {
     "name": "stderr",
     "output_type": "stream",
     "text": [
      "c:\\Users\\ADMIN\\PycharmProjects\\pricecrawler\\key_word_crawl.py:433: FutureWarning: The frame.append method is deprecated and will be removed from pandas in a future version. Use pandas.concat instead.\n",
      "  output_df = output_df.append(result, ignore_index=True)\n"
     ]
    },
    {
     "name": "stdout",
     "output_type": "stream",
     "text": [
      "Execution time: 4772.724299430847\n",
      "Crawling features for product Bộ Đồ Bơi Một Mảnh Áo Tay Dài Chống Trầy Xước Kèm Nón Thời Trang Mùa Hè Chất Lượng Cao Cho Bé Gái 3-12 Tuổi\n"
     ]
    },
    {
     "name": "stderr",
     "output_type": "stream",
     "text": [
      "c:\\Users\\ADMIN\\PycharmProjects\\pricecrawler\\key_word_crawl.py:433: FutureWarning: The frame.append method is deprecated and will be removed from pandas in a future version. Use pandas.concat instead.\n",
      "  output_df = output_df.append(result, ignore_index=True)\n"
     ]
    },
    {
     "name": "stdout",
     "output_type": "stream",
     "text": [
      "Execution time: 4801.469752073288\n",
      "Crawling features for product Bikini, đồ bơi nữ dáng váy duyên dáng (Quần short trong váy) BK-309i\n"
     ]
    },
    {
     "name": "stderr",
     "output_type": "stream",
     "text": [
      "c:\\Users\\ADMIN\\PycharmProjects\\pricecrawler\\key_word_crawl.py:433: FutureWarning: The frame.append method is deprecated and will be removed from pandas in a future version. Use pandas.concat instead.\n",
      "  output_df = output_df.append(result, ignore_index=True)\n"
     ]
    },
    {
     "name": "stdout",
     "output_type": "stream",
     "text": [
      "Execution time: 4830.223496675491\n",
      "Crawling features for product (CAO CẤP) Bikini 1 mảnh đi biển đồ bơi nữ tay dài kín đáo áo tắm nữ liền thân khóa kéo che nắng che khuyết điểm tôn dáng\n"
     ]
    },
    {
     "name": "stderr",
     "output_type": "stream",
     "text": [
      "c:\\Users\\ADMIN\\PycharmProjects\\pricecrawler\\key_word_crawl.py:433: FutureWarning: The frame.append method is deprecated and will be removed from pandas in a future version. Use pandas.concat instead.\n",
      "  output_df = output_df.append(result, ignore_index=True)\n"
     ]
    },
    {
     "name": "stdout",
     "output_type": "stream",
     "text": [
      "Execution time: 4858.015322685242\n",
      "Crawling features for product (Hàng QCCC) Bikini đồ bơi cho bé gái bộ bơi cho bé công chúa tiên cá cực xinh đáng yêu\n"
     ]
    },
    {
     "name": "stderr",
     "output_type": "stream",
     "text": [
      "c:\\Users\\ADMIN\\PycharmProjects\\pricecrawler\\key_word_crawl.py:433: FutureWarning: The frame.append method is deprecated and will be removed from pandas in a future version. Use pandas.concat instead.\n",
      "  output_df = output_df.append(result, ignore_index=True)\n"
     ]
    },
    {
     "name": "stdout",
     "output_type": "stream",
     "text": [
      "Execution time: 4882.626277923584\n",
      "Crawling features for product Phao Bơi Cho Bé Chống Lật Từ 0-6 Tuổi Mẫu ABC Xanh Lá\n"
     ]
    },
    {
     "name": "stderr",
     "output_type": "stream",
     "text": [
      "c:\\Users\\ADMIN\\PycharmProjects\\pricecrawler\\key_word_crawl.py:433: FutureWarning: The frame.append method is deprecated and will be removed from pandas in a future version. Use pandas.concat instead.\n",
      "  output_df = output_df.append(result, ignore_index=True)\n"
     ]
    },
    {
     "name": "stdout",
     "output_type": "stream",
     "text": [
      "Execution time: 4957.550082206726\n",
      "Crawling features for product Kính Mũ Bơi Cao Cấp Chính Hãng YLIKE Dành Cho Bé 3-15tuổi\n"
     ]
    },
    {
     "name": "stderr",
     "output_type": "stream",
     "text": [
      "c:\\Users\\ADMIN\\PycharmProjects\\pricecrawler\\key_word_crawl.py:433: FutureWarning: The frame.append method is deprecated and will be removed from pandas in a future version. Use pandas.concat instead.\n",
      "  output_df = output_df.append(result, ignore_index=True)\n"
     ]
    },
    {
     "name": "stdout",
     "output_type": "stream",
     "text": [
      "Execution time: 4981.246830463409\n",
      "Crawling features for product Đồ Bơi Bé Gái Size Đại Dollar Kids Cho Bé Từ 10kg đến 46kg\n"
     ]
    },
    {
     "name": "stderr",
     "output_type": "stream",
     "text": [
      "c:\\Users\\ADMIN\\PycharmProjects\\pricecrawler\\key_word_crawl.py:433: FutureWarning: The frame.append method is deprecated and will be removed from pandas in a future version. Use pandas.concat instead.\n",
      "  output_df = output_df.append(result, ignore_index=True)\n"
     ]
    },
    {
     "name": "stdout",
     "output_type": "stream",
     "text": [
      "Execution time: 5008.770025730133\n",
      "Crawling features for product Đồ bơi bigsize học sinh nữ tay ngắn quần lửng kín đáo- Bikini đi biển big size 2 mảnh quần short- shopnabi TN2MSL_3SOC\n"
     ]
    },
    {
     "name": "stderr",
     "output_type": "stream",
     "text": [
      "c:\\Users\\ADMIN\\PycharmProjects\\pricecrawler\\key_word_crawl.py:433: FutureWarning: The frame.append method is deprecated and will be removed from pandas in a future version. Use pandas.concat instead.\n",
      "  output_df = output_df.append(result, ignore_index=True)\n"
     ]
    },
    {
     "name": "stdout",
     "output_type": "stream",
     "text": [
      "Execution time: 5035.51991891861\n",
      "Crawling features for product Bộ Đồ Bơi Một Mảnh Áo Tay Dài Phối Quần Dài Khô Nhanh In Họa Tiết Động Vật Dễ Thương Thời Trang Mùa Hè Cho Bé Trai 3-12 Tuổi\n"
     ]
    },
    {
     "name": "stderr",
     "output_type": "stream",
     "text": [
      "c:\\Users\\ADMIN\\PycharmProjects\\pricecrawler\\key_word_crawl.py:433: FutureWarning: The frame.append method is deprecated and will be removed from pandas in a future version. Use pandas.concat instead.\n",
      "  output_df = output_df.append(result, ignore_index=True)\n"
     ]
    },
    {
     "name": "stdout",
     "output_type": "stream",
     "text": [
      "Execution time: 5063.950414657593\n",
      "Crawling features for product [SET 4 MÓN] Bikini cho bé gái size đại - Bikini 2 mảnh áo lưới cá tính, Đồ bơi bé gái 2 mảnh sexy\n"
     ]
    },
    {
     "name": "stderr",
     "output_type": "stream",
     "text": [
      "c:\\Users\\ADMIN\\PycharmProjects\\pricecrawler\\key_word_crawl.py:433: FutureWarning: The frame.append method is deprecated and will be removed from pandas in a future version. Use pandas.concat instead.\n",
      "  output_df = output_df.append(result, ignore_index=True)\n"
     ]
    },
    {
     "name": "stdout",
     "output_type": "stream",
     "text": [
      "Execution time: 5092.616822719574\n",
      "Crawling features for product [Ảnh Thật - Freeship] Đồ Bơi Bé Trai Dễ Thương Mới Nhất 2023 (50 mẫu)\n"
     ]
    },
    {
     "name": "stderr",
     "output_type": "stream",
     "text": [
      "c:\\Users\\ADMIN\\PycharmProjects\\pricecrawler\\key_word_crawl.py:433: FutureWarning: The frame.append method is deprecated and will be removed from pandas in a future version. Use pandas.concat instead.\n",
      "  output_df = output_df.append(result, ignore_index=True)\n"
     ]
    },
    {
     "name": "stdout",
     "output_type": "stream",
     "text": [
      "Execution time: 5119.385563611984\n",
      "Crawling features for product (8-22kg)sét bộ bơi ,bikini ,quần áo tắm biển cho bé gái\n"
     ]
    },
    {
     "name": "stderr",
     "output_type": "stream",
     "text": [
      "c:\\Users\\ADMIN\\PycharmProjects\\pricecrawler\\key_word_crawl.py:433: FutureWarning: The frame.append method is deprecated and will be removed from pandas in a future version. Use pandas.concat instead.\n",
      "  output_df = output_df.append(result, ignore_index=True)\n"
     ]
    },
    {
     "name": "stdout",
     "output_type": "stream",
     "text": [
      "Execution time: 5148.077817201614\n",
      "Crawling features for product Đồ bơi bé trai Demeone B05 Họa Tiết YTQU Dễ Thương Cho Bé 18-50kg\n"
     ]
    },
    {
     "name": "stderr",
     "output_type": "stream",
     "text": [
      "c:\\Users\\ADMIN\\PycharmProjects\\pricecrawler\\key_word_crawl.py:433: FutureWarning: The frame.append method is deprecated and will be removed from pandas in a future version. Use pandas.concat instead.\n",
      "  output_df = output_df.append(result, ignore_index=True)\n"
     ]
    },
    {
     "name": "stdout",
     "output_type": "stream",
     "text": [
      "Execution time: 5174.842770814896\n",
      "Crawling features for product Bộ Đồ Bơi Ba Mảnh Thời Trang Hàn Quốc Quyến Rũ Cho Nữ\n"
     ]
    },
    {
     "name": "stderr",
     "output_type": "stream",
     "text": [
      "c:\\Users\\ADMIN\\PycharmProjects\\pricecrawler\\key_word_crawl.py:433: FutureWarning: The frame.append method is deprecated and will be removed from pandas in a future version. Use pandas.concat instead.\n",
      "  output_df = output_df.append(result, ignore_index=True)\n"
     ]
    },
    {
     "name": "stdout",
     "output_type": "stream",
     "text": [
      "Execution time: 5205.706247091293\n",
      "Crawling features for product (CAO CẤP) Bikini 2 mảnh cho nữ dáng thể thao ❤️ áo tắm đi biển đẹp ❤️ đồ bơi nữ đẹp hai mảnh trẻ trung năng động\n"
     ]
    },
    {
     "name": "stderr",
     "output_type": "stream",
     "text": [
      "c:\\Users\\ADMIN\\PycharmProjects\\pricecrawler\\key_word_crawl.py:433: FutureWarning: The frame.append method is deprecated and will be removed from pandas in a future version. Use pandas.concat instead.\n",
      "  output_df = output_df.append(result, ignore_index=True)\n"
     ]
    },
    {
     "name": "stdout",
     "output_type": "stream",
     "text": [
      "Execution time: 5236.704581260681\n",
      "Crawling features for product Bikini đi biển 2 mảnh kín đáo big size - Đồ bơi bigsize nữ tay dài quần đùi - shopnabi TD2MQĐ_2SOC\n"
     ]
    },
    {
     "name": "stderr",
     "output_type": "stream",
     "text": [
      "c:\\Users\\ADMIN\\PycharmProjects\\pricecrawler\\key_word_crawl.py:433: FutureWarning: The frame.append method is deprecated and will be removed from pandas in a future version. Use pandas.concat instead.\n",
      "  output_df = output_df.append(result, ignore_index=True)\n"
     ]
    },
    {
     "name": "stdout",
     "output_type": "stream",
     "text": [
      "Execution time: 5263.4662663936615\n",
      "Crawling features for product ( Size 09-32 kg) Đồ bơi bé trai - đồ bơi bé trai dễ thương - Kelly Wang\n"
     ]
    },
    {
     "name": "stderr",
     "output_type": "stream",
     "text": [
      "c:\\Users\\ADMIN\\PycharmProjects\\pricecrawler\\key_word_crawl.py:433: FutureWarning: The frame.append method is deprecated and will be removed from pandas in a future version. Use pandas.concat instead.\n",
      "  output_df = output_df.append(result, ignore_index=True)\n"
     ]
    },
    {
     "name": "stdout",
     "output_type": "stream",
     "text": [
      "Execution time: 5291.307600021362\n",
      "Crawling features for product Đồ bơi liền thân tay ngắn - raglan zip up swimsuit Sobie\n"
     ]
    },
    {
     "name": "stderr",
     "output_type": "stream",
     "text": [
      "c:\\Users\\ADMIN\\PycharmProjects\\pricecrawler\\key_word_crawl.py:433: FutureWarning: The frame.append method is deprecated and will be removed from pandas in a future version. Use pandas.concat instead.\n",
      "  output_df = output_df.append(result, ignore_index=True)\n"
     ]
    },
    {
     "name": "stdout",
     "output_type": "stream",
     "text": [
      "Execution time: 5316.028377771378\n",
      "Crawling features for product 《 HCM 》Súng bắn nước 1 nòng , 2 nòng , 4 nòng , kính bơi cho bé chơi mùa hè, chơi công viên, chơi biển\n"
     ]
    },
    {
     "name": "stderr",
     "output_type": "stream",
     "text": [
      "c:\\Users\\ADMIN\\PycharmProjects\\pricecrawler\\key_word_crawl.py:433: FutureWarning: The frame.append method is deprecated and will be removed from pandas in a future version. Use pandas.concat instead.\n",
      "  output_df = output_df.append(result, ignore_index=True)\n"
     ]
    },
    {
     "name": "stdout",
     "output_type": "stream",
     "text": [
      "Execution time: 5342.645788908005\n",
      "Crawling features for product [ ẢNH CHỤP THẬT SP ] SET BIKINI BASIC 2 Mảnh Cột Dây Đồ Bơi Đi Biển Siêu Đẹp Tôn Dáng Sexy Mainia Shop BKN043\n"
     ]
    },
    {
     "name": "stderr",
     "output_type": "stream",
     "text": [
      "c:\\Users\\ADMIN\\PycharmProjects\\pricecrawler\\key_word_crawl.py:433: FutureWarning: The frame.append method is deprecated and will be removed from pandas in a future version. Use pandas.concat instead.\n",
      "  output_df = output_df.append(result, ignore_index=True)\n"
     ]
    },
    {
     "name": "stdout",
     "output_type": "stream",
     "text": [
      "Execution time: 5369.448916912079\n",
      "Crawling features for product Đồ bơi bikini cộc tay đai chữ Badblood\n"
     ]
    },
    {
     "name": "stderr",
     "output_type": "stream",
     "text": [
      "c:\\Users\\ADMIN\\PycharmProjects\\pricecrawler\\key_word_crawl.py:433: FutureWarning: The frame.append method is deprecated and will be removed from pandas in a future version. Use pandas.concat instead.\n",
      "  output_df = output_df.append(result, ignore_index=True)\n"
     ]
    },
    {
     "name": "stdout",
     "output_type": "stream",
     "text": [
      "Execution time: 5394.063214540482\n",
      "Crawling features for product Set quần váy 2 lớp áo rút dây dạng thể thao năng động đi bơi, tập Gym Yoga, chạy bộ Aerobic\n"
     ]
    },
    {
     "name": "stderr",
     "output_type": "stream",
     "text": [
      "c:\\Users\\ADMIN\\PycharmProjects\\pricecrawler\\key_word_crawl.py:433: FutureWarning: The frame.append method is deprecated and will be removed from pandas in a future version. Use pandas.concat instead.\n",
      "  output_df = output_df.append(result, ignore_index=True)\n"
     ]
    },
    {
     "name": "stdout",
     "output_type": "stream",
     "text": [
      "Execution time: 5422.71502661705\n",
      "Crawling features for product Đồ bơi nữ tay dài liền mảnh váy kín đáo CÓ MÚT- Bikini đi biển liền thân cổ vuông sành điệu- shopnabi_LMVAYCOVU\n"
     ]
    },
    {
     "name": "stderr",
     "output_type": "stream",
     "text": [
      "c:\\Users\\ADMIN\\PycharmProjects\\pricecrawler\\key_word_crawl.py:433: FutureWarning: The frame.append method is deprecated and will be removed from pandas in a future version. Use pandas.concat instead.\n",
      "  output_df = output_df.append(result, ignore_index=True)\n"
     ]
    },
    {
     "name": "stdout",
     "output_type": "stream",
     "text": [
      "Execution time: 5450.439023256302\n",
      "Crawling features for product Bikini Đồ Bơi nữ 2 mành bad.blo Phong Cách Hàn Quốc HA BIKINI M17\n"
     ]
    },
    {
     "name": "stderr",
     "output_type": "stream",
     "text": [
      "c:\\Users\\ADMIN\\PycharmProjects\\pricecrawler\\key_word_crawl.py:433: FutureWarning: The frame.append method is deprecated and will be removed from pandas in a future version. Use pandas.concat instead.\n",
      "  output_df = output_df.append(result, ignore_index=True)\n"
     ]
    },
    {
     "name": "stdout",
     "output_type": "stream",
     "text": [
      "Execution time: 5477.256901741028\n",
      "Crawling features for product Đồ Bơi Nữ Bikini LANBISHOP Hai Mảnh Ngắn Tay Quần Đùi Hoạ Tiết Lanbi-021\n"
     ]
    },
    {
     "name": "stderr",
     "output_type": "stream",
     "text": [
      "c:\\Users\\ADMIN\\PycharmProjects\\pricecrawler\\key_word_crawl.py:433: FutureWarning: The frame.append method is deprecated and will be removed from pandas in a future version. Use pandas.concat instead.\n",
      "  output_df = output_df.append(result, ignore_index=True)\n"
     ]
    },
    {
     "name": "stdout",
     "output_type": "stream",
     "text": [
      "Execution time: 5504.979597330093\n",
      "Crawling features for product Bể bơi, phao bể bơi cho bé 1M15 &gt; 3M tặng mã giảm 60k và kèm bóng\n"
     ]
    },
    {
     "name": "stderr",
     "output_type": "stream",
     "text": [
      "c:\\Users\\ADMIN\\PycharmProjects\\pricecrawler\\key_word_crawl.py:433: FutureWarning: The frame.append method is deprecated and will be removed from pandas in a future version. Use pandas.concat instead.\n",
      "  output_df = output_df.append(result, ignore_index=True)\n"
     ]
    },
    {
     "name": "stdout",
     "output_type": "stream",
     "text": [
      "Execution time: 5529.340318202972\n",
      "Crawling features for product [ Hàng Loại 1] Bộ Bơi Bé Gái Lớn, Bikini Cho Bé Gái Chất Siêu Đẹp Quần 2 Lớp Có Bigsize, Phong Cách Âu Mỹ\n"
     ]
    },
    {
     "name": "stderr",
     "output_type": "stream",
     "text": [
      "c:\\Users\\ADMIN\\PycharmProjects\\pricecrawler\\key_word_crawl.py:433: FutureWarning: The frame.append method is deprecated and will be removed from pandas in a future version. Use pandas.concat instead.\n",
      "  output_df = output_df.append(result, ignore_index=True)\n"
     ]
    },
    {
     "name": "stdout",
     "output_type": "stream",
     "text": [
      "Execution time: 5558.982120037079\n",
      "Crawling features for product Set Đùi Thể Thao Nữ Dây Nhún Bánh Bèo Điệu Đà\n"
     ]
    },
    {
     "name": "stderr",
     "output_type": "stream",
     "text": [
      "c:\\Users\\ADMIN\\PycharmProjects\\pricecrawler\\key_word_crawl.py:433: FutureWarning: The frame.append method is deprecated and will be removed from pandas in a future version. Use pandas.concat instead.\n",
      "  output_df = output_df.append(result, ignore_index=True)\n"
     ]
    },
    {
     "name": "stdout",
     "output_type": "stream",
     "text": [
      "Execution time: 5584.97402048111\n",
      "Crawling features for product Bộ bơi bé trai, bộ bơi bé gái họa tiết dễ thương size từ 12- 45kg HB2301\n"
     ]
    },
    {
     "name": "stderr",
     "output_type": "stream",
     "text": [
      "c:\\Users\\ADMIN\\PycharmProjects\\pricecrawler\\key_word_crawl.py:433: FutureWarning: The frame.append method is deprecated and will be removed from pandas in a future version. Use pandas.concat instead.\n",
      "  output_df = output_df.append(result, ignore_index=True)\n"
     ]
    },
    {
     "name": "stdout",
     "output_type": "stream",
     "text": [
      "Execution time: 5609.761793851852\n",
      "Crawling features for product Quần Bơi Nam Dáng Lửng Chính Hãng HAIZID Co Giãn 4 Chiều Kháng Clo Thoáng Khí Không Thấm Nước Nhanh Khô\n"
     ]
    },
    {
     "name": "stderr",
     "output_type": "stream",
     "text": [
      "c:\\Users\\ADMIN\\PycharmProjects\\pricecrawler\\key_word_crawl.py:433: FutureWarning: The frame.append method is deprecated and will be removed from pandas in a future version. Use pandas.concat instead.\n",
      "  output_df = output_df.append(result, ignore_index=True)\n"
     ]
    },
    {
     "name": "stdout",
     "output_type": "stream",
     "text": [
      "Execution time: 5637.448992013931\n",
      "Crawling features for product Bộ Đồ Bơi Cho Bé Trai thương hiệu Yuke size từ 12-42 câ\n"
     ]
    },
    {
     "name": "stderr",
     "output_type": "stream",
     "text": [
      "c:\\Users\\ADMIN\\PycharmProjects\\pricecrawler\\key_word_crawl.py:433: FutureWarning: The frame.append method is deprecated and will be removed from pandas in a future version. Use pandas.concat instead.\n",
      "  output_df = output_df.append(result, ignore_index=True)\n"
     ]
    },
    {
     "name": "stdout",
     "output_type": "stream",
     "text": [
      "Execution time: 5659.928507089615\n",
      "Crawling features for product [1-10Y | 10-28KG | DISNEY BABY] Đồ bơi bé gái liền thân hai mảnh bikini hoạt hình công chúa xuất dư\n"
     ]
    },
    {
     "name": "stderr",
     "output_type": "stream",
     "text": [
      "ERROR:root:Traceback (most recent call last):\n",
      "  File \"c:\\Users\\ADMIN\\PycharmProjects\\pricecrawler\\key_word_crawl.py\", line 432, in crawl_multiple_products\n",
      "    result = self.extract_product_feature(url)\n",
      "  File \"c:\\Users\\ADMIN\\PycharmProjects\\pricecrawler\\key_word_crawl.py\", line 224, in extract_product_feature\n",
      "    class_=\"DmxDxl\").text  # nếu có giá (k free ship) thì có gtri là giá ship; k thì là \"miễn phí vận chuyển\"\n",
      "AttributeError: 'NoneType' object has no attribute 'text'\n",
      "\n"
     ]
    },
    {
     "name": "stdout",
     "output_type": "stream",
     "text": [
      "Crawling features for product Đồ bơi bé trai siêu nhân nhện đáng yêu cao cấp cho bé từ 1 tuổi tới size đại\n"
     ]
    },
    {
     "name": "stderr",
     "output_type": "stream",
     "text": [
      "c:\\Users\\ADMIN\\PycharmProjects\\pricecrawler\\key_word_crawl.py:433: FutureWarning: The frame.append method is deprecated and will be removed from pandas in a future version. Use pandas.concat instead.\n",
      "  output_df = output_df.append(result, ignore_index=True)\n"
     ]
    },
    {
     "name": "stdout",
     "output_type": "stream",
     "text": [
      "Execution time: 5695.251801252365\n",
      "Crawling features for product Bikini 2 Mảnh 3 Chi Tiết Liz, Đồ Bơi 2 Dây Chất Xốp Kèm Quây Kín Đáo Sexy Nhiều Màu\n"
     ]
    },
    {
     "name": "stderr",
     "output_type": "stream",
     "text": [
      "c:\\Users\\ADMIN\\PycharmProjects\\pricecrawler\\key_word_crawl.py:433: FutureWarning: The frame.append method is deprecated and will be removed from pandas in a future version. Use pandas.concat instead.\n",
      "  output_df = output_df.append(result, ignore_index=True)\n"
     ]
    },
    {
     "name": "stdout",
     "output_type": "stream",
     "text": [
      "Execution time: 5722.107112646103\n",
      "Crawling features for product Đồ bơi một mảnh bé gái Speedo Medley Logo Mdlt Jf - 8-13458G684\n"
     ]
    },
    {
     "name": "stderr",
     "output_type": "stream",
     "text": [
      "c:\\Users\\ADMIN\\PycharmProjects\\pricecrawler\\key_word_crawl.py:433: FutureWarning: The frame.append method is deprecated and will be removed from pandas in a future version. Use pandas.concat instead.\n",
      "  output_df = output_df.append(result, ignore_index=True)\n"
     ]
    },
    {
     "name": "stdout",
     "output_type": "stream",
     "text": [
      "Execution time: 5744.603157520294\n",
      "Crawling features for product Đồ chơi Phao bơi cho bé đi biển tắm hồ bơi an toàn có 4 loại Phao tròn, phao xỏ chân, phao cổ bé sơ sinh và phao đeo tay\n"
     ]
    },
    {
     "name": "stderr",
     "output_type": "stream",
     "text": [
      "c:\\Users\\ADMIN\\PycharmProjects\\pricecrawler\\key_word_crawl.py:433: FutureWarning: The frame.append method is deprecated and will be removed from pandas in a future version. Use pandas.concat instead.\n",
      "  output_df = output_df.append(result, ignore_index=True)\n"
     ]
    },
    {
     "name": "stdout",
     "output_type": "stream",
     "text": [
      "Execution time: 5773.060471057892\n",
      "Crawling features for product Bể bơi cho bé 🌸 𝑭𝒓𝒆𝒆𝒔𝒉𝒊𝒑 🌸 Bể bơi thành cao cho bé Doctor Dolphin\n"
     ]
    },
    {
     "name": "stderr",
     "output_type": "stream",
     "text": [
      "c:\\Users\\ADMIN\\PycharmProjects\\pricecrawler\\key_word_crawl.py:433: FutureWarning: The frame.append method is deprecated and will be removed from pandas in a future version. Use pandas.concat instead.\n",
      "  output_df = output_df.append(result, ignore_index=True)\n"
     ]
    },
    {
     "name": "stdout",
     "output_type": "stream",
     "text": [
      "Execution time: 5803.808012008667\n",
      "Crawling features for product Đồ bơi liền thân màu trơn thời trang quyến rũ cho nữ\n"
     ]
    },
    {
     "name": "stderr",
     "output_type": "stream",
     "text": [
      "c:\\Users\\ADMIN\\PycharmProjects\\pricecrawler\\key_word_crawl.py:433: FutureWarning: The frame.append method is deprecated and will be removed from pandas in a future version. Use pandas.concat instead.\n",
      "  output_df = output_df.append(result, ignore_index=True)\n"
     ]
    },
    {
     "name": "stdout",
     "output_type": "stream",
     "text": [
      "Execution time: 5830.609683036804\n",
      "Crawling features for product Đồ Bơi Bé Gái Dài Tay [50 Mẫu] Điệu Đà Dễ Thương - Vải Mềm Mịn Giữ Nhiệt Chống Nắng Tia UV - Cho Bé An Toàn Khi Đi Biển\n"
     ]
    },
    {
     "name": "stderr",
     "output_type": "stream",
     "text": [
      "c:\\Users\\ADMIN\\PycharmProjects\\pricecrawler\\key_word_crawl.py:433: FutureWarning: The frame.append method is deprecated and will be removed from pandas in a future version. Use pandas.concat instead.\n",
      "  output_df = output_df.append(result, ignore_index=True)\n"
     ]
    },
    {
     "name": "stdout",
     "output_type": "stream",
     "text": [
      "Execution time: 5860.374326705933\n",
      "Crawling features for product Phao Tập Bơi Có Đai Chống Lật Cho Bé Từ 0-6 Tuổi\n"
     ]
    },
    {
     "name": "stderr",
     "output_type": "stream",
     "text": [
      "c:\\Users\\ADMIN\\PycharmProjects\\pricecrawler\\key_word_crawl.py:433: FutureWarning: The frame.append method is deprecated and will be removed from pandas in a future version. Use pandas.concat instead.\n",
      "  output_df = output_df.append(result, ignore_index=True)\n"
     ]
    },
    {
     "name": "stdout",
     "output_type": "stream",
     "text": [
      "Execution time: 5883.967938661575\n",
      "Crawling features for product Phao bơi hình ô tô, máy bay chống lật, xỏ chân có vô lăng và còi kêu chíp chíp cho bé từ 1-6 tuổi\n"
     ]
    },
    {
     "name": "stderr",
     "output_type": "stream",
     "text": [
      "c:\\Users\\ADMIN\\PycharmProjects\\pricecrawler\\key_word_crawl.py:433: FutureWarning: The frame.append method is deprecated and will be removed from pandas in a future version. Use pandas.concat instead.\n",
      "  output_df = output_df.append(result, ignore_index=True)\n"
     ]
    },
    {
     "name": "stdout",
     "output_type": "stream",
     "text": [
      "Execution time: 5908.402873039246\n",
      "Crawling features for product Bikini đi biển đồ bơi nữ kín đáo tay ngắn liền thân có khóa dáng váy xòe che khuyết điểm hàng Quảng Châu cao cấp 6854\n"
     ]
    },
    {
     "name": "stderr",
     "output_type": "stream",
     "text": [
      "c:\\Users\\ADMIN\\PycharmProjects\\pricecrawler\\key_word_crawl.py:433: FutureWarning: The frame.append method is deprecated and will be removed from pandas in a future version. Use pandas.concat instead.\n",
      "  output_df = output_df.append(result, ignore_index=True)\n"
     ]
    },
    {
     "name": "stdout",
     "output_type": "stream",
     "text": [
      "Execution time: 5937.116101026535\n",
      "Crawling features for product Bikini 2 mảnh cho bé 8-22kg_Đồ bơi cho bé gái hở lưng đi biển\n"
     ]
    },
    {
     "name": "stderr",
     "output_type": "stream",
     "text": [
      "c:\\Users\\ADMIN\\PycharmProjects\\pricecrawler\\key_word_crawl.py:433: FutureWarning: The frame.append method is deprecated and will be removed from pandas in a future version. Use pandas.concat instead.\n",
      "  output_df = output_df.append(result, ignore_index=True)\n"
     ]
    },
    {
     "name": "stdout",
     "output_type": "stream",
     "text": [
      "Execution time: 5968.021222352982\n",
      "Crawling features for product Bikini đi biển 2 mảnh đồ bơi nữ kín đáo set 3 chi tiết áo croptop kèm quần đùi LUHAZO kiểu Hàn Quốc đẹp 8066 B-24\n"
     ]
    },
    {
     "name": "stderr",
     "output_type": "stream",
     "text": [
      "c:\\Users\\ADMIN\\PycharmProjects\\pricecrawler\\key_word_crawl.py:433: FutureWarning: The frame.append method is deprecated and will be removed from pandas in a future version. Use pandas.concat instead.\n",
      "  output_df = output_df.append(result, ignore_index=True)\n"
     ]
    },
    {
     "name": "stdout",
     "output_type": "stream",
     "text": [
      "Execution time: 5995.9610431194305\n",
      "Crawling features for product Bikini, Đồ Bơi Đi Biển Tay Dài Đen Khóa Kéo Dáng Đùi ODERI LT-107\n"
     ]
    },
    {
     "name": "stderr",
     "output_type": "stream",
     "text": [
      "c:\\Users\\ADMIN\\PycharmProjects\\pricecrawler\\key_word_crawl.py:433: FutureWarning: The frame.append method is deprecated and will be removed from pandas in a future version. Use pandas.concat instead.\n",
      "  output_df = output_df.append(result, ignore_index=True)\n"
     ]
    },
    {
     "name": "stdout",
     "output_type": "stream",
     "text": [
      "Execution time: 6022.638376712799\n",
      "Crawling features for product Đồ Bơi Bé Gái 2 Mảnh Tặng Kèm Tuban 1-7 Tuổi (10-24 Kg) QB05\n"
     ]
    },
    {
     "name": "stderr",
     "output_type": "stream",
     "text": [
      "c:\\Users\\ADMIN\\PycharmProjects\\pricecrawler\\key_word_crawl.py:433: FutureWarning: The frame.append method is deprecated and will be removed from pandas in a future version. Use pandas.concat instead.\n",
      "  output_df = output_df.append(result, ignore_index=True)\n"
     ]
    },
    {
     "name": "stdout",
     "output_type": "stream",
     "text": [
      "Execution time: 6048.3709762096405\n",
      "Crawling features for product Phao Bơi Cho Bé Có Bóng Hỗ Trợ Chống Lật Từ 0-6 Tuổi\n"
     ]
    },
    {
     "name": "stderr",
     "output_type": "stream",
     "text": [
      "c:\\Users\\ADMIN\\PycharmProjects\\pricecrawler\\key_word_crawl.py:433: FutureWarning: The frame.append method is deprecated and will be removed from pandas in a future version. Use pandas.concat instead.\n",
      "  output_df = output_df.append(result, ignore_index=True)\n"
     ]
    },
    {
     "name": "stdout",
     "output_type": "stream",
     "text": [
      "Execution time: 6072.913644790649\n",
      "Crawling features for product Đồ Bơi Bé Gái, Bộ Bơi Bé Gái Tay Ngắn Habi Fashion HB2301 Họa Tiết Sunday  Chất Liệu Co Giãn Cho Bé Từ 18-60kg\n"
     ]
    },
    {
     "name": "stderr",
     "output_type": "stream",
     "text": [
      "c:\\Users\\ADMIN\\PycharmProjects\\pricecrawler\\key_word_crawl.py:433: FutureWarning: The frame.append method is deprecated and will be removed from pandas in a future version. Use pandas.concat instead.\n",
      "  output_df = output_df.append(result, ignore_index=True)\n"
     ]
    },
    {
     "name": "stdout",
     "output_type": "stream",
     "text": [
      "Execution time: 6130.320959806442\n",
      "Crawling features for product Bikini 3 mảnh đồ bơi đẹp màu nâu cà phê kết hợp khoen\n"
     ]
    },
    {
     "name": "stderr",
     "output_type": "stream",
     "text": [
      "c:\\Users\\ADMIN\\PycharmProjects\\pricecrawler\\key_word_crawl.py:433: FutureWarning: The frame.append method is deprecated and will be removed from pandas in a future version. Use pandas.concat instead.\n",
      "  output_df = output_df.append(result, ignore_index=True)\n"
     ]
    },
    {
     "name": "stdout",
     "output_type": "stream",
     "text": [
      "Execution time: 6155.127578020096\n",
      "Crawling features for product Kính Bơi Chuyên Nghiệp Gọng Lớn Bằng Silicone Mềm Chống Nước Chống Sương Mù Cho Nam &amp; Nữ\n"
     ]
    },
    {
     "name": "stderr",
     "output_type": "stream",
     "text": [
      "c:\\Users\\ADMIN\\PycharmProjects\\pricecrawler\\key_word_crawl.py:433: FutureWarning: The frame.append method is deprecated and will be removed from pandas in a future version. Use pandas.concat instead.\n",
      "  output_df = output_df.append(result, ignore_index=True)\n"
     ]
    },
    {
     "name": "stdout",
     "output_type": "stream",
     "text": [
      "Execution time: 6180.961270332336\n",
      "Crawling features for product Bikini quần rời cho người lớn tuổi, đồ bơi trung niên trang nhã, bộ bơi đi biển đẹp cho các mẹ các bà\n"
     ]
    },
    {
     "name": "stderr",
     "output_type": "stream",
     "text": [
      "c:\\Users\\ADMIN\\PycharmProjects\\pricecrawler\\key_word_crawl.py:433: FutureWarning: The frame.append method is deprecated and will be removed from pandas in a future version. Use pandas.concat instead.\n",
      "  output_df = output_df.append(result, ignore_index=True)\n"
     ]
    },
    {
     "name": "stdout",
     "output_type": "stream",
     "text": [
      "Execution time: 6204.552823066711\n",
      "Crawling features for product Phao bơi body chống lật cho bé từ 6 tháng đến 6 tuổi\n"
     ]
    },
    {
     "name": "stderr",
     "output_type": "stream",
     "text": [
      "c:\\Users\\ADMIN\\PycharmProjects\\pricecrawler\\key_word_crawl.py:433: FutureWarning: The frame.append method is deprecated and will be removed from pandas in a future version. Use pandas.concat instead.\n",
      "  output_df = output_df.append(result, ignore_index=True)\n"
     ]
    },
    {
     "name": "stdout",
     "output_type": "stream",
     "text": [
      "Execution time: 6228.076100349426\n",
      "Crawling features for product BIKINI LOẠI ĐẸP ,Bộ đồ bơi bikini hai mảnh tay lỡ, chân váy đi bơi đi biển kín đáo mã vẫn đẹp\n"
     ]
    },
    {
     "name": "stderr",
     "output_type": "stream",
     "text": [
      "c:\\Users\\ADMIN\\PycharmProjects\\pricecrawler\\key_word_crawl.py:433: FutureWarning: The frame.append method is deprecated and will be removed from pandas in a future version. Use pandas.concat instead.\n",
      "  output_df = output_df.append(result, ignore_index=True)\n"
     ]
    },
    {
     "name": "stdout",
     "output_type": "stream",
     "text": [
      "Execution time: 6253.545370578766\n",
      "Crawling features for product Đồ bơi nữ dài tay,bikini kín đáo LULY SPORT hàng Quảng Châu, chất đẹp, co giãn thoải mãi\n"
     ]
    },
    {
     "name": "stderr",
     "output_type": "stream",
     "text": [
      "c:\\Users\\ADMIN\\PycharmProjects\\pricecrawler\\key_word_crawl.py:433: FutureWarning: The frame.append method is deprecated and will be removed from pandas in a future version. Use pandas.concat instead.\n",
      "  output_df = output_df.append(result, ignore_index=True)\n"
     ]
    },
    {
     "name": "stdout",
     "output_type": "stream",
     "text": [
      "Execution time: 6298.572508096695\n",
      "Crawling features for product Đồ Bơi Bé Trai Họa Tiết Khủng Long Habi Fashion Chất Liệu Bền Đẹp Co Giãn Tốt Hàng Loại 1 HABI19\n"
     ]
    },
    {
     "name": "stderr",
     "output_type": "stream",
     "text": [
      "c:\\Users\\ADMIN\\PycharmProjects\\pricecrawler\\key_word_crawl.py:433: FutureWarning: The frame.append method is deprecated and will be removed from pandas in a future version. Use pandas.concat instead.\n",
      "  output_df = output_df.append(result, ignore_index=True)\n"
     ]
    },
    {
     "name": "stdout",
     "output_type": "stream",
     "text": [
      "Execution time: 6353.0009734630585\n",
      "Crawling features for product Bộ Đồ Bơi Hai Lớp Dáng Rộng Cỡ Lớn Chống Nắng Thời Trang Cao Cấp Cho Nam\n"
     ]
    },
    {
     "name": "stderr",
     "output_type": "stream",
     "text": [
      "c:\\Users\\ADMIN\\PycharmProjects\\pricecrawler\\key_word_crawl.py:433: FutureWarning: The frame.append method is deprecated and will be removed from pandas in a future version. Use pandas.concat instead.\n",
      "  output_df = output_df.append(result, ignore_index=True)\n"
     ]
    },
    {
     "name": "stdout",
     "output_type": "stream",
     "text": [
      "Execution time: 6379.562340021133\n",
      "Crawling features for product [BIKINI LIỀN MẢNH] Đồ bơi đi biển 1 mảnh khoét lưng đủ màu\n"
     ]
    },
    {
     "name": "stderr",
     "output_type": "stream",
     "text": [
      "c:\\Users\\ADMIN\\PycharmProjects\\pricecrawler\\key_word_crawl.py:433: FutureWarning: The frame.append method is deprecated and will be removed from pandas in a future version. Use pandas.concat instead.\n",
      "  output_df = output_df.append(result, ignore_index=True)\n"
     ]
    },
    {
     "name": "stdout",
     "output_type": "stream",
     "text": [
      "Execution time: 6409.370386123657\n",
      "Crawling features for product Bộ phao tay tập bơi 2 chiếc cho trẻ em và người lớn loại dày, chất liệu PVC cao cấp\n"
     ]
    },
    {
     "name": "stderr",
     "output_type": "stream",
     "text": [
      "c:\\Users\\ADMIN\\PycharmProjects\\pricecrawler\\key_word_crawl.py:433: FutureWarning: The frame.append method is deprecated and will be removed from pandas in a future version. Use pandas.concat instead.\n",
      "  output_df = output_df.append(result, ignore_index=True)\n"
     ]
    },
    {
     "name": "stdout",
     "output_type": "stream",
     "text": [
      "Execution time: 6435.032863378525\n",
      "Crawling features for product Phao bơi chống lật thời trang cho bé gái, công chúa từ 0 đến 8 tuổi\n"
     ]
    },
    {
     "name": "stderr",
     "output_type": "stream",
     "text": [
      "c:\\Users\\ADMIN\\PycharmProjects\\pricecrawler\\key_word_crawl.py:433: FutureWarning: The frame.append method is deprecated and will be removed from pandas in a future version. Use pandas.concat instead.\n",
      "  output_df = output_df.append(result, ignore_index=True)\n"
     ]
    },
    {
     "name": "stdout",
     "output_type": "stream",
     "text": [
      "Execution time: 6458.701876878738\n",
      "Crawling features for product Phao bơi cho bé có lót ngồi và tay cầm chắc chắn\n"
     ]
    },
    {
     "name": "stderr",
     "output_type": "stream",
     "text": [
      "c:\\Users\\ADMIN\\PycharmProjects\\pricecrawler\\key_word_crawl.py:433: FutureWarning: The frame.append method is deprecated and will be removed from pandas in a future version. Use pandas.concat instead.\n",
      "  output_df = output_df.append(result, ignore_index=True)\n"
     ]
    },
    {
     "name": "stdout",
     "output_type": "stream",
     "text": [
      "Execution time: 6488.513685941696\n",
      "Crawling features for product Phao bơi chống lật cho bé trai bé gái từ 2-5y kèm đế lót 3 màu mẫu hình thú siêu xinh vận động ngoài trời hè 2023\n"
     ]
    },
    {
     "name": "stderr",
     "output_type": "stream",
     "text": [
      "ERROR:root:Traceback (most recent call last):\n",
      "  File \"c:\\Users\\ADMIN\\PycharmProjects\\pricecrawler\\key_word_crawl.py\", line 432, in crawl_multiple_products\n",
      "    result = self.extract_product_feature(url)\n",
      "  File \"c:\\Users\\ADMIN\\PycharmProjects\\pricecrawler\\key_word_crawl.py\", line 224, in extract_product_feature\n",
      "    class_=\"DmxDxl\").text  # nếu có giá (k free ship) thì có gtri là giá ship; k thì là \"miễn phí vận chuyển\"\n",
      "AttributeError: 'NoneType' object has no attribute 'text'\n",
      "\n"
     ]
    },
    {
     "name": "stdout",
     "output_type": "stream",
     "text": [
      "Crawling features for product Bikini đồ bơi nữ kín đáo Đùi 2022 Dài Tay đi biển Hàn Quốc 2 mảnh bigsize kiểu Quảng Châu Đẹp Co Giãn 2355 DK4T401\n"
     ]
    },
    {
     "name": "stderr",
     "output_type": "stream",
     "text": [
      "c:\\Users\\ADMIN\\PycharmProjects\\pricecrawler\\key_word_crawl.py:433: FutureWarning: The frame.append method is deprecated and will be removed from pandas in a future version. Use pandas.concat instead.\n",
      "  output_df = output_df.append(result, ignore_index=True)\n"
     ]
    },
    {
     "name": "stdout",
     "output_type": "stream",
     "text": [
      "Execution time: 6524.456628084183\n",
      "Crawling features for product bikini đi biển , váy đi biển, đồ bơi nữ kín đáo 1 mảnh- Đồ bơi một mảnh AYF\n"
     ]
    },
    {
     "name": "stderr",
     "output_type": "stream",
     "text": [
      "c:\\Users\\ADMIN\\PycharmProjects\\pricecrawler\\key_word_crawl.py:433: FutureWarning: The frame.append method is deprecated and will be removed from pandas in a future version. Use pandas.concat instead.\n",
      "  output_df = output_df.append(result, ignore_index=True)\n"
     ]
    },
    {
     "name": "stdout",
     "output_type": "stream",
     "text": [
      "Execution time: 6549.237393856049\n",
      "Crawling features for product Bộ Đồ Bơi Bikini Quyến Rũ Cho Nữ XLYZC167\n"
     ]
    },
    {
     "name": "stderr",
     "output_type": "stream",
     "text": [
      "c:\\Users\\ADMIN\\PycharmProjects\\pricecrawler\\key_word_crawl.py:433: FutureWarning: The frame.append method is deprecated and will be removed from pandas in a future version. Use pandas.concat instead.\n",
      "  output_df = output_df.append(result, ignore_index=True)\n"
     ]
    },
    {
     "name": "stdout",
     "output_type": "stream",
     "text": [
      "Execution time: 6630.215812206268\n",
      "Crawling features for product (Kèm Mũ) Đồ Bơi Liền Thân Cho Bé Họa Tiết Đáng Yêu, Đồ Bơi Siêu Nhân Cho Bé\n"
     ]
    },
    {
     "name": "stderr",
     "output_type": "stream",
     "text": [
      "c:\\Users\\ADMIN\\PycharmProjects\\pricecrawler\\key_word_crawl.py:433: FutureWarning: The frame.append method is deprecated and will be removed from pandas in a future version. Use pandas.concat instead.\n",
      "  output_df = output_df.append(result, ignore_index=True)\n"
     ]
    },
    {
     "name": "stdout",
     "output_type": "stream",
     "text": [
      "Execution time: 6657.140426397324\n",
      "Crawling features for product Đồ bơi Nữ BIKINI PASSPORT kiểu Một mảnh tay ngắn kín đáo có khoá - màu Đen - BS1001_BL\n"
     ]
    },
    {
     "name": "stderr",
     "output_type": "stream",
     "text": [
      "c:\\Users\\ADMIN\\PycharmProjects\\pricecrawler\\key_word_crawl.py:433: FutureWarning: The frame.append method is deprecated and will be removed from pandas in a future version. Use pandas.concat instead.\n",
      "  output_df = output_df.append(result, ignore_index=True)\n"
     ]
    },
    {
     "name": "stdout",
     "output_type": "stream",
     "text": [
      "Execution time: 6688.044901132584\n",
      "Crawling features for product Quần Dài Bơi Quần Lửng Bơi Váy Bơi Nữ Lưng Cao Vải Đẹp\n"
     ]
    },
    {
     "name": "stderr",
     "output_type": "stream",
     "text": [
      "c:\\Users\\ADMIN\\PycharmProjects\\pricecrawler\\key_word_crawl.py:433: FutureWarning: The frame.append method is deprecated and will be removed from pandas in a future version. Use pandas.concat instead.\n",
      "  output_df = output_df.append(result, ignore_index=True)\n"
     ]
    },
    {
     "name": "stdout",
     "output_type": "stream",
     "text": [
      "Execution time: 6717.013687372208\n",
      "Crawling features for product BIKINI LOẠI ĐẸP ,Đồ bơi nữ 2 mảnh quần dài áo dài,chống nắng chống tia UV tuyệt đối, Bộ tập GYM\n"
     ]
    },
    {
     "name": "stderr",
     "output_type": "stream",
     "text": [
      "c:\\Users\\ADMIN\\PycharmProjects\\pricecrawler\\key_word_crawl.py:433: FutureWarning: The frame.append method is deprecated and will be removed from pandas in a future version. Use pandas.concat instead.\n",
      "  output_df = output_df.append(result, ignore_index=True)\n"
     ]
    },
    {
     "name": "stdout",
     "output_type": "stream",
     "text": [
      "Execution time: 6744.733494758606\n",
      "Crawling features for product Bộ đồ bơi nữ dài tay, quần dài 3 mảnh dành cho nữ mùa hè áo xám Genuine mã L22\n"
     ]
    },
    {
     "name": "stderr",
     "output_type": "stream",
     "text": [
      "c:\\Users\\ADMIN\\PycharmProjects\\pricecrawler\\key_word_crawl.py:433: FutureWarning: The frame.append method is deprecated and will be removed from pandas in a future version. Use pandas.concat instead.\n",
      "  output_df = output_df.append(result, ignore_index=True)\n"
     ]
    },
    {
     "name": "stdout",
     "output_type": "stream",
     "text": [
      "Execution time: 6772.401383638382\n",
      "Crawling features for product Bộ Đồ Bơi Nữ 2 Mảnh Quần Đùi Cạp Cao Aó Crop Dài Tay Bin Sports BHV152\n"
     ]
    },
    {
     "name": "stderr",
     "output_type": "stream",
     "text": [
      "c:\\Users\\ADMIN\\PycharmProjects\\pricecrawler\\key_word_crawl.py:433: FutureWarning: The frame.append method is deprecated and will be removed from pandas in a future version. Use pandas.concat instead.\n",
      "  output_df = output_df.append(result, ignore_index=True)\n"
     ]
    },
    {
     "name": "stdout",
     "output_type": "stream",
     "text": [
      "Execution time: 6798.254947423935\n",
      "Crawling features for product Bộ đồ bơi 2 mảnh quần đùi dáng thể thao năng động cho bạn nữ\n"
     ]
    },
    {
     "name": "stderr",
     "output_type": "stream",
     "text": [
      "c:\\Users\\ADMIN\\PycharmProjects\\pricecrawler\\key_word_crawl.py:433: FutureWarning: The frame.append method is deprecated and will be removed from pandas in a future version. Use pandas.concat instead.\n",
      "  output_df = output_df.append(result, ignore_index=True)\n"
     ]
    },
    {
     "name": "stdout",
     "output_type": "stream",
     "text": [
      "Execution time: 6820.690107822418\n",
      "Crawling features for product (CAO CẤP) Bikini 1 mảnh áo tắm liền thân đi biển tay dài khóa kéo che khuyết điểm đồ bơi nữ kín đáo màu đen tôn dáng\n"
     ]
    },
    {
     "name": "stderr",
     "output_type": "stream",
     "text": [
      "c:\\Users\\ADMIN\\PycharmProjects\\pricecrawler\\key_word_crawl.py:433: FutureWarning: The frame.append method is deprecated and will be removed from pandas in a future version. Use pandas.concat instead.\n",
      "  output_df = output_df.append(result, ignore_index=True)\n"
     ]
    },
    {
     "name": "stdout",
     "output_type": "stream",
     "text": [
      "Execution time: 6852.432505369186\n",
      "Crawling features for product [CÓ SẴN ĐỦ MÀU - HÀNG CAO CẤP ] Bikini/ Đồ bơi set 3 món vải xốp có váy rút dây hot trend\n"
     ]
    },
    {
     "name": "stderr",
     "output_type": "stream",
     "text": [
      "c:\\Users\\ADMIN\\PycharmProjects\\pricecrawler\\key_word_crawl.py:433: FutureWarning: The frame.append method is deprecated and will be removed from pandas in a future version. Use pandas.concat instead.\n",
      "  output_df = output_df.append(result, ignore_index=True)\n"
     ]
    },
    {
     "name": "stdout",
     "output_type": "stream",
     "text": [
      "Execution time: 6881.069273948669\n",
      "Crawling features for product Đồ Bơi Dollarkids Cho Bé Từ 2 Tuổi Đến 12 Tuổi\n"
     ]
    },
    {
     "name": "stderr",
     "output_type": "stream",
     "text": [
      "c:\\Users\\ADMIN\\PycharmProjects\\pricecrawler\\key_word_crawl.py:433: FutureWarning: The frame.append method is deprecated and will be removed from pandas in a future version. Use pandas.concat instead.\n",
      "  output_df = output_df.append(result, ignore_index=True)\n"
     ]
    },
    {
     "name": "stdout",
     "output_type": "stream",
     "text": [
      "Execution time: 6906.717557430267\n",
      "Crawling features for product Đồ Bơi Bé Trai Cao Cấp Kiểu Dáng Dễ Thương (Ảnh thật)\n"
     ]
    },
    {
     "name": "stderr",
     "output_type": "stream",
     "text": [
      "c:\\Users\\ADMIN\\PycharmProjects\\pricecrawler\\key_word_crawl.py:433: FutureWarning: The frame.append method is deprecated and will be removed from pandas in a future version. Use pandas.concat instead.\n",
      "  output_df = output_df.append(result, ignore_index=True)\n"
     ]
    },
    {
     "name": "stdout",
     "output_type": "stream",
     "text": [
      "Execution time: 6932.267297029495\n",
      "Crawling features for product Set đồ bơi bikini 3 món Aki sexy mùa hè\n"
     ]
    },
    {
     "name": "stderr",
     "output_type": "stream",
     "text": [
      "c:\\Users\\ADMIN\\PycharmProjects\\pricecrawler\\key_word_crawl.py:433: FutureWarning: The frame.append method is deprecated and will be removed from pandas in a future version. Use pandas.concat instead.\n",
      "  output_df = output_df.append(result, ignore_index=True)\n"
     ]
    },
    {
     "name": "stdout",
     "output_type": "stream",
     "text": [
      "Execution time: 6955.70464682579\n",
      "Crawling features for product Váy bơi nữ rút dây sành điệu THUN LẠNH DÀY MỊN MÁT, quần bơi short liền bên trong\n"
     ]
    },
    {
     "name": "stderr",
     "output_type": "stream",
     "text": [
      "c:\\Users\\ADMIN\\PycharmProjects\\pricecrawler\\key_word_crawl.py:433: FutureWarning: The frame.append method is deprecated and will be removed from pandas in a future version. Use pandas.concat instead.\n",
      "  output_df = output_df.append(result, ignore_index=True)\n"
     ]
    },
    {
     "name": "stdout",
     "output_type": "stream",
     "text": [
      "Execution time: 6985.675589799881\n",
      "Crawling features for product Bikini Đồ Bơi Badblo Phong Cách Hàn Quốc Emma (Video cận chất shop tự quay)\n"
     ]
    },
    {
     "name": "stderr",
     "output_type": "stream",
     "text": [
      "c:\\Users\\ADMIN\\PycharmProjects\\pricecrawler\\key_word_crawl.py:433: FutureWarning: The frame.append method is deprecated and will be removed from pandas in a future version. Use pandas.concat instead.\n",
      "  output_df = output_df.append(result, ignore_index=True)\n"
     ]
    },
    {
     "name": "stdout",
     "output_type": "stream",
     "text": [
      "Execution time: 7014.4781584739685\n",
      "Crawling features for product (Sẵn M,L,XL - QC cao cấp) Bikini đồ bơi nữ kín đáo áo tắm liền một mảnh cổ vuông tay lỡ hở lưng cực đẹp -2598\n"
     ]
    },
    {
     "name": "stderr",
     "output_type": "stream",
     "text": [
      "c:\\Users\\ADMIN\\PycharmProjects\\pricecrawler\\key_word_crawl.py:433: FutureWarning: The frame.append method is deprecated and will be removed from pandas in a future version. Use pandas.concat instead.\n",
      "  output_df = output_df.append(result, ignore_index=True)\n"
     ]
    },
    {
     "name": "stdout",
     "output_type": "stream",
     "text": [
      "Execution time: 7041.349047422409\n",
      "Crawling features for product (MỚI 2023) Bộ bơi rời quần đùi bé trai kèm mũ đồ bơi cho bé 9-35kg người nhện khủng long cộc tay dài tay\n"
     ]
    },
    {
     "name": "stderr",
     "output_type": "stream",
     "text": [
      "c:\\Users\\ADMIN\\PycharmProjects\\pricecrawler\\key_word_crawl.py:433: FutureWarning: The frame.append method is deprecated and will be removed from pandas in a future version. Use pandas.concat instead.\n",
      "  output_df = output_df.append(result, ignore_index=True)\n"
     ]
    },
    {
     "name": "stdout",
     "output_type": "stream",
     "text": [
      "Execution time: 7065.974053144455\n",
      "Crawling features for product Bikini 2 mảnh đồ bơi đi biển trễ vai cổ yếm sexy quần cạp cao dạng váy che bụng tốt xếp ly cao cấp thời 2798 D-\n"
     ]
    },
    {
     "name": "stderr",
     "output_type": "stream",
     "text": [
      "c:\\Users\\ADMIN\\PycharmProjects\\pricecrawler\\key_word_crawl.py:433: FutureWarning: The frame.append method is deprecated and will be removed from pandas in a future version. Use pandas.concat instead.\n",
      "  output_df = output_df.append(result, ignore_index=True)\n"
     ]
    },
    {
     "name": "stdout",
     "output_type": "stream",
     "text": [
      "Execution time: 7094.754207134247\n",
      "Crawling features for product Bộ Đồ Bơi Liền Thân Dài Tay Chống Nắng Kiểu Công Chúa Dễ Thương Cho Bé Gái\n"
     ]
    },
    {
     "name": "stderr",
     "output_type": "stream",
     "text": [
      "c:\\Users\\ADMIN\\PycharmProjects\\pricecrawler\\key_word_crawl.py:433: FutureWarning: The frame.append method is deprecated and will be removed from pandas in a future version. Use pandas.concat instead.\n",
      "  output_df = output_df.append(result, ignore_index=True)\n"
     ]
    },
    {
     "name": "stdout",
     "output_type": "stream",
     "text": [
      "Execution time: 7136.909039735794\n",
      "Crawling features for product Bikini bé gái 1 mảnh liền thân size nhí+đại 10-40kg, đồ bơi bé gái liền thân\n"
     ]
    },
    {
     "name": "stderr",
     "output_type": "stream",
     "text": [
      "c:\\Users\\ADMIN\\PycharmProjects\\pricecrawler\\key_word_crawl.py:433: FutureWarning: The frame.append method is deprecated and will be removed from pandas in a future version. Use pandas.concat instead.\n",
      "  output_df = output_df.append(result, ignore_index=True)\n"
     ]
    },
    {
     "name": "stdout",
     "output_type": "stream",
     "text": [
      "Execution time: 7164.661498069763\n",
      "Crawling features for product LANSBOTER Quần Bơi Plus Size Chống Trầy Xước Nhanh Khô Cho Nam\n"
     ]
    },
    {
     "name": "stderr",
     "output_type": "stream",
     "text": [
      "c:\\Users\\ADMIN\\PycharmProjects\\pricecrawler\\key_word_crawl.py:433: FutureWarning: The frame.append method is deprecated and will be removed from pandas in a future version. Use pandas.concat instead.\n",
      "  output_df = output_df.append(result, ignore_index=True)\n"
     ]
    },
    {
     "name": "stdout",
     "output_type": "stream",
     "text": [
      "Execution time: 7190.556045770645\n",
      "Crawling features for product Đồ Bơi Bé Trai Habi Fashion HB 2237 Thiết Kế Họa Tiết Cá Mập Chất Liệu Co Giãn Cho Bé Từ 15-50kg\n"
     ]
    },
    {
     "name": "stderr",
     "output_type": "stream",
     "text": [
      "c:\\Users\\ADMIN\\PycharmProjects\\pricecrawler\\key_word_crawl.py:433: FutureWarning: The frame.append method is deprecated and will be removed from pandas in a future version. Use pandas.concat instead.\n",
      "  output_df = output_df.append(result, ignore_index=True)\n"
     ]
    },
    {
     "name": "stdout",
     "output_type": "stream",
     "text": [
      "Execution time: 7242.958799123764\n",
      "Crawling features for product Bộ Đồ Bơi Mùa Hè 2023 Hai Mảnh Khô Thoáng Nhanh Cho Bé Trai\n"
     ]
    },
    {
     "name": "stderr",
     "output_type": "stream",
     "text": [
      "c:\\Users\\ADMIN\\PycharmProjects\\pricecrawler\\key_word_crawl.py:433: FutureWarning: The frame.append method is deprecated and will be removed from pandas in a future version. Use pandas.concat instead.\n",
      "  output_df = output_df.append(result, ignore_index=True)\n"
     ]
    },
    {
     "name": "stdout",
     "output_type": "stream",
     "text": [
      "Execution time: 7316.733635425568\n",
      "Crawling features for product [HÀNG CAO CẤP] BỘ QUẦN GIỮ NHIỆT LEGGING COMBAT PRO NAM TẬP GYM BÓNG ĐÁ BÓNG RỔ CHƠI THỂ THAO\n"
     ]
    },
    {
     "name": "stderr",
     "output_type": "stream",
     "text": [
      "c:\\Users\\ADMIN\\PycharmProjects\\pricecrawler\\key_word_crawl.py:433: FutureWarning: The frame.append method is deprecated and will be removed from pandas in a future version. Use pandas.concat instead.\n",
      "  output_df = output_df.append(result, ignore_index=True)\n"
     ]
    },
    {
     "name": "stdout",
     "output_type": "stream",
     "text": [
      "Execution time: 7343.6097593307495\n",
      "Crawling features for product quần thể thao dài mắc cá thun lanh cao cấp tập gym, bơi, yoga, thời trang - jami-QYh\n"
     ]
    },
    {
     "name": "stderr",
     "output_type": "stream",
     "text": [
      "ERROR:root:Traceback (most recent call last):\n",
      "  File \"c:\\Users\\ADMIN\\PycharmProjects\\pricecrawler\\key_word_crawl.py\", line 432, in crawl_multiple_products\n",
      "    result = self.extract_product_feature(url)\n",
      "  File \"c:\\Users\\ADMIN\\PycharmProjects\\pricecrawler\\key_word_crawl.py\", line 406, in extract_product_feature\n",
      "    result[\"num_like\"] = soup.find_all(\"div\", {\"class\": \"Ne7dEf\"})[1].text\n",
      "IndexError: list index out of range\n",
      "\n"
     ]
    },
    {
     "name": "stdout",
     "output_type": "stream",
     "text": [
      "Crawling features for product Đồ bơi bé gái kiểu dáng HÀN QUỐC xinh xắn đáng yêu chính hãng cho bé từ 1 tuổi đến size đại\n"
     ]
    },
    {
     "name": "stderr",
     "output_type": "stream",
     "text": [
      "c:\\Users\\ADMIN\\PycharmProjects\\pricecrawler\\key_word_crawl.py:433: FutureWarning: The frame.append method is deprecated and will be removed from pandas in a future version. Use pandas.concat instead.\n",
      "  output_df = output_df.append(result, ignore_index=True)\n"
     ]
    },
    {
     "name": "stdout",
     "output_type": "stream",
     "text": [
      "Execution time: 7395.3441281318665\n",
      "Crawling features for product Đồ bơi một mảnh nữ Speedo Plmt Hyst - 8-1244515213\n"
     ]
    },
    {
     "name": "stderr",
     "output_type": "stream",
     "text": [
      "c:\\Users\\ADMIN\\PycharmProjects\\pricecrawler\\key_word_crawl.py:433: FutureWarning: The frame.append method is deprecated and will be removed from pandas in a future version. Use pandas.concat instead.\n",
      "  output_df = output_df.append(result, ignore_index=True)\n"
     ]
    },
    {
     "name": "stdout",
     "output_type": "stream",
     "text": [
      "Execution time: 7419.087062597275\n",
      "Crawling features for product Quần bơi nam dáng lửng và dáng đùi sport co giãn 4 chiều, không nhăn, không bai\n"
     ]
    },
    {
     "name": "stderr",
     "output_type": "stream",
     "text": [
      "c:\\Users\\ADMIN\\PycharmProjects\\pricecrawler\\key_word_crawl.py:433: FutureWarning: The frame.append method is deprecated and will be removed from pandas in a future version. Use pandas.concat instead.\n",
      "  output_df = output_df.append(result, ignore_index=True)\n"
     ]
    },
    {
     "name": "stdout",
     "output_type": "stream",
     "text": [
      "Execution time: 7438.43211722374\n",
      "Crawling features for product Bộ đồ bơi cho bé trai đi biển size đại từ 20-65kg nhiều mẫu mã ngộ nghĩnh - JJ Kids Fashion\n"
     ]
    },
    {
     "name": "stderr",
     "output_type": "stream",
     "text": [
      "c:\\Users\\ADMIN\\PycharmProjects\\pricecrawler\\key_word_crawl.py:433: FutureWarning: The frame.append method is deprecated and will be removed from pandas in a future version. Use pandas.concat instead.\n",
      "  output_df = output_df.append(result, ignore_index=True)\n"
     ]
    },
    {
     "name": "stdout",
     "output_type": "stream",
     "text": [
      "Execution time: 7480.405923366547\n",
      "Crawling features for product Bikini liền thân phối trắng sexy khoét eo đẹp\n"
     ]
    },
    {
     "name": "stderr",
     "output_type": "stream",
     "text": [
      "c:\\Users\\ADMIN\\PycharmProjects\\pricecrawler\\key_word_crawl.py:433: FutureWarning: The frame.append method is deprecated and will be removed from pandas in a future version. Use pandas.concat instead.\n",
      "  output_df = output_df.append(result, ignore_index=True)\n"
     ]
    },
    {
     "name": "stdout",
     "output_type": "stream",
     "text": [
      "Execution time: 7505.037087202072\n",
      "Crawling features for product Zoke Bộ Đồ Bơi Thể Thao Một Mảnh Dáng Ôm Che Phủ Bụng / Chân Dài Dành Cho Nữ\n"
     ]
    },
    {
     "name": "stderr",
     "output_type": "stream",
     "text": [
      "ERROR:root:Traceback (most recent call last):\n",
      "  File \"c:\\Users\\ADMIN\\PycharmProjects\\pricecrawler\\key_word_crawl.py\", line 432, in crawl_multiple_products\n",
      "    result = self.extract_product_feature(url)\n",
      "  File \"c:\\Users\\ADMIN\\PycharmProjects\\pricecrawler\\key_word_crawl.py\", line 406, in extract_product_feature\n",
      "    result[\"num_like\"] = soup.find_all(\"div\", {\"class\": \"Ne7dEf\"})[1].text\n",
      "IndexError: list index out of range\n",
      "\n"
     ]
    },
    {
     "name": "stdout",
     "output_type": "stream",
     "text": [
      "Crawling features for product Quần Bơi Nam 2 Lớp Chống Thấm Nước, Quần Đùi Nam Hai Lớp Chơi Tennis, Bóng Rổ, Tập Gym, Chạy Bộ\n"
     ]
    },
    {
     "name": "stderr",
     "output_type": "stream",
     "text": [
      "c:\\Users\\ADMIN\\PycharmProjects\\pricecrawler\\key_word_crawl.py:433: FutureWarning: The frame.append method is deprecated and will be removed from pandas in a future version. Use pandas.concat instead.\n",
      "  output_df = output_df.append(result, ignore_index=True)\n"
     ]
    },
    {
     "name": "stdout",
     "output_type": "stream",
     "text": [
      "Execution time: 7586.48016166687\n",
      "Crawling features for product Bikini cộc tay váy xoè kín đáo, đồ bơi liền mảnh kéo khoá tôn dáng\n"
     ]
    },
    {
     "name": "stderr",
     "output_type": "stream",
     "text": [
      "c:\\Users\\ADMIN\\PycharmProjects\\pricecrawler\\key_word_crawl.py:433: FutureWarning: The frame.append method is deprecated and will be removed from pandas in a future version. Use pandas.concat instead.\n",
      "  output_df = output_df.append(result, ignore_index=True)\n"
     ]
    },
    {
     "name": "stdout",
     "output_type": "stream",
     "text": [
      "Execution time: 7612.890552520752\n",
      "Crawling features for product Bikini liền thân U GONNA S màu đen ngắn tay co giãn kèm bra phong cách Hàn Quốc thanh lịch 2023 cho bơi/ lặn/ bãi biển\n"
     ]
    },
    {
     "name": "stderr",
     "output_type": "stream",
     "text": [
      "c:\\Users\\ADMIN\\PycharmProjects\\pricecrawler\\key_word_crawl.py:433: FutureWarning: The frame.append method is deprecated and will be removed from pandas in a future version. Use pandas.concat instead.\n",
      "  output_df = output_df.append(result, ignore_index=True)\n"
     ]
    },
    {
     "name": "stdout",
     "output_type": "stream",
     "text": [
      "Execution time: 7695.034438371658\n",
      "Crawling features for product Quần bơi nam chuyên nghiệp Narsis Q23004 dáng ngắn 2 lớp có túi khóa kéo tiện lợi chất vải PE cao cấp co giãn 4 chiều\n"
     ]
    },
    {
     "name": "stderr",
     "output_type": "stream",
     "text": [
      "c:\\Users\\ADMIN\\PycharmProjects\\pricecrawler\\key_word_crawl.py:433: FutureWarning: The frame.append method is deprecated and will be removed from pandas in a future version. Use pandas.concat instead.\n",
      "  output_df = output_df.append(result, ignore_index=True)\n"
     ]
    },
    {
     "name": "stdout",
     "output_type": "stream",
     "text": [
      "Execution time: 7757.75999212265\n",
      "Crawling features for product Bikini 2 mảnh bé gái sexy, đồ bơi bé gái 2 mảnh chấm bi\n"
     ]
    },
    {
     "name": "stderr",
     "output_type": "stream",
     "text": [
      "c:\\Users\\ADMIN\\PycharmProjects\\pricecrawler\\key_word_crawl.py:433: FutureWarning: The frame.append method is deprecated and will be removed from pandas in a future version. Use pandas.concat instead.\n",
      "  output_df = output_df.append(result, ignore_index=True)\n"
     ]
    },
    {
     "name": "stdout",
     "output_type": "stream",
     "text": [
      "Execution time: 7785.781333446503\n",
      "Crawling features for product Đồ bơi một mảnh Crystal Stone đen Trim Belt, phong cách mới của Hàn Quốc Bikini cho phụ nữ XLYZC169\n"
     ]
    },
    {
     "name": "stderr",
     "output_type": "stream",
     "text": [
      "c:\\Users\\ADMIN\\PycharmProjects\\pricecrawler\\key_word_crawl.py:433: FutureWarning: The frame.append method is deprecated and will be removed from pandas in a future version. Use pandas.concat instead.\n",
      "  output_df = output_df.append(result, ignore_index=True)\n"
     ]
    },
    {
     "name": "stdout",
     "output_type": "stream",
     "text": [
      "Execution time: 7862.761292457581\n",
      "Crawling features for product Phao bơi chống lật hình thú cho bé 1-6 tuổi dưới 30kg\n"
     ]
    },
    {
     "name": "stderr",
     "output_type": "stream",
     "text": [
      "c:\\Users\\ADMIN\\PycharmProjects\\pricecrawler\\key_word_crawl.py:433: FutureWarning: The frame.append method is deprecated and will be removed from pandas in a future version. Use pandas.concat instead.\n",
      "  output_df = output_df.append(result, ignore_index=True)\n"
     ]
    },
    {
     "name": "stdout",
     "output_type": "stream",
     "text": [
      "Execution time: 7928.968196153641\n",
      "Crawling features for product Áo phao bơi-áo phao cứu hộ 3 khóa cho BÉ và NGƯỜI LỚN số 2.3.4.5.6.7\n"
     ]
    },
    {
     "name": "stderr",
     "output_type": "stream",
     "text": [
      "c:\\Users\\ADMIN\\PycharmProjects\\pricecrawler\\key_word_crawl.py:433: FutureWarning: The frame.append method is deprecated and will be removed from pandas in a future version. Use pandas.concat instead.\n",
      "  output_df = output_df.append(result, ignore_index=True)\n"
     ]
    },
    {
     "name": "stdout",
     "output_type": "stream",
     "text": [
      "Execution time: 7950.59992647171\n",
      "Crawling features for product Bộ tập gym aerobic nữ, set váy đi biển đi bơi chạy bộ nữ áo rút ngực kết hợp chân váy 2 lớp (Vay03 ko mút)\n"
     ]
    },
    {
     "name": "stderr",
     "output_type": "stream",
     "text": [
      "c:\\Users\\ADMIN\\PycharmProjects\\pricecrawler\\key_word_crawl.py:433: FutureWarning: The frame.append method is deprecated and will be removed from pandas in a future version. Use pandas.concat instead.\n",
      "  output_df = output_df.append(result, ignore_index=True)\n"
     ]
    },
    {
     "name": "stdout",
     "output_type": "stream",
     "text": [
      "Execution time: 7984.572598695755\n",
      "Crawling features for product Phao Bơi Mềm Thân Thiện Với Da Chống Nước In Hình Mambobaby Dễ Thương Thân Thiện Với Da Cho Bé Trai Và Bé Gái Từ 8-36 Tháng Tuổi [19]\n"
     ]
    },
    {
     "name": "stderr",
     "output_type": "stream",
     "text": [
      "c:\\Users\\ADMIN\\PycharmProjects\\pricecrawler\\key_word_crawl.py:433: FutureWarning: The frame.append method is deprecated and will be removed from pandas in a future version. Use pandas.concat instead.\n",
      "  output_df = output_df.append(result, ignore_index=True)\n"
     ]
    },
    {
     "name": "stdout",
     "output_type": "stream",
     "text": [
      "Execution time: 8006.266924381256\n",
      "Crawling features for product Set kính kèm mũ bơi Lining đồ đi bơi chống thấm nước bảo vệ mắt cho người lớn và trẻ em\n"
     ]
    },
    {
     "name": "stderr",
     "output_type": "stream",
     "text": [
      "c:\\Users\\ADMIN\\PycharmProjects\\pricecrawler\\key_word_crawl.py:433: FutureWarning: The frame.append method is deprecated and will be removed from pandas in a future version. Use pandas.concat instead.\n",
      "  output_df = output_df.append(result, ignore_index=True)\n"
     ]
    },
    {
     "name": "stdout",
     "output_type": "stream",
     "text": [
      "Execution time: 8032.911808252335\n",
      "Crawling features for product Đồ bơi Nữ Một mảnh tay ngắn kín đáo có khoá - màu Đen\n"
     ]
    },
    {
     "name": "stderr",
     "output_type": "stream",
     "text": [
      "c:\\Users\\ADMIN\\PycharmProjects\\pricecrawler\\key_word_crawl.py:433: FutureWarning: The frame.append method is deprecated and will be removed from pandas in a future version. Use pandas.concat instead.\n",
      "  output_df = output_df.append(result, ignore_index=True)\n"
     ]
    },
    {
     "name": "stdout",
     "output_type": "stream",
     "text": [
      "Execution time: 8056.426253557205\n",
      "Crawling features for product Set Bikini Lưới Đi Biển 3 Món (Bán Rời) Bộ Bikini Kín đáo Đồ Đi Biển Bộ Đi Biển Br08\n"
     ]
    },
    {
     "name": "stderr",
     "output_type": "stream",
     "text": [
      "c:\\Users\\ADMIN\\PycharmProjects\\pricecrawler\\key_word_crawl.py:433: FutureWarning: The frame.append method is deprecated and will be removed from pandas in a future version. Use pandas.concat instead.\n",
      "  output_df = output_df.append(result, ignore_index=True)\n"
     ]
    },
    {
     "name": "stdout",
     "output_type": "stream",
     "text": [
      "Execution time: 8080.900853395462\n",
      "Crawling features for product Bơi Liền Váy Hoạ Tiết B112 Cho Bé Gái - Jumping Beans Official Store\n"
     ]
    },
    {
     "name": "stderr",
     "output_type": "stream",
     "text": [
      "c:\\Users\\ADMIN\\PycharmProjects\\pricecrawler\\key_word_crawl.py:433: FutureWarning: The frame.append method is deprecated and will be removed from pandas in a future version. Use pandas.concat instead.\n",
      "  output_df = output_df.append(result, ignore_index=True)\n"
     ]
    },
    {
     "name": "stdout",
     "output_type": "stream",
     "text": [
      "Execution time: 8105.681507587433\n",
      "Crawling features for product Phao bơi chong chóng cho người lớn và trẻ em có tay cầm họa tiết đẹp mắt\n"
     ]
    },
    {
     "name": "stderr",
     "output_type": "stream",
     "text": [
      "c:\\Users\\ADMIN\\PycharmProjects\\pricecrawler\\key_word_crawl.py:433: FutureWarning: The frame.append method is deprecated and will be removed from pandas in a future version. Use pandas.concat instead.\n",
      "  output_df = output_df.append(result, ignore_index=True)\n"
     ]
    },
    {
     "name": "stdout",
     "output_type": "stream",
     "text": [
      "Execution time: 8130.208808898926\n",
      "Crawling features for product Bikini đi biển, Đồ bơi nữ liền thân khoét eo quai chéo dây xích cao cấp mặc đi biển đi bơi cực sexy Bikini 69\n"
     ]
    },
    {
     "name": "stderr",
     "output_type": "stream",
     "text": [
      "c:\\Users\\ADMIN\\PycharmProjects\\pricecrawler\\key_word_crawl.py:433: FutureWarning: The frame.append method is deprecated and will be removed from pandas in a future version. Use pandas.concat instead.\n",
      "  output_df = output_df.append(result, ignore_index=True)\n"
     ]
    },
    {
     "name": "stdout",
     "output_type": "stream",
     "text": [
      "Execution time: 8154.756245136261\n",
      "Crawling features for product Bikini đi biển đồ bơi nữ liền thân 2 chi tiết kèm áo voan tay dài chống nắng thắt nơ eo độc đáo hàng Quảng Châu 656 C-2\n"
     ]
    },
    {
     "name": "stderr",
     "output_type": "stream",
     "text": [
      "c:\\Users\\ADMIN\\PycharmProjects\\pricecrawler\\key_word_crawl.py:433: FutureWarning: The frame.append method is deprecated and will be removed from pandas in a future version. Use pandas.concat instead.\n",
      "  output_df = output_df.append(result, ignore_index=True)\n"
     ]
    },
    {
     "name": "stdout",
     "output_type": "stream",
     "text": [
      "Execution time: 8180.121357917786\n",
      "Crawling features for product [Hàng QCCC] Bộ bơi cá mập/nemo cho bé trai bé gái\n"
     ]
    },
    {
     "name": "stderr",
     "output_type": "stream",
     "text": [
      "c:\\Users\\ADMIN\\PycharmProjects\\pricecrawler\\key_word_crawl.py:433: FutureWarning: The frame.append method is deprecated and will be removed from pandas in a future version. Use pandas.concat instead.\n",
      "  output_df = output_df.append(result, ignore_index=True)\n"
     ]
    },
    {
     "name": "stdout",
     "output_type": "stream",
     "text": [
      "Execution time: 8206.879760742188\n",
      "Crawling features for product bikini cho bé gái, đồ bơi Hàn Quốc cho bé gái, set đi biển cho bé, bikini liền thân cho bé, bodysuit đi biển cho bé\n"
     ]
    },
    {
     "name": "stderr",
     "output_type": "stream",
     "text": [
      "c:\\Users\\ADMIN\\PycharmProjects\\pricecrawler\\key_word_crawl.py:433: FutureWarning: The frame.append method is deprecated and will be removed from pandas in a future version. Use pandas.concat instead.\n",
      "  output_df = output_df.append(result, ignore_index=True)\n"
     ]
    },
    {
     "name": "stdout",
     "output_type": "stream",
     "text": [
      "Execution time: 8231.570007801056\n",
      "Crawling features for product Set 4 Phụ Kiện Bơi Cho Bé 3-10 Tuổi Mũ Bơi, Kính Bơi, Nút Bịt Tai Và Túi Đựng Đồ\n"
     ]
    },
    {
     "name": "stderr",
     "output_type": "stream",
     "text": [
      "c:\\Users\\ADMIN\\PycharmProjects\\pricecrawler\\key_word_crawl.py:433: FutureWarning: The frame.append method is deprecated and will be removed from pandas in a future version. Use pandas.concat instead.\n",
      "  output_df = output_df.append(result, ignore_index=True)\n"
     ]
    },
    {
     "name": "stdout",
     "output_type": "stream",
     "text": [
      "Execution time: 8312.440535783768\n",
      "Crawling features for product Bikini đi biển đồ bơi nữ 1 mảnh kín đáo tay dài khóa kéo quần đùi áo tắm biển nữ liền thân che khuyết điểm\n"
     ]
    },
    {
     "name": "stderr",
     "output_type": "stream",
     "text": [
      "c:\\Users\\ADMIN\\PycharmProjects\\pricecrawler\\key_word_crawl.py:433: FutureWarning: The frame.append method is deprecated and will be removed from pandas in a future version. Use pandas.concat instead.\n",
      "  output_df = output_df.append(result, ignore_index=True)\n"
     ]
    },
    {
     "name": "stdout",
     "output_type": "stream",
     "text": [
      "Execution time: 8341.118922948837\n",
      "Crawling features for product Đồ Bơi Một Mảnh Gợi Thời Trang Hàn Quốc Bikini\n"
     ]
    },
    {
     "name": "stderr",
     "output_type": "stream",
     "text": [
      "c:\\Users\\ADMIN\\PycharmProjects\\pricecrawler\\key_word_crawl.py:433: FutureWarning: The frame.append method is deprecated and will be removed from pandas in a future version. Use pandas.concat instead.\n",
      "  output_df = output_df.append(result, ignore_index=True)\n"
     ]
    },
    {
     "name": "stdout",
     "output_type": "stream",
     "text": [
      "Execution time: 8363.886904716492\n",
      "Crawling features for product Đồ bơi Nữ BIKINI PASSPORT một mảnh tay ngắn dạng váy có khóa &amp; logo - màu Đen - BS1008_BL\n"
     ]
    },
    {
     "name": "stderr",
     "output_type": "stream",
     "text": [
      "c:\\Users\\ADMIN\\PycharmProjects\\pricecrawler\\key_word_crawl.py:433: FutureWarning: The frame.append method is deprecated and will be removed from pandas in a future version. Use pandas.concat instead.\n",
      "  output_df = output_df.append(result, ignore_index=True)\n"
     ]
    },
    {
     "name": "stdout",
     "output_type": "stream",
     "text": [
      "Execution time: 8393.641929149628\n",
      "Crawling features for product Bikini đi biển dạng váy 2 dây bigsize xinh xắn đồ bộ nữ đi biển sang chảnh LUHAZO kiểu Hàn Quốc 8407 B-23\n"
     ]
    },
    {
     "name": "stderr",
     "output_type": "stream",
     "text": [
      "c:\\Users\\ADMIN\\PycharmProjects\\pricecrawler\\key_word_crawl.py:433: FutureWarning: The frame.append method is deprecated and will be removed from pandas in a future version. Use pandas.concat instead.\n",
      "  output_df = output_df.append(result, ignore_index=True)\n"
     ]
    },
    {
     "name": "stdout",
     "output_type": "stream",
     "text": [
      "Execution time: 8426.544521570206\n",
      "Crawling features for product Áo khoác bơi dài tay, áo khoác chống nắng đi biển, chèo thuyền, kayak, đi bơi dài tay xuất dư Hàn Quốc chống nắng\n"
     ]
    },
    {
     "name": "stderr",
     "output_type": "stream",
     "text": [
      "c:\\Users\\ADMIN\\PycharmProjects\\pricecrawler\\key_word_crawl.py:433: FutureWarning: The frame.append method is deprecated and will be removed from pandas in a future version. Use pandas.concat instead.\n",
      "  output_df = output_df.append(result, ignore_index=True)\n"
     ]
    },
    {
     "name": "stdout",
     "output_type": "stream",
     "text": [
      "Execution time: 8480.825633049011\n",
      "Crawling features for product Bộ bơi liền ngắn tay Bu Aqua cho bé trai bé gái cao cấp chính hãng\n"
     ]
    },
    {
     "name": "stderr",
     "output_type": "stream",
     "text": [
      "c:\\Users\\ADMIN\\PycharmProjects\\pricecrawler\\key_word_crawl.py:433: FutureWarning: The frame.append method is deprecated and will be removed from pandas in a future version. Use pandas.concat instead.\n",
      "  output_df = output_df.append(result, ignore_index=True)\n"
     ]
    },
    {
     "name": "stdout",
     "output_type": "stream",
     "text": [
      "Execution time: 8507.655379533768\n",
      "Crawling features for product Bikini 2 mảnh đi biển nữ kín đáo đồ tắm biển cao cấp vải đẹp co giãn thoải mái 2668 D-22\n"
     ]
    },
    {
     "name": "stderr",
     "output_type": "stream",
     "text": [
      "c:\\Users\\ADMIN\\PycharmProjects\\pricecrawler\\key_word_crawl.py:433: FutureWarning: The frame.append method is deprecated and will be removed from pandas in a future version. Use pandas.concat instead.\n",
      "  output_df = output_df.append(result, ignore_index=True)\n"
     ]
    },
    {
     "name": "stdout",
     "output_type": "stream",
     "text": [
      "Execution time: 8533.303282499313\n",
      "Crawling features for product Bộ Đồ Bơi Che Bụng Cỡ Lớn 100kg Dáng Rộng Thời Trang Mùa Xuân Cho Nữ\n"
     ]
    },
    {
     "name": "stderr",
     "output_type": "stream",
     "text": [
      "c:\\Users\\ADMIN\\PycharmProjects\\pricecrawler\\key_word_crawl.py:433: FutureWarning: The frame.append method is deprecated and will be removed from pandas in a future version. Use pandas.concat instead.\n",
      "  output_df = output_df.append(result, ignore_index=True)\n"
     ]
    },
    {
     "name": "stdout",
     "output_type": "stream",
     "text": [
      "Execution time: 8557.966135978699\n",
      "Crawling features for product (Hàng hot 2023 - QCCC) Bikini bộ bơi cho bé gái 1 - 7 tuổi họa tiết tiên cá điệu đà cực xinh cực đáng yêu\n"
     ]
    },
    {
     "name": "stderr",
     "output_type": "stream",
     "text": [
      "c:\\Users\\ADMIN\\PycharmProjects\\pricecrawler\\key_word_crawl.py:433: FutureWarning: The frame.append method is deprecated and will be removed from pandas in a future version. Use pandas.concat instead.\n",
      "  output_df = output_df.append(result, ignore_index=True)\n"
     ]
    },
    {
     "name": "stdout",
     "output_type": "stream",
     "text": [
      "Execution time: 8583.588206529617\n",
      "Crawling features for product Đồ bơi bé gái 1 mảnh, bikini bé gái liền thân hở lưng hoạ tiết dâu tây ngọt ngào\n"
     ]
    },
    {
     "name": "stderr",
     "output_type": "stream",
     "text": [
      "c:\\Users\\ADMIN\\PycharmProjects\\pricecrawler\\key_word_crawl.py:433: FutureWarning: The frame.append method is deprecated and will be removed from pandas in a future version. Use pandas.concat instead.\n",
      "  output_df = output_df.append(result, ignore_index=True)\n"
     ]
    },
    {
     "name": "stdout",
     "output_type": "stream",
     "text": [
      "Execution time: 8610.15359044075\n",
      "Crawling features for product Bộ bơi ylike áo quần rời nữ\n"
     ]
    },
    {
     "name": "stderr",
     "output_type": "stream",
     "text": [
      "c:\\Users\\ADMIN\\PycharmProjects\\pricecrawler\\key_word_crawl.py:433: FutureWarning: The frame.append method is deprecated and will be removed from pandas in a future version. Use pandas.concat instead.\n",
      "  output_df = output_df.append(result, ignore_index=True)\n"
     ]
    },
    {
     "name": "stdout",
     "output_type": "stream",
     "text": [
      "Execution time: 8629.638640403748\n",
      "Crawling features for product Bộ đồ bơi nữ 4 mảnh quần áo dài trẻ trung BK-555i\n"
     ]
    },
    {
     "name": "stderr",
     "output_type": "stream",
     "text": [
      "c:\\Users\\ADMIN\\PycharmProjects\\pricecrawler\\key_word_crawl.py:433: FutureWarning: The frame.append method is deprecated and will be removed from pandas in a future version. Use pandas.concat instead.\n",
      "  output_df = output_df.append(result, ignore_index=True)\n"
     ]
    },
    {
     "name": "stdout",
     "output_type": "stream",
     "text": [
      "Execution time: 8654.240824460983\n",
      "Crawling features for product [0-3Tuổi] Đồ Bơi Bé Gái Sơ Sinh 1-2-3 Tuổi | Bikini Cho Bé Gái Sơ Sinh Phong Cách Hàn Quốc\n"
     ]
    },
    {
     "name": "stderr",
     "output_type": "stream",
     "text": [
      "c:\\Users\\ADMIN\\PycharmProjects\\pricecrawler\\key_word_crawl.py:433: FutureWarning: The frame.append method is deprecated and will be removed from pandas in a future version. Use pandas.concat instead.\n",
      "  output_df = output_df.append(result, ignore_index=True)\n"
     ]
    },
    {
     "name": "stdout",
     "output_type": "stream",
     "text": [
      "Execution time: 8681.771024227142\n",
      "Crawling features for product Áo bơi NỮ lẻ BIKINI PASSPORT kiểu tay dài basic có logo - màu Xanh Navy - BS1004_NV\n"
     ]
    },
    {
     "name": "stderr",
     "output_type": "stream",
     "text": [
      "c:\\Users\\ADMIN\\PycharmProjects\\pricecrawler\\key_word_crawl.py:433: FutureWarning: The frame.append method is deprecated and will be removed from pandas in a future version. Use pandas.concat instead.\n",
      "  output_df = output_df.append(result, ignore_index=True)\n"
     ]
    },
    {
     "name": "stdout",
     "output_type": "stream",
     "text": [
      "Execution time: 8711.850656986237\n",
      "Crawling features for product DUNEA Dunea Đồ Bơi Nữ Hai Mảnh Dây Buộc Gợi Cảm\n"
     ]
    },
    {
     "name": "stderr",
     "output_type": "stream",
     "text": [
      "c:\\Users\\ADMIN\\PycharmProjects\\pricecrawler\\key_word_crawl.py:433: FutureWarning: The frame.append method is deprecated and will be removed from pandas in a future version. Use pandas.concat instead.\n",
      "  output_df = output_df.append(result, ignore_index=True)\n"
     ]
    },
    {
     "name": "stdout",
     "output_type": "stream",
     "text": [
      "Execution time: 8744.139505147934\n",
      "Crawling features for product Bộ bơi LULY SPORT chất thun lạnh cao cấp, dây đan thắt sau lưng, quần 2 lớp áo màu đẹp đi biển cực xinh\n"
     ]
    },
    {
     "name": "stderr",
     "output_type": "stream",
     "text": [
      "c:\\Users\\ADMIN\\PycharmProjects\\pricecrawler\\key_word_crawl.py:433: FutureWarning: The frame.append method is deprecated and will be removed from pandas in a future version. Use pandas.concat instead.\n",
      "  output_df = output_df.append(result, ignore_index=True)\n"
     ]
    },
    {
     "name": "stdout",
     "output_type": "stream",
     "text": [
      "Execution time: 8783.855636835098\n",
      "Crawling features for product Đồ Bơi Liền Thân Tay Dài - Black Bodysuit Sobie\n"
     ]
    },
    {
     "name": "stderr",
     "output_type": "stream",
     "text": [
      "c:\\Users\\ADMIN\\PycharmProjects\\pricecrawler\\key_word_crawl.py:433: FutureWarning: The frame.append method is deprecated and will be removed from pandas in a future version. Use pandas.concat instead.\n",
      "  output_df = output_df.append(result, ignore_index=True)\n"
     ]
    },
    {
     "name": "stdout",
     "output_type": "stream",
     "text": [
      "Execution time: 8809.726480007172\n",
      "Crawling features for product (CAO CẤP) Áo tắm đi biển đẹp ❤️ Bikini sexy 3 mảnh có quây siêu hot ❤️ đồ bơi nữ Hàn Quốc kín đáo quần tam giác gợi cảm\n"
     ]
    },
    {
     "name": "stderr",
     "output_type": "stream",
     "text": [
      "c:\\Users\\ADMIN\\PycharmProjects\\pricecrawler\\key_word_crawl.py:433: FutureWarning: The frame.append method is deprecated and will be removed from pandas in a future version. Use pandas.concat instead.\n",
      "  output_df = output_df.append(result, ignore_index=True)\n"
     ]
    },
    {
     "name": "stdout",
     "output_type": "stream",
     "text": [
      "Execution time: 8840.573832511902\n",
      "Crawling features for product Phao Bơi Chống Lật An Toàn Cho Bé 0-8 Tuổi Kèm Bơm Hottrend Hàn Quốc\n"
     ]
    },
    {
     "name": "stderr",
     "output_type": "stream",
     "text": [
      "c:\\Users\\ADMIN\\PycharmProjects\\pricecrawler\\key_word_crawl.py:433: FutureWarning: The frame.append method is deprecated and will be removed from pandas in a future version. Use pandas.concat instead.\n",
      "  output_df = output_df.append(result, ignore_index=True)\n"
     ]
    },
    {
     "name": "stdout",
     "output_type": "stream",
     "text": [
      "Execution time: 8868.208272218704\n",
      "Crawling features for product Bộ Đồ Bơi Bikini Thời Trang 2023 Quyến Rũ Cho Nữ XLYZB015\n"
     ]
    },
    {
     "name": "stderr",
     "output_type": "stream",
     "text": [
      "c:\\Users\\ADMIN\\PycharmProjects\\pricecrawler\\key_word_crawl.py:433: FutureWarning: The frame.append method is deprecated and will be removed from pandas in a future version. Use pandas.concat instead.\n",
      "  output_df = output_df.append(result, ignore_index=True)\n"
     ]
    },
    {
     "name": "stdout",
     "output_type": "stream",
     "text": [
      "Execution time: 8937.103510379791\n",
      "Crawling features for product Đồ bơi Nữ BIKINI PASSPORT một mảnh tay dài may 4 kim có khóa &amp; logo - màu Xanh Navy - BS1009_NV\n"
     ]
    },
    {
     "name": "stderr",
     "output_type": "stream",
     "text": [
      "c:\\Users\\ADMIN\\PycharmProjects\\pricecrawler\\key_word_crawl.py:433: FutureWarning: The frame.append method is deprecated and will be removed from pandas in a future version. Use pandas.concat instead.\n",
      "  output_df = output_df.append(result, ignore_index=True)\n"
     ]
    },
    {
     "name": "stdout",
     "output_type": "stream",
     "text": [
      "Execution time: 8967.034885644913\n",
      "Crawling features for product Bộ Đồ Bơi Liền Thân Dài Tay Dài Chăn Cho Bé Gái Từ 10kg Đến Size Baybyshark1\n"
     ]
    },
    {
     "name": "stderr",
     "output_type": "stream",
     "text": [
      "c:\\Users\\ADMIN\\PycharmProjects\\pricecrawler\\key_word_crawl.py:433: FutureWarning: The frame.append method is deprecated and will be removed from pandas in a future version. Use pandas.concat instead.\n",
      "  output_df = output_df.append(result, ignore_index=True)\n"
     ]
    },
    {
     "name": "stdout",
     "output_type": "stream",
     "text": [
      "Execution time: 8992.756575345993\n",
      "Crawling features for product ĐỒ BƠI NỮ Bikini tay dài váy quần kín đáo đi tắm biển đi bơi giá rẻ Freeship 50k Jami - ATD15\n"
     ]
    },
    {
     "name": "stderr",
     "output_type": "stream",
     "text": [
      "c:\\Users\\ADMIN\\PycharmProjects\\pricecrawler\\key_word_crawl.py:433: FutureWarning: The frame.append method is deprecated and will be removed from pandas in a future version. Use pandas.concat instead.\n",
      "  output_df = output_df.append(result, ignore_index=True)\n"
     ]
    },
    {
     "name": "stdout",
     "output_type": "stream",
     "text": [
      "Execution time: 9018.27003455162\n",
      "Crawling features for product Đồ bơi LOCO FISH tay dài dáng ngắn thời trang quyến rũ dành cho nữ\n"
     ]
    },
    {
     "name": "stderr",
     "output_type": "stream",
     "text": [
      "c:\\Users\\ADMIN\\PycharmProjects\\pricecrawler\\key_word_crawl.py:433: FutureWarning: The frame.append method is deprecated and will be removed from pandas in a future version. Use pandas.concat instead.\n",
      "  output_df = output_df.append(result, ignore_index=True)\n"
     ]
    },
    {
     "name": "stdout",
     "output_type": "stream",
     "text": [
      "Execution time: 9045.91126036644\n",
      "Crawling features for product Đồ bơi nữ tay ngắn bigsize kín đáo- bikini đi biển có tay quần short- đồ bơi học sinh nữ- shopnabi\n"
     ]
    },
    {
     "name": "stderr",
     "output_type": "stream",
     "text": [
      "c:\\Users\\ADMIN\\PycharmProjects\\pricecrawler\\key_word_crawl.py:433: FutureWarning: The frame.append method is deprecated and will be removed from pandas in a future version. Use pandas.concat instead.\n",
      "  output_df = output_df.append(result, ignore_index=True)\n"
     ]
    },
    {
     "name": "stdout",
     "output_type": "stream",
     "text": [
      "Execution time: 9070.64947462082\n",
      "Crawling features for product Mẫu mới 2023 - Đồ bơi bikini 3 mảnh mã L05 tay dài croptop đen trơn, quần dài dành cho nữ\n"
     ]
    },
    {
     "name": "stderr",
     "output_type": "stream",
     "text": [
      "c:\\Users\\ADMIN\\PycharmProjects\\pricecrawler\\key_word_crawl.py:433: FutureWarning: The frame.append method is deprecated and will be removed from pandas in a future version. Use pandas.concat instead.\n",
      "  output_df = output_df.append(result, ignore_index=True)\n"
     ]
    },
    {
     "name": "stdout",
     "output_type": "stream",
     "text": [
      "Execution time: 9097.202133178711\n",
      "Crawling features for product đồ bơi nữ kín đáo tay ngắn quần lửng đầu gối thun lanh cao cấp nhiệt ấm- JAMI - ATD55\n"
     ]
    },
    {
     "name": "stderr",
     "output_type": "stream",
     "text": [
      "c:\\Users\\ADMIN\\PycharmProjects\\pricecrawler\\key_word_crawl.py:433: FutureWarning: The frame.append method is deprecated and will be removed from pandas in a future version. Use pandas.concat instead.\n",
      "  output_df = output_df.append(result, ignore_index=True)\n"
     ]
    },
    {
     "name": "stdout",
     "output_type": "stream",
     "text": [
      "Execution time: 9126.035436868668\n",
      "Crawling features for product Set bikini ren móc đi biển 3 món áo bra quần khoác choàng đồ bơi đi biển\n"
     ]
    },
    {
     "name": "stderr",
     "output_type": "stream",
     "text": [
      "c:\\Users\\ADMIN\\PycharmProjects\\pricecrawler\\key_word_crawl.py:433: FutureWarning: The frame.append method is deprecated and will be removed from pandas in a future version. Use pandas.concat instead.\n",
      "  output_df = output_df.append(result, ignore_index=True)\n"
     ]
    },
    {
     "name": "stdout",
     "output_type": "stream",
     "text": [
      "Execution time: 9150.547832727432\n",
      "Crawling features for product [HÀNG XỊN THUN ĐỒ BƠI] Bộ đồ bơi trẻ em bé trai bé gái quần đùi áo dài tay siêu kute\n"
     ]
    },
    {
     "name": "stderr",
     "output_type": "stream",
     "text": [
      "c:\\Users\\ADMIN\\PycharmProjects\\pricecrawler\\key_word_crawl.py:433: FutureWarning: The frame.append method is deprecated and will be removed from pandas in a future version. Use pandas.concat instead.\n",
      "  output_df = output_df.append(result, ignore_index=True)\n"
     ]
    },
    {
     "name": "stdout",
     "output_type": "stream",
     "text": [
      "Execution time: 9178.518850326538\n",
      "Crawling features for product Set bộ bơi hè 3 chi tiết bé gái size đại đến 45kg - Bộ SEA WORLD\n"
     ]
    },
    {
     "name": "stderr",
     "output_type": "stream",
     "text": [
      "c:\\Users\\ADMIN\\PycharmProjects\\pricecrawler\\key_word_crawl.py:433: FutureWarning: The frame.append method is deprecated and will be removed from pandas in a future version. Use pandas.concat instead.\n",
      "  output_df = output_df.append(result, ignore_index=True)\n"
     ]
    },
    {
     "name": "stdout",
     "output_type": "stream",
     "text": [
      "Execution time: 9208.481483221054\n",
      "Crawling features for product SET BƠI 2 MẢNH TƯƠI MÁT MÙA HÈ CHO BÉ TOMBABY88\n"
     ]
    },
    {
     "name": "stderr",
     "output_type": "stream",
     "text": [
      "c:\\Users\\ADMIN\\PycharmProjects\\pricecrawler\\key_word_crawl.py:433: FutureWarning: The frame.append method is deprecated and will be removed from pandas in a future version. Use pandas.concat instead.\n",
      "  output_df = output_df.append(result, ignore_index=True)\n"
     ]
    },
    {
     "name": "stdout",
     "output_type": "stream",
     "text": [
      "Execution time: 9233.949804782867\n",
      "Crawling features for product Bộ tập gym yoga aerobic nữ, bộ tập thể thao nữ chất đẹp áo croptop kết hợp quần đùi 2 lớp\n"
     ]
    },
    {
     "name": "stderr",
     "output_type": "stream",
     "text": [
      "c:\\Users\\ADMIN\\PycharmProjects\\pricecrawler\\key_word_crawl.py:433: FutureWarning: The frame.append method is deprecated and will be removed from pandas in a future version. Use pandas.concat instead.\n",
      "  output_df = output_df.append(result, ignore_index=True)\n"
     ]
    },
    {
     "name": "stdout",
     "output_type": "stream",
     "text": [
      "Execution time: 9260.488347768784\n",
      "Crawling features for product Quần bơi nam Speedo Eco End+ Spl Mid V2 - 8-00299914534\n"
     ]
    },
    {
     "name": "stderr",
     "output_type": "stream",
     "text": [
      "ERROR:root:Traceback (most recent call last):\n",
      "  File \"c:\\Users\\ADMIN\\PycharmProjects\\pricecrawler\\key_word_crawl.py\", line 432, in crawl_multiple_products\n",
      "    result = self.extract_product_feature(url)\n",
      "  File \"c:\\Users\\ADMIN\\PycharmProjects\\pricecrawler\\key_word_crawl.py\", line 406, in extract_product_feature\n",
      "    result[\"num_like\"] = soup.find_all(\"div\", {\"class\": \"Ne7dEf\"})[1].text\n",
      "IndexError: list index out of range\n",
      "\n"
     ]
    },
    {
     "name": "stdout",
     "output_type": "stream",
     "text": [
      "Crawling features for product Quần bơi nam Speedo Eco End+ Spl Jam V2 - 8-00300214535\n"
     ]
    },
    {
     "name": "stderr",
     "output_type": "stream",
     "text": [
      "ERROR:root:Traceback (most recent call last):\n",
      "  File \"c:\\Users\\ADMIN\\PycharmProjects\\pricecrawler\\key_word_crawl.py\", line 432, in crawl_multiple_products\n",
      "    result = self.extract_product_feature(url)\n",
      "  File \"c:\\Users\\ADMIN\\PycharmProjects\\pricecrawler\\key_word_crawl.py\", line 406, in extract_product_feature\n",
      "    result[\"num_like\"] = soup.find_all(\"div\", {\"class\": \"Ne7dEf\"})[1].text\n",
      "IndexError: list index out of range\n",
      "\n"
     ]
    },
    {
     "name": "stdout",
     "output_type": "stream",
     "text": [
      "Crawling features for product Bộ Đồ Bơi Không Tay Thời Trang Mùa Xuân Hàn Quốc 2023 Mới\n"
     ]
    },
    {
     "name": "stderr",
     "output_type": "stream",
     "text": [
      "c:\\Users\\ADMIN\\PycharmProjects\\pricecrawler\\key_word_crawl.py:433: FutureWarning: The frame.append method is deprecated and will be removed from pandas in a future version. Use pandas.concat instead.\n",
      "  output_df = output_df.append(result, ignore_index=True)\n"
     ]
    },
    {
     "name": "stdout",
     "output_type": "stream",
     "text": [
      "Execution time: 9339.855605125427\n",
      "Crawling features for product Đồ bơi bé gái, dạng liền, chất vải cao cấp cho bé từ 10-45kg\n"
     ]
    },
    {
     "name": "stderr",
     "output_type": "stream",
     "text": [
      "c:\\Users\\ADMIN\\PycharmProjects\\pricecrawler\\key_word_crawl.py:433: FutureWarning: The frame.append method is deprecated and will be removed from pandas in a future version. Use pandas.concat instead.\n",
      "  output_df = output_df.append(result, ignore_index=True)\n"
     ]
    },
    {
     "name": "stdout",
     "output_type": "stream",
     "text": [
      "Execution time: 9367.585266590118\n",
      "Crawling features for product Bộ tập gym nữ,bộ đồ bơi nữ, đồ tập gym yoga aerobic nữ áo bra kết hợp quần đùi 2 lớp cùng màu có kèm mút ngực BTG20\n"
     ]
    },
    {
     "name": "stderr",
     "output_type": "stream",
     "text": [
      "c:\\Users\\ADMIN\\PycharmProjects\\pricecrawler\\key_word_crawl.py:433: FutureWarning: The frame.append method is deprecated and will be removed from pandas in a future version. Use pandas.concat instead.\n",
      "  output_df = output_df.append(result, ignore_index=True)\n"
     ]
    },
    {
     "name": "stdout",
     "output_type": "stream",
     "text": [
      "Execution time: 9396.165421009064\n",
      "Crawling features for product [BIKINI LOẠI ĐẸP] Đồ bơi nữ bikini đi biển nữ 2 mảnh lưng cao áo tay dài đen cá tính\n"
     ]
    },
    {
     "name": "stderr",
     "output_type": "stream",
     "text": [
      "c:\\Users\\ADMIN\\PycharmProjects\\pricecrawler\\key_word_crawl.py:433: FutureWarning: The frame.append method is deprecated and will be removed from pandas in a future version. Use pandas.concat instead.\n",
      "  output_df = output_df.append(result, ignore_index=True)\n"
     ]
    },
    {
     "name": "stdout",
     "output_type": "stream",
     "text": [
      "Execution time: 9425.92841053009\n",
      "Crawling features for product Quần, váy bikini đi biển, đồ bơi cho nữ màu đen, Mrsmile191 (BÁN LẺ VÁY, QUẦN KHÔNG KÈM ÁO)\n"
     ]
    },
    {
     "name": "stderr",
     "output_type": "stream",
     "text": [
      "c:\\Users\\ADMIN\\PycharmProjects\\pricecrawler\\key_word_crawl.py:433: FutureWarning: The frame.append method is deprecated and will be removed from pandas in a future version. Use pandas.concat instead.\n",
      "  output_df = output_df.append(result, ignore_index=True)\n"
     ]
    },
    {
     "name": "stdout",
     "output_type": "stream",
     "text": [
      "Execution time: 9452.46071267128\n",
      "Crawling features for product BIKINI LOẠI ĐẸP, Bộ Bikini 2 mảnh đẹp quần giả váy ngắn tay mặc đi biển đi bơi hàng Cao Cấp Loại 1\n"
     ]
    },
    {
     "name": "stderr",
     "output_type": "stream",
     "text": [
      "c:\\Users\\ADMIN\\PycharmProjects\\pricecrawler\\key_word_crawl.py:433: FutureWarning: The frame.append method is deprecated and will be removed from pandas in a future version. Use pandas.concat instead.\n",
      "  output_df = output_df.append(result, ignore_index=True)\n"
     ]
    },
    {
     "name": "stdout",
     "output_type": "stream",
     "text": [
      "Execution time: 9477.918478012085\n",
      "Crawling features for product Đồ bơi bé gái ngắn tay kết hợp chân váy/quần cực năng động\n"
     ]
    },
    {
     "name": "stderr",
     "output_type": "stream",
     "text": [
      "c:\\Users\\ADMIN\\PycharmProjects\\pricecrawler\\key_word_crawl.py:433: FutureWarning: The frame.append method is deprecated and will be removed from pandas in a future version. Use pandas.concat instead.\n",
      "  output_df = output_df.append(result, ignore_index=True)\n"
     ]
    },
    {
     "name": "stdout",
     "output_type": "stream",
     "text": [
      "Execution time: 9505.557142972946\n",
      "Crawling features for product Áo phao bơi cho bé hoạ tiết dễ thương bé từ 1 - 3 tuổi\n"
     ]
    },
    {
     "name": "stderr",
     "output_type": "stream",
     "text": [
      "c:\\Users\\ADMIN\\PycharmProjects\\pricecrawler\\key_word_crawl.py:433: FutureWarning: The frame.append method is deprecated and will be removed from pandas in a future version. Use pandas.concat instead.\n",
      "  output_df = output_df.append(result, ignore_index=True)\n"
     ]
    },
    {
     "name": "stdout",
     "output_type": "stream",
     "text": [
      "Execution time: 9528.984692811966\n",
      "Crawling features for product Bể bơi phao 3 tầng, Hồ bơi 3 tầng KAW đủ kích thước chất liệu dày dặn, bền đẹp bảo hành lỗi 1 đổi\n"
     ]
    },
    {
     "name": "stderr",
     "output_type": "stream",
     "text": [
      "c:\\Users\\ADMIN\\PycharmProjects\\pricecrawler\\key_word_crawl.py:433: FutureWarning: The frame.append method is deprecated and will be removed from pandas in a future version. Use pandas.concat instead.\n",
      "  output_df = output_df.append(result, ignore_index=True)\n"
     ]
    },
    {
     "name": "stdout",
     "output_type": "stream",
     "text": [
      "Execution time: 9561.74566912651\n",
      "Crawling features for product Đồ Bơi LiềnThân KÈM MŨ Cho Bé Trai Và Bé Gái Từ 10kg Đến Size Đại, Bộ bơi liền thân cho bé\n"
     ]
    },
    {
     "name": "stderr",
     "output_type": "stream",
     "text": [
      "c:\\Users\\ADMIN\\PycharmProjects\\pricecrawler\\key_word_crawl.py:433: FutureWarning: The frame.append method is deprecated and will be removed from pandas in a future version. Use pandas.concat instead.\n",
      "  output_df = output_df.append(result, ignore_index=True)\n"
     ]
    },
    {
     "name": "stdout",
     "output_type": "stream",
     "text": [
      "Execution time: 9588.299413442612\n",
      "Crawling features for product Bộ đồ bơi nam , nữ dài tay Icelake phong cách Hàn Quốc 3 chi tiết QC(có sẵn)\n"
     ]
    },
    {
     "name": "stderr",
     "output_type": "stream",
     "text": [
      "c:\\Users\\ADMIN\\PycharmProjects\\pricecrawler\\key_word_crawl.py:433: FutureWarning: The frame.append method is deprecated and will be removed from pandas in a future version. Use pandas.concat instead.\n",
      "  output_df = output_df.append(result, ignore_index=True)\n"
     ]
    },
    {
     "name": "stdout",
     "output_type": "stream",
     "text": [
      "Execution time: 9613.824892759323\n",
      "Crawling features for product (MUA 1 ĐƯỢC 3) Bộ bơi dài tay cho các bé gái\n"
     ]
    },
    {
     "name": "stderr",
     "output_type": "stream",
     "text": [
      "c:\\Users\\ADMIN\\PycharmProjects\\pricecrawler\\key_word_crawl.py:433: FutureWarning: The frame.append method is deprecated and will be removed from pandas in a future version. Use pandas.concat instead.\n",
      "  output_df = output_df.append(result, ignore_index=True)\n"
     ]
    },
    {
     "name": "stdout",
     "output_type": "stream",
     "text": [
      "Execution time: 9638.563610553741\n",
      "Crawling features for product Quần bơi Nữ BIKINI PASSPORT dáng lửng có logo - màu Đen - BS1014_BL\n"
     ]
    },
    {
     "name": "stderr",
     "output_type": "stream",
     "text": [
      "c:\\Users\\ADMIN\\PycharmProjects\\pricecrawler\\key_word_crawl.py:433: FutureWarning: The frame.append method is deprecated and will be removed from pandas in a future version. Use pandas.concat instead.\n",
      "  output_df = output_df.append(result, ignore_index=True)\n"
     ]
    },
    {
     "name": "stdout",
     "output_type": "stream",
     "text": [
      "Execution time: 9668.328999996185\n",
      "Crawling features for product [Tặng bơm mini tiện lợi] Áo phao tập bơi cho bé - áo phao cuốn quanh người an toàn nhất theo tiêu chuẩn cứu hộ\n"
     ]
    },
    {
     "name": "stderr",
     "output_type": "stream",
     "text": [
      "c:\\Users\\ADMIN\\PycharmProjects\\pricecrawler\\key_word_crawl.py:433: FutureWarning: The frame.append method is deprecated and will be removed from pandas in a future version. Use pandas.concat instead.\n",
      "  output_df = output_df.append(result, ignore_index=True)\n"
     ]
    },
    {
     "name": "stdout",
     "output_type": "stream",
     "text": [
      "Execution time: 9692.732852935791\n",
      "Crawling features for product Phao bơi chống lật cho bé NHÃN HIỆU ABC (Hồng,xanh)\n"
     ]
    },
    {
     "name": "stderr",
     "output_type": "stream",
     "text": [
      "c:\\Users\\ADMIN\\PycharmProjects\\pricecrawler\\key_word_crawl.py:433: FutureWarning: The frame.append method is deprecated and will be removed from pandas in a future version. Use pandas.concat instead.\n",
      "  output_df = output_df.append(result, ignore_index=True)\n"
     ]
    },
    {
     "name": "stdout",
     "output_type": "stream",
     "text": [
      "Execution time: 9719.138286113739\n",
      "Crawling features for product Bộ Đồ Bơi Ba Mảnh Thể Thao Phong Cách Hàn Quốc Thời Trang Cho Nữ\n"
     ]
    },
    {
     "name": "stderr",
     "output_type": "stream",
     "text": [
      "c:\\Users\\ADMIN\\PycharmProjects\\pricecrawler\\key_word_crawl.py:433: FutureWarning: The frame.append method is deprecated and will be removed from pandas in a future version. Use pandas.concat instead.\n",
      "  output_df = output_df.append(result, ignore_index=True)\n"
     ]
    },
    {
     "name": "stdout",
     "output_type": "stream",
     "text": [
      "Execution time: 9746.85358786583\n",
      "Crawling features for product Đồ bơi trẻ em bé trai, bé gái chất vải cao cấp, co dãn tốt, màu sắc tươi tắn\n"
     ]
    },
    {
     "name": "stderr",
     "output_type": "stream",
     "text": [
      "c:\\Users\\ADMIN\\PycharmProjects\\pricecrawler\\key_word_crawl.py:433: FutureWarning: The frame.append method is deprecated and will be removed from pandas in a future version. Use pandas.concat instead.\n",
      "  output_df = output_df.append(result, ignore_index=True)\n"
     ]
    },
    {
     "name": "stdout",
     "output_type": "stream",
     "text": [
      "Execution time: 9776.802090406418\n",
      "Crawling features for product Phao tập bơi Tay cho bé  BAR ROT- Phao tay Bar rot - Cho bé từ 2-6 tuổi an toàn cho bé\n"
     ]
    },
    {
     "name": "stderr",
     "output_type": "stream",
     "text": [
      "c:\\Users\\ADMIN\\PycharmProjects\\pricecrawler\\key_word_crawl.py:433: FutureWarning: The frame.append method is deprecated and will be removed from pandas in a future version. Use pandas.concat instead.\n",
      "  output_df = output_df.append(result, ignore_index=True)\n"
     ]
    },
    {
     "name": "stdout",
     "output_type": "stream",
     "text": [
      "Execution time: 9800.487623929977\n",
      "Crawling features for product Bộ Đồ Bơi Một Mảnh Thời Trang Quyến Rũ Cho Nữ\n"
     ]
    },
    {
     "name": "stderr",
     "output_type": "stream",
     "text": [
      "c:\\Users\\ADMIN\\PycharmProjects\\pricecrawler\\key_word_crawl.py:433: FutureWarning: The frame.append method is deprecated and will be removed from pandas in a future version. Use pandas.concat instead.\n",
      "  output_df = output_df.append(result, ignore_index=True)\n"
     ]
    },
    {
     "name": "stdout",
     "output_type": "stream",
     "text": [
      "Execution time: 9889.519030332565\n",
      "Crawling features for product Bộ Đồ Bơi Một Mảnh Hở Vai Một Mảnh Có Diềm Xếp Nếp Ngực Nhỏ Phong Cách Hàn Quốc Quyến Rũ Cho Nữ\n"
     ]
    },
    {
     "name": "stderr",
     "output_type": "stream",
     "text": [
      "c:\\Users\\ADMIN\\PycharmProjects\\pricecrawler\\key_word_crawl.py:433: FutureWarning: The frame.append method is deprecated and will be removed from pandas in a future version. Use pandas.concat instead.\n",
      "  output_df = output_df.append(result, ignore_index=True)\n"
     ]
    },
    {
     "name": "stdout",
     "output_type": "stream",
     "text": [
      "Execution time: 9914.650518655777\n",
      "Crawling features for product [Đồ bơi một mảnh] Bikini liền mảnh màu XANH ĐEN LỆCH VAI form hơi short kín đáo( kèm mút lót)\n"
     ]
    },
    {
     "name": "stderr",
     "output_type": "stream",
     "text": [
      "c:\\Users\\ADMIN\\PycharmProjects\\pricecrawler\\key_word_crawl.py:433: FutureWarning: The frame.append method is deprecated and will be removed from pandas in a future version. Use pandas.concat instead.\n",
      "  output_df = output_df.append(result, ignore_index=True)\n"
     ]
    },
    {
     "name": "stdout",
     "output_type": "stream",
     "text": [
      "Execution time: 9940.215510129929\n",
      "Crawling features for product (CHUẨN HÀNG CAO CẤP) Bikini, Đồ bơi nữ  ( sẵn đệm ngực) trẻ trung phong cách ES01\n"
     ]
    },
    {
     "name": "stderr",
     "output_type": "stream",
     "text": [
      "c:\\Users\\ADMIN\\PycharmProjects\\pricecrawler\\key_word_crawl.py:433: FutureWarning: The frame.append method is deprecated and will be removed from pandas in a future version. Use pandas.concat instead.\n",
      "  output_df = output_df.append(result, ignore_index=True)\n"
     ]
    },
    {
     "name": "stdout",
     "output_type": "stream",
     "text": [
      "Execution time: 9963.735886335373\n",
      "Crawling features for product Quần Bơi Bé Trai Đồ Bơi Trẻ Em Kèm Mũ Họa Tiết Khủng Long Vải Polyester Chống Thấm Mau Khô Cho Bé 10-35kg - BEEBEEKIDS\n"
     ]
    },
    {
     "name": "stderr",
     "output_type": "stream",
     "text": [
      "c:\\Users\\ADMIN\\PycharmProjects\\pricecrawler\\key_word_crawl.py:433: FutureWarning: The frame.append method is deprecated and will be removed from pandas in a future version. Use pandas.concat instead.\n",
      "  output_df = output_df.append(result, ignore_index=True)\n"
     ]
    },
    {
     "name": "stdout",
     "output_type": "stream",
     "text": [
      "Execution time: 10014.426011562347\n",
      "Crawling features for product Phao bơi đỡ cổ Chống lật cho bé Bar Rot,Tobe hàng cao cấp cho be tập bơi ( Chính hãng)\n"
     ]
    },
    {
     "name": "stderr",
     "output_type": "stream",
     "text": [
      "c:\\Users\\ADMIN\\PycharmProjects\\pricecrawler\\key_word_crawl.py:433: FutureWarning: The frame.append method is deprecated and will be removed from pandas in a future version. Use pandas.concat instead.\n",
      "  output_df = output_df.append(result, ignore_index=True)\n"
     ]
    },
    {
     "name": "stdout",
     "output_type": "stream",
     "text": [
      "Execution time: 10042.258004426956\n",
      "Crawling features for product Bộ Đồ Bơi Nàng Tiên Cá Dễ Thương Cho Bé Gái thương hiệu Yuke size từ 12-42 cân\n"
     ]
    },
    {
     "name": "stderr",
     "output_type": "stream",
     "text": [
      "c:\\Users\\ADMIN\\PycharmProjects\\pricecrawler\\key_word_crawl.py:433: FutureWarning: The frame.append method is deprecated and will be removed from pandas in a future version. Use pandas.concat instead.\n",
      "  output_df = output_df.append(result, ignore_index=True)\n"
     ]
    },
    {
     "name": "stdout",
     "output_type": "stream",
     "text": [
      "Execution time: 10063.967160463333\n",
      "Crawling features for product Kappa Bộ Đồ Bơi Một Mảnh Thời Trang 2023 Dành Cho Nữ\n"
     ]
    },
    {
     "name": "stderr",
     "output_type": "stream",
     "text": [
      "c:\\Users\\ADMIN\\PycharmProjects\\pricecrawler\\key_word_crawl.py:433: FutureWarning: The frame.append method is deprecated and will be removed from pandas in a future version. Use pandas.concat instead.\n",
      "  output_df = output_df.append(result, ignore_index=True)\n"
     ]
    },
    {
     "name": "stdout",
     "output_type": "stream",
     "text": [
      "Execution time: 10154.977514743805\n",
      "Crawling features for product Bộ bơi dài tay dư xịn bé trai\n"
     ]
    },
    {
     "name": "stderr",
     "output_type": "stream",
     "text": [
      "c:\\Users\\ADMIN\\PycharmProjects\\pricecrawler\\key_word_crawl.py:433: FutureWarning: The frame.append method is deprecated and will be removed from pandas in a future version. Use pandas.concat instead.\n",
      "  output_df = output_df.append(result, ignore_index=True)\n"
     ]
    },
    {
     "name": "stdout",
     "output_type": "stream",
     "text": [
      "Execution time: 10175.801051139832\n",
      "Crawling features for product Đồ bơi nữ kín đáo dài tay 3 mảnh đi biển chống nắng vải co giãn mềm mại mặc được 2 kiểu\n"
     ]
    },
    {
     "name": "stderr",
     "output_type": "stream",
     "text": [
      "c:\\Users\\ADMIN\\PycharmProjects\\pricecrawler\\key_word_crawl.py:433: FutureWarning: The frame.append method is deprecated and will be removed from pandas in a future version. Use pandas.concat instead.\n",
      "  output_df = output_df.append(result, ignore_index=True)\n"
     ]
    },
    {
     "name": "stdout",
     "output_type": "stream",
     "text": [
      "Execution time: 10197.818448781967\n",
      "Crawling features for product Size S,M,L ,XL Bikini Đồ bơi nữ 1 mảnh liền thân khóa kéo quần đùi kín đáo VY BIKINI MK01\n"
     ]
    },
    {
     "name": "stderr",
     "output_type": "stream",
     "text": [
      "c:\\Users\\ADMIN\\PycharmProjects\\pricecrawler\\key_word_crawl.py:433: FutureWarning: The frame.append method is deprecated and will be removed from pandas in a future version. Use pandas.concat instead.\n",
      "  output_df = output_df.append(result, ignore_index=True)\n"
     ]
    },
    {
     "name": "stdout",
     "output_type": "stream",
     "text": [
      "Execution time: 10226.344969272614\n",
      "Crawling features for product Bộ bra cổ tròn cùng màu quần 2 lớp tập gym nữ, đồ tập gym yoa erobic, chạy bộ, đồ bơi cao cấp giá rẻ chất đẹp\n"
     ]
    },
    {
     "name": "stderr",
     "output_type": "stream",
     "text": [
      "c:\\Users\\ADMIN\\PycharmProjects\\pricecrawler\\key_word_crawl.py:433: FutureWarning: The frame.append method is deprecated and will be removed from pandas in a future version. Use pandas.concat instead.\n",
      "  output_df = output_df.append(result, ignore_index=True)\n"
     ]
    },
    {
     "name": "stdout",
     "output_type": "stream",
     "text": [
      "Execution time: 10250.97186589241\n",
      "Crawling features for product Áo Phao Bơi Cho Bé-Áo Phao Trẻ Em-Áo Phao Bơi Có Đỡ Cổ Cho Bé Tập Bơi- Áo phao cho bé 2-10 Tuổi\n"
     ]
    },
    {
     "name": "stderr",
     "output_type": "stream",
     "text": [
      "c:\\Users\\ADMIN\\PycharmProjects\\pricecrawler\\key_word_crawl.py:433: FutureWarning: The frame.append method is deprecated and will be removed from pandas in a future version. Use pandas.concat instead.\n",
      "  output_df = output_df.append(result, ignore_index=True)\n"
     ]
    },
    {
     "name": "stdout",
     "output_type": "stream",
     "text": [
      "Execution time: 10273.480531454086\n",
      "Crawling features for product Quần bơi Nữ, đồ bơi nữ BIKINI PASSPORT kiểu Váy- màu Đen - BS170_BL\n"
     ]
    },
    {
     "name": "stderr",
     "output_type": "stream",
     "text": [
      "c:\\Users\\ADMIN\\PycharmProjects\\pricecrawler\\key_word_crawl.py:433: FutureWarning: The frame.append method is deprecated and will be removed from pandas in a future version. Use pandas.concat instead.\n",
      "  output_df = output_df.append(result, ignore_index=True)\n"
     ]
    },
    {
     "name": "stdout",
     "output_type": "stream",
     "text": [
      "Execution time: 10307.455058813095\n",
      "Crawling features for product Bộ đồ bơi nữ 2 mảnh kín đáo đi biển dáng thể thao thun lạnh co giãn\n"
     ]
    },
    {
     "name": "stderr",
     "output_type": "stream",
     "text": [
      "c:\\Users\\ADMIN\\PycharmProjects\\pricecrawler\\key_word_crawl.py:433: FutureWarning: The frame.append method is deprecated and will be removed from pandas in a future version. Use pandas.concat instead.\n",
      "  output_df = output_df.append(result, ignore_index=True)\n"
     ]
    },
    {
     "name": "stdout",
     "output_type": "stream",
     "text": [
      "Execution time: 10334.317416191101\n",
      "Crawling features for product Đồ Bơi Một Mảnh Tay Ngắn Màu Đen Trơn Cho Nữ\n"
     ]
    },
    {
     "name": "stderr",
     "output_type": "stream",
     "text": [
      "c:\\Users\\ADMIN\\PycharmProjects\\pricecrawler\\key_word_crawl.py:433: FutureWarning: The frame.append method is deprecated and will be removed from pandas in a future version. Use pandas.concat instead.\n",
      "  output_df = output_df.append(result, ignore_index=True)\n"
     ]
    },
    {
     "name": "stdout",
     "output_type": "stream",
     "text": [
      "Execution time: 10359.980448246002\n",
      "Crawling features for product kính bơi trẻ em/kính bơi người lớn 4-18tuổi,Kính bơi cho bé không gọng,có nút bịt tai,góc siêu rộng,có viền1,5cm\n"
     ]
    },
    {
     "name": "stderr",
     "output_type": "stream",
     "text": [
      "c:\\Users\\ADMIN\\PycharmProjects\\pricecrawler\\key_word_crawl.py:433: FutureWarning: The frame.append method is deprecated and will be removed from pandas in a future version. Use pandas.concat instead.\n",
      "  output_df = output_df.append(result, ignore_index=True)\n"
     ]
    },
    {
     "name": "stdout",
     "output_type": "stream",
     "text": [
      "Execution time: 10408.256724834442\n",
      "Crawling features for product Bộ bơi dài tay cho các bé trai từ 14-30kg\n"
     ]
    },
    {
     "name": "stderr",
     "output_type": "stream",
     "text": [
      "c:\\Users\\ADMIN\\PycharmProjects\\pricecrawler\\key_word_crawl.py:433: FutureWarning: The frame.append method is deprecated and will be removed from pandas in a future version. Use pandas.concat instead.\n",
      "  output_df = output_df.append(result, ignore_index=True)\n"
     ]
    },
    {
     "name": "stdout",
     "output_type": "stream",
     "text": [
      "Execution time: 10430.92607140541\n",
      "Crawling features for product [Size M,L,XL] Đồ bơi bikini nữ kín đáo áo croptop đen tay ngắn phối chân váy VATIXA BKN49\n"
     ]
    },
    {
     "name": "stderr",
     "output_type": "stream",
     "text": [
      "c:\\Users\\ADMIN\\PycharmProjects\\pricecrawler\\key_word_crawl.py:433: FutureWarning: The frame.append method is deprecated and will be removed from pandas in a future version. Use pandas.concat instead.\n",
      "  output_df = output_df.append(result, ignore_index=True)\n"
     ]
    },
    {
     "name": "stdout",
     "output_type": "stream",
     "text": [
      "Execution time: 10457.578119277954\n",
      "Crawling features for product Bikini cộc tay 2 mảnh khoét ngực màu đen, đồ bơi liền thân hai dây mặc hai kiểu\n"
     ]
    },
    {
     "name": "stderr",
     "output_type": "stream",
     "text": [
      "c:\\Users\\ADMIN\\PycharmProjects\\pricecrawler\\key_word_crawl.py:433: FutureWarning: The frame.append method is deprecated and will be removed from pandas in a future version. Use pandas.concat instead.\n",
      "  output_df = output_df.append(result, ignore_index=True)\n"
     ]
    },
    {
     "name": "stdout",
     "output_type": "stream",
     "text": [
      "Execution time: 10479.00760936737\n",
      "Crawling features for product Bikini bộ bơi đồ bơi nữ set 3 món váy xoắn phối áo khoen V siêu sang EVA S3MKV\n"
     ]
    },
    {
     "name": "stderr",
     "output_type": "stream",
     "text": [
      "c:\\Users\\ADMIN\\PycharmProjects\\pricecrawler\\key_word_crawl.py:433: FutureWarning: The frame.append method is deprecated and will be removed from pandas in a future version. Use pandas.concat instead.\n",
      "  output_df = output_df.append(result, ignore_index=True)\n"
     ]
    },
    {
     "name": "stdout",
     "output_type": "stream",
     "text": [
      "Execution time: 10503.392618656158\n",
      "Crawling features for product Đồ bơi nữ, đồ tắm biển dài ngắn tay quần ngố năng động, áo có đệm mút\n"
     ]
    },
    {
     "name": "stderr",
     "output_type": "stream",
     "text": [
      "c:\\Users\\ADMIN\\PycharmProjects\\pricecrawler\\key_word_crawl.py:433: FutureWarning: The frame.append method is deprecated and will be removed from pandas in a future version. Use pandas.concat instead.\n",
      "  output_df = output_df.append(result, ignore_index=True)\n"
     ]
    },
    {
     "name": "stdout",
     "output_type": "stream",
     "text": [
      "Execution time: 10527.045390367508\n",
      "Crawling features for product [BIKINI LOẠI ĐẸP] Bikini liền mảnh mà L53, Đồ bơi nữ tay dài nhún ngực khoét lưng khoét ngực siêu sexy\n"
     ]
    },
    {
     "name": "stderr",
     "output_type": "stream",
     "text": [
      "c:\\Users\\ADMIN\\PycharmProjects\\pricecrawler\\key_word_crawl.py:433: FutureWarning: The frame.append method is deprecated and will be removed from pandas in a future version. Use pandas.concat instead.\n",
      "  output_df = output_df.append(result, ignore_index=True)\n"
     ]
    },
    {
     "name": "stdout",
     "output_type": "stream",
     "text": [
      "Execution time: 10551.468652963638\n",
      "Crawling features for product (Sẵn, cao cấp) Bộ đồ bơi bikini nữ hãng YLIKE dài tay kiểu dáng thể thao sành điệu XC01\n"
     ]
    },
    {
     "name": "stderr",
     "output_type": "stream",
     "text": [
      "c:\\Users\\ADMIN\\PycharmProjects\\pricecrawler\\key_word_crawl.py:433: FutureWarning: The frame.append method is deprecated and will be removed from pandas in a future version. Use pandas.concat instead.\n",
      "  output_df = output_df.append(result, ignore_index=True)\n"
     ]
    },
    {
     "name": "stdout",
     "output_type": "stream",
     "text": [
      "Execution time: 10579.05594921112\n",
      "Crawling features for product Áo Bơi Bikini Tắm Liền Thân Dạng Váy Tôn Dáng (8/1)\n"
     ]
    },
    {
     "name": "stderr",
     "output_type": "stream",
     "text": [
      "c:\\Users\\ADMIN\\PycharmProjects\\pricecrawler\\key_word_crawl.py:433: FutureWarning: The frame.append method is deprecated and will be removed from pandas in a future version. Use pandas.concat instead.\n",
      "  output_df = output_df.append(result, ignore_index=True)\n"
     ]
    },
    {
     "name": "stdout",
     "output_type": "stream",
     "text": [
      "Execution time: 10602.76850605011\n",
      "Crawling features for product Đồ Bơi Bé Trai Dài Tay Chống Nắng Cao Cấp Từ 15 - 50KG ( Dài Tay )\n"
     ]
    },
    {
     "name": "stderr",
     "output_type": "stream",
     "text": [
      "c:\\Users\\ADMIN\\PycharmProjects\\pricecrawler\\key_word_crawl.py:433: FutureWarning: The frame.append method is deprecated and will be removed from pandas in a future version. Use pandas.concat instead.\n",
      "  output_df = output_df.append(result, ignore_index=True)\n"
     ]
    },
    {
     "name": "stdout",
     "output_type": "stream",
     "text": [
      "Execution time: 10627.384792089462\n",
      "Crawling features for product Bộ Đồ Bơi Liền Thân Tay Ngắn Có Khóa Kéo In Hình Cá Mập Thời Trang Mùa Hè Cho Bé Trai\n"
     ]
    },
    {
     "name": "stderr",
     "output_type": "stream",
     "text": [
      "c:\\Users\\ADMIN\\PycharmProjects\\pricecrawler\\key_word_crawl.py:433: FutureWarning: The frame.append method is deprecated and will be removed from pandas in a future version. Use pandas.concat instead.\n",
      "  output_df = output_df.append(result, ignore_index=True)\n"
     ]
    },
    {
     "name": "stdout",
     "output_type": "stream",
     "text": [
      "Execution time: 10657.282917499542\n",
      "Crawling features for product Bộ bikini liền thân dây kéo, đồ bơi 1 mảnh, bodysuit dây khóa kéo áo có tay dáng quần kín đáo EVALU STORE [A4]\n"
     ]
    },
    {
     "name": "stderr",
     "output_type": "stream",
     "text": [
      "c:\\Users\\ADMIN\\PycharmProjects\\pricecrawler\\key_word_crawl.py:433: FutureWarning: The frame.append method is deprecated and will be removed from pandas in a future version. Use pandas.concat instead.\n",
      "  output_df = output_df.append(result, ignore_index=True)\n"
     ]
    },
    {
     "name": "stdout",
     "output_type": "stream",
     "text": [
      "Execution time: 10686.315539121628\n",
      "Crawling features for product phao bơi hình vịt vàng cho bé 1-6 tuổi (bán sỉ toàn quốc )\n"
     ]
    },
    {
     "name": "stderr",
     "output_type": "stream",
     "text": [
      "c:\\Users\\ADMIN\\PycharmProjects\\pricecrawler\\key_word_crawl.py:433: FutureWarning: The frame.append method is deprecated and will be removed from pandas in a future version. Use pandas.concat instead.\n",
      "  output_df = output_df.append(result, ignore_index=True)\n"
     ]
    },
    {
     "name": "stdout",
     "output_type": "stream",
     "text": [
      "Execution time: 10707.864419460297\n",
      "Crawling features for product [Mã INBAU15 giảm 15K đơn 99K] Đồ bơi bé gái, Đồ bơi bé trai Habi Fashion HB2224 Họa Tiết YTQU Dễ Thương Cho Bé 18-60kg\n"
     ]
    },
    {
     "name": "stderr",
     "output_type": "stream",
     "text": [
      "c:\\Users\\ADMIN\\PycharmProjects\\pricecrawler\\key_word_crawl.py:433: FutureWarning: The frame.append method is deprecated and will be removed from pandas in a future version. Use pandas.concat instead.\n",
      "  output_df = output_df.append(result, ignore_index=True)\n"
     ]
    },
    {
     "name": "stdout",
     "output_type": "stream",
     "text": [
      "Execution time: 10757.326300621033\n",
      "Crawling features for product Bikini hai mảnh, Đồ tắm nâng ngực che bụng kín đáo màu xanh navy\n"
     ]
    },
    {
     "name": "stderr",
     "output_type": "stream",
     "text": [
      "c:\\Users\\ADMIN\\PycharmProjects\\pricecrawler\\key_word_crawl.py:433: FutureWarning: The frame.append method is deprecated and will be removed from pandas in a future version. Use pandas.concat instead.\n",
      "  output_df = output_df.append(result, ignore_index=True)\n"
     ]
    },
    {
     "name": "stdout",
     "output_type": "stream",
     "text": [
      "Execution time: 10783.991569757462\n",
      "Crawling features for product Planet đồ bơi cho bé gái Áo tắm trẻ em váy công chúa lớn áo tắm trẻ em bé gái áo tắm chuyên nghiệp học sinh dễ thương\n"
     ]
    },
    {
     "name": "stderr",
     "output_type": "stream",
     "text": [
      "c:\\Users\\ADMIN\\PycharmProjects\\pricecrawler\\key_word_crawl.py:433: FutureWarning: The frame.append method is deprecated and will be removed from pandas in a future version. Use pandas.concat instead.\n",
      "  output_df = output_df.append(result, ignore_index=True)\n"
     ]
    },
    {
     "name": "stdout",
     "output_type": "stream",
     "text": [
      "Execution time: 10854.56581234932\n",
      "Crawling features for product Planet đồ bơi nữ Đồ bơi phao trẻ em lướt sóng phù hợp với một mảnh hoạt hình boxer áo tắm dễ thương cho bé\n"
     ]
    },
    {
     "name": "stderr",
     "output_type": "stream",
     "text": [
      "c:\\Users\\ADMIN\\PycharmProjects\\pricecrawler\\key_word_crawl.py:433: FutureWarning: The frame.append method is deprecated and will be removed from pandas in a future version. Use pandas.concat instead.\n",
      "  output_df = output_df.append(result, ignore_index=True)\n"
     ]
    },
    {
     "name": "stdout",
     "output_type": "stream",
     "text": [
      "Execution time: 10924.434655666351\n",
      "Crawling features for product Đồ bơi đi biển cho bé và mẹ, set bơi cho bé gái - Bộ SKy\n"
     ]
    },
    {
     "name": "stderr",
     "output_type": "stream",
     "text": [
      "c:\\Users\\ADMIN\\PycharmProjects\\pricecrawler\\key_word_crawl.py:433: FutureWarning: The frame.append method is deprecated and will be removed from pandas in a future version. Use pandas.concat instead.\n",
      "  output_df = output_df.append(result, ignore_index=True)\n"
     ]
    },
    {
     "name": "stdout",
     "output_type": "stream",
     "text": [
      "Execution time: 10953.594280719757\n",
      "Crawling features for product Đồ Bơi Dài Tay Liền Thân RICH KIDS Cho Bé Trai Từ 3 Tuổi Đển 12 Tuổi\n"
     ]
    },
    {
     "name": "stderr",
     "output_type": "stream",
     "text": [
      "c:\\Users\\ADMIN\\PycharmProjects\\pricecrawler\\key_word_crawl.py:433: FutureWarning: The frame.append method is deprecated and will be removed from pandas in a future version. Use pandas.concat instead.\n",
      "  output_df = output_df.append(result, ignore_index=True)\n"
     ]
    },
    {
     "name": "stdout",
     "output_type": "stream",
     "text": [
      "Execution time: 10982.537993907928\n",
      "Crawling features for product Set bra tập gym yoga sát nách dáng áo croptop quần đùi 2 lớp kèm mút ngực Minatex\n"
     ]
    },
    {
     "name": "stderr",
     "output_type": "stream",
     "text": [
      "c:\\Users\\ADMIN\\PycharmProjects\\pricecrawler\\key_word_crawl.py:433: FutureWarning: The frame.append method is deprecated and will be removed from pandas in a future version. Use pandas.concat instead.\n",
      "  output_df = output_df.append(result, ignore_index=True)\n"
     ]
    },
    {
     "name": "stdout",
     "output_type": "stream",
     "text": [
      "Execution time: 11008.404669046402\n",
      "Crawling features for product Đồ bơi một mảnh nữ Speedo Shaping Calypso Pt 1Pc Af (A) - 8-13512G706\n"
     ]
    },
    {
     "name": "stderr",
     "output_type": "stream",
     "text": [
      "c:\\Users\\ADMIN\\PycharmProjects\\pricecrawler\\key_word_crawl.py:433: FutureWarning: The frame.append method is deprecated and will be removed from pandas in a future version. Use pandas.concat instead.\n",
      "  output_df = output_df.append(result, ignore_index=True)\n"
     ]
    },
    {
     "name": "stdout",
     "output_type": "stream",
     "text": [
      "Execution time: 11027.839754343033\n",
      "Crawling features for product Đồ Bơi Một Mảnh Kiểu Công Chúa Dễ Thương Thời Trang Mùa Hè 2023 Cho Bé Gái Mới\n"
     ]
    },
    {
     "name": "stderr",
     "output_type": "stream",
     "text": [
      "ERROR:root:Traceback (most recent call last):\n",
      "  File \"c:\\Users\\ADMIN\\PycharmProjects\\pricecrawler\\key_word_crawl.py\", line 432, in crawl_multiple_products\n",
      "    result = self.extract_product_feature(url)\n",
      "  File \"c:\\Users\\ADMIN\\PycharmProjects\\pricecrawler\\key_word_crawl.py\", line 406, in extract_product_feature\n",
      "    result[\"num_like\"] = soup.find_all(\"div\", {\"class\": \"Ne7dEf\"})[1].text\n",
      "IndexError: list index out of range\n",
      "\n"
     ]
    },
    {
     "name": "stdout",
     "output_type": "stream",
     "text": [
      "Crawling features for product Bộ Đồ Bơi Ba Mảnh Gồm Áo + Áo Khoác Ngoài + Áo Khoác Ngoài + Áo Tắm Dài Tay + Quần Bơi Chống Nắng Bảo Vệ Bụng Và Quần Ôm Dáng Cho Nữ\n"
     ]
    },
    {
     "name": "stderr",
     "output_type": "stream",
     "text": [
      "c:\\Users\\ADMIN\\PycharmProjects\\pricecrawler\\key_word_crawl.py:433: FutureWarning: The frame.append method is deprecated and will be removed from pandas in a future version. Use pandas.concat instead.\n",
      "  output_df = output_df.append(result, ignore_index=True)\n"
     ]
    },
    {
     "name": "stdout",
     "output_type": "stream",
     "text": [
      "Execution time: 11104.616038799286\n",
      "Crawling features for product Đồ đi biển cho mẹ và bé, Đồ bơi trẻ em, đồ bơi bé gái\n"
     ]
    },
    {
     "name": "stderr",
     "output_type": "stream",
     "text": [
      "c:\\Users\\ADMIN\\PycharmProjects\\pricecrawler\\key_word_crawl.py:433: FutureWarning: The frame.append method is deprecated and will be removed from pandas in a future version. Use pandas.concat instead.\n",
      "  output_df = output_df.append(result, ignore_index=True)\n"
     ]
    },
    {
     "name": "stdout",
     "output_type": "stream",
     "text": [
      "Execution time: 11130.171072483063\n",
      "Crawling features for product LANSBOTER Bộ Đồ Bơi Ba Mảnh Vải Nhung Phong Cách Âu Mỹ Quyến Rũ Cho Nữ\n"
     ]
    },
    {
     "name": "stderr",
     "output_type": "stream",
     "text": [
      "c:\\Users\\ADMIN\\PycharmProjects\\pricecrawler\\key_word_crawl.py:433: FutureWarning: The frame.append method is deprecated and will be removed from pandas in a future version. Use pandas.concat instead.\n",
      "  output_df = output_df.append(result, ignore_index=True)\n"
     ]
    },
    {
     "name": "stdout",
     "output_type": "stream",
     "text": [
      "Execution time: 11162.551315307617\n",
      "Crawling features for product bikini đi biển , Áo tắm đi biển váy đi biển, đồ bơi nữ kín đáo 3 mảnh\n"
     ]
    },
    {
     "name": "stderr",
     "output_type": "stream",
     "text": [
      "c:\\Users\\ADMIN\\PycharmProjects\\pricecrawler\\key_word_crawl.py:433: FutureWarning: The frame.append method is deprecated and will be removed from pandas in a future version. Use pandas.concat instead.\n",
      "  output_df = output_df.append(result, ignore_index=True)\n"
     ]
    },
    {
     "name": "stdout",
     "output_type": "stream",
     "text": [
      "Execution time: 11202.8856549263\n",
      "Crawling features for product Đồ bơi nữ bikini áo cộc tay + chân váy có sẵn quần đùi năng động, xinh đẹp YE01\n"
     ]
    },
    {
     "name": "stderr",
     "output_type": "stream",
     "text": [
      "c:\\Users\\ADMIN\\PycharmProjects\\pricecrawler\\key_word_crawl.py:433: FutureWarning: The frame.append method is deprecated and will be removed from pandas in a future version. Use pandas.concat instead.\n",
      "  output_df = output_df.append(result, ignore_index=True)\n"
     ]
    },
    {
     "name": "stdout",
     "output_type": "stream",
     "text": [
      "Execution time: 11226.551562786102\n",
      "Crawling features for product [CÓ SIZE] Đồ bơi nữ kín đáo tay ngắn QUẦN LỬNG- Bikini đi biển đồ bơi học sinh VATIXA BKN94 LỮNG\n"
     ]
    },
    {
     "name": "stderr",
     "output_type": "stream",
     "text": [
      "c:\\Users\\ADMIN\\PycharmProjects\\pricecrawler\\key_word_crawl.py:433: FutureWarning: The frame.append method is deprecated and will be removed from pandas in a future version. Use pandas.concat instead.\n",
      "  output_df = output_df.append(result, ignore_index=True)\n"
     ]
    },
    {
     "name": "stdout",
     "output_type": "stream",
     "text": [
      "Execution time: 11253.305225133896\n",
      "Crawling features for product Bikini đi biển sexy BK, Đồ bơi nữ 2 mảnh kèm áo cộc ngoài chân váy bèo có quần bảo hộ trẻ trung phong cách hàn quốc\n"
     ]
    },
    {
     "name": "stderr",
     "output_type": "stream",
     "text": [
      "c:\\Users\\ADMIN\\PycharmProjects\\pricecrawler\\key_word_crawl.py:433: FutureWarning: The frame.append method is deprecated and will be removed from pandas in a future version. Use pandas.concat instead.\n",
      "  output_df = output_df.append(result, ignore_index=True)\n"
     ]
    },
    {
     "name": "stdout",
     "output_type": "stream",
     "text": [
      "Execution time: 11279.82949256897\n",
      "Crawling features for product [7-17kg| 50 Mẫu] Đồ Bơi Bé Trai Mẫu Khủng Long Cá Mập Dễ Thương | Bộ Bơi Liền Thân Bé Trai Từ 1-5 Tuổi\n"
     ]
    },
    {
     "name": "stderr",
     "output_type": "stream",
     "text": [
      "c:\\Users\\ADMIN\\PycharmProjects\\pricecrawler\\key_word_crawl.py:433: FutureWarning: The frame.append method is deprecated and will be removed from pandas in a future version. Use pandas.concat instead.\n",
      "  output_df = output_df.append(result, ignore_index=True)\n"
     ]
    },
    {
     "name": "stdout",
     "output_type": "stream",
     "text": [
      "Execution time: 11308.703472852707\n",
      "Crawling features for product (sẵn-Set có váy rời) Đồ bơi, Bikini 1 mảnh kèm váy rời # 9406\n"
     ]
    },
    {
     "name": "stderr",
     "output_type": "stream",
     "text": [
      "c:\\Users\\ADMIN\\PycharmProjects\\pricecrawler\\key_word_crawl.py:433: FutureWarning: The frame.append method is deprecated and will be removed from pandas in a future version. Use pandas.concat instead.\n",
      "  output_df = output_df.append(result, ignore_index=True)\n"
     ]
    },
    {
     "name": "stdout",
     "output_type": "stream",
     "text": [
      "Execution time: 11332.36035823822\n",
      "Crawling features for product Bikini Đùi LUHAZO Quảng Châu Đồ Bơi Nữ Dài Tay Chất Đẹp Co Giãn Thoải Mái 2355 DK4T401\n"
     ]
    },
    {
     "name": "stderr",
     "output_type": "stream",
     "text": [
      "c:\\Users\\ADMIN\\PycharmProjects\\pricecrawler\\key_word_crawl.py:433: FutureWarning: The frame.append method is deprecated and will be removed from pandas in a future version. Use pandas.concat instead.\n",
      "  output_df = output_df.append(result, ignore_index=True)\n"
     ]
    },
    {
     "name": "stdout",
     "output_type": "stream",
     "text": [
      "Execution time: 11361.273729085922\n",
      "Crawling features for product [Có ảnh thật] Đồ bơi big size nữ áo dài tay quần short BK-385i\n"
     ]
    },
    {
     "name": "stderr",
     "output_type": "stream",
     "text": [
      "c:\\Users\\ADMIN\\PycharmProjects\\pricecrawler\\key_word_crawl.py:433: FutureWarning: The frame.append method is deprecated and will be removed from pandas in a future version. Use pandas.concat instead.\n",
      "  output_df = output_df.append(result, ignore_index=True)\n"
     ]
    },
    {
     "name": "stdout",
     "output_type": "stream",
     "text": [
      "Execution time: 11385.903013706207\n",
      "Crawling features for product Đồ bơi một mảnh màu xanh dương phong cách Hàn Quốc thời trang cho nữ\n"
     ]
    },
    {
     "name": "stderr",
     "output_type": "stream",
     "text": [
      "c:\\Users\\ADMIN\\PycharmProjects\\pricecrawler\\key_word_crawl.py:433: FutureWarning: The frame.append method is deprecated and will be removed from pandas in a future version. Use pandas.concat instead.\n",
      "  output_df = output_df.append(result, ignore_index=True)\n"
     ]
    },
    {
     "name": "stdout",
     "output_type": "stream",
     "text": [
      "Execution time: 11410.551386833191\n",
      "Crawling features for product Bikini 2 mảnh cho nữ đi biển đồ bơi set 3 chi tiết áo 2 dây đan cá tính quần dáng váy phong cách hottrend 8203&amp;0722 B-9\n"
     ]
    },
    {
     "name": "stderr",
     "output_type": "stream",
     "text": [
      "c:\\Users\\ADMIN\\PycharmProjects\\pricecrawler\\key_word_crawl.py:433: FutureWarning: The frame.append method is deprecated and will be removed from pandas in a future version. Use pandas.concat instead.\n",
      "  output_df = output_df.append(result, ignore_index=True)\n"
     ]
    },
    {
     "name": "stdout",
     "output_type": "stream",
     "text": [
      "Execution time: 11435.873917102814\n",
      "Crawling features for product Quần bơi co giãn bốn chiều hoạt hình vũ trụ cho bé trai thấm hút tốt, khô nhanh- Tâm An Sport\n"
     ]
    },
    {
     "name": "stderr",
     "output_type": "stream",
     "text": [
      "c:\\Users\\ADMIN\\PycharmProjects\\pricecrawler\\key_word_crawl.py:433: FutureWarning: The frame.append method is deprecated and will be removed from pandas in a future version. Use pandas.concat instead.\n",
      "  output_df = output_df.append(result, ignore_index=True)\n"
     ]
    },
    {
     "name": "stdout",
     "output_type": "stream",
     "text": [
      "Execution time: 11461.537564992905\n",
      "Crawling features for product Đồ bơi mẹ và bé gái từ 12 - 62kg set bơi SKy\n"
     ]
    },
    {
     "name": "stderr",
     "output_type": "stream",
     "text": [
      "c:\\Users\\ADMIN\\PycharmProjects\\pricecrawler\\key_word_crawl.py:433: FutureWarning: The frame.append method is deprecated and will be removed from pandas in a future version. Use pandas.concat instead.\n",
      "  output_df = output_df.append(result, ignore_index=True)\n"
     ]
    },
    {
     "name": "stdout",
     "output_type": "stream",
     "text": [
      "Execution time: 11489.394155740738\n",
      "Crawling features for product Đồ Bơi Màu Đen Thiết Kế Dạng Váy Cho Phái Nữ\n"
     ]
    },
    {
     "name": "stderr",
     "output_type": "stream",
     "text": [
      "c:\\Users\\ADMIN\\PycharmProjects\\pricecrawler\\key_word_crawl.py:433: FutureWarning: The frame.append method is deprecated and will be removed from pandas in a future version. Use pandas.concat instead.\n",
      "  output_df = output_df.append(result, ignore_index=True)\n"
     ]
    },
    {
     "name": "stdout",
     "output_type": "stream",
     "text": [
      "Execution time: 11512.696670532227\n",
      "Crawling features for product Bộ Đồ Bơi Nam YLIKE Bộ Bơi Nam Cộc Tay Bộ Bơi Cho Nam\n"
     ]
    },
    {
     "name": "stderr",
     "output_type": "stream",
     "text": [
      "c:\\Users\\ADMIN\\PycharmProjects\\pricecrawler\\key_word_crawl.py:433: FutureWarning: The frame.append method is deprecated and will be removed from pandas in a future version. Use pandas.concat instead.\n",
      "  output_df = output_df.append(result, ignore_index=True)\n"
     ]
    },
    {
     "name": "stdout",
     "output_type": "stream",
     "text": [
      "Execution time: 11535.562358379364\n",
      "Crawling features for product Đồ bơi cho bé gái, học sinh, thiếu niên hai mảnh thể thao 3-15 tuổi phong cách Hàn Quốc MEBECOKA\n"
     ]
    },
    {
     "name": "stderr",
     "output_type": "stream",
     "text": [
      "c:\\Users\\ADMIN\\PycharmProjects\\pricecrawler\\key_word_crawl.py:433: FutureWarning: The frame.append method is deprecated and will be removed from pandas in a future version. Use pandas.concat instead.\n",
      "  output_df = output_df.append(result, ignore_index=True)\n"
     ]
    },
    {
     "name": "stdout",
     "output_type": "stream",
     "text": [
      "Execution time: 11589.991668224335\n",
      "Crawling features for product Quần bơi nữ, đồ bơi nữ BIKINI PASSPORT kiểu cạp cao &amp; kín đáo - màu Đen - BS1005_BL\n"
     ]
    },
    {
     "name": "stderr",
     "output_type": "stream",
     "text": [
      "c:\\Users\\ADMIN\\PycharmProjects\\pricecrawler\\key_word_crawl.py:433: FutureWarning: The frame.append method is deprecated and will be removed from pandas in a future version. Use pandas.concat instead.\n",
      "  output_df = output_df.append(result, ignore_index=True)\n"
     ]
    },
    {
     "name": "stdout",
     "output_type": "stream",
     "text": [
      "Execution time: 11621.162289857864\n",
      "Crawling features for product Bộ Đồ Bơi Ngắn Tay Kèm Mũ In Họa Tiết Thời Trang Dành Cho Bé Trai 12-50KG\n"
     ]
    },
    {
     "name": "stderr",
     "output_type": "stream",
     "text": [
      "c:\\Users\\ADMIN\\PycharmProjects\\pricecrawler\\key_word_crawl.py:433: FutureWarning: The frame.append method is deprecated and will be removed from pandas in a future version. Use pandas.concat instead.\n",
      "  output_df = output_df.append(result, ignore_index=True)\n"
     ]
    },
    {
     "name": "stdout",
     "output_type": "stream",
     "text": [
      "Execution time: 11646.289613246918\n",
      "Crawling features for product Set Bikini, Đồ Bơi Tay Dài Set 3 Chi Tiết Lưới Ren Sexy Sang Chảnh BELLA\n"
     ]
    },
    {
     "name": "stderr",
     "output_type": "stream",
     "text": [
      "c:\\Users\\ADMIN\\PycharmProjects\\pricecrawler\\key_word_crawl.py:433: FutureWarning: The frame.append method is deprecated and will be removed from pandas in a future version. Use pandas.concat instead.\n",
      "  output_df = output_df.append(result, ignore_index=True)\n"
     ]
    },
    {
     "name": "stdout",
     "output_type": "stream",
     "text": [
      "Execution time: 11671.943101167679\n",
      "Crawling features for product Đồ bơi bikini nữ 2 mảnh đi biển mặc được 2 kiểu thời trang năng động-V0073\n"
     ]
    },
    {
     "name": "stderr",
     "output_type": "stream",
     "text": [
      "c:\\Users\\ADMIN\\PycharmProjects\\pricecrawler\\key_word_crawl.py:433: FutureWarning: The frame.append method is deprecated and will be removed from pandas in a future version. Use pandas.concat instead.\n",
      "  output_df = output_df.append(result, ignore_index=True)\n"
     ]
    },
    {
     "name": "stdout",
     "output_type": "stream",
     "text": [
      "Execution time: 11696.642827510834\n",
      "Crawling features for product Đồ Bơi Một Mảnh Màu Trơn Cho Nữ\n"
     ]
    },
    {
     "name": "stderr",
     "output_type": "stream",
     "text": [
      "c:\\Users\\ADMIN\\PycharmProjects\\pricecrawler\\key_word_crawl.py:433: FutureWarning: The frame.append method is deprecated and will be removed from pandas in a future version. Use pandas.concat instead.\n",
      "  output_df = output_df.append(result, ignore_index=True)\n"
     ]
    },
    {
     "name": "stdout",
     "output_type": "stream",
     "text": [
      "Execution time: 11719.336230278015\n",
      "Crawling features for product Phao nâng cổ cho bé tắm, tập bơi, vận động thư giãn (chính hãng Lionny)\n"
     ]
    },
    {
     "name": "stderr",
     "output_type": "stream",
     "text": [
      "c:\\Users\\ADMIN\\PycharmProjects\\pricecrawler\\key_word_crawl.py:433: FutureWarning: The frame.append method is deprecated and will be removed from pandas in a future version. Use pandas.concat instead.\n",
      "  output_df = output_df.append(result, ignore_index=True)\n"
     ]
    },
    {
     "name": "stdout",
     "output_type": "stream",
     "text": [
      "Execution time: 11747.12442278862\n",
      "Crawling features for product Áo Phao Bơi Cho Bé, Phao Tập Bơi Liền Thân, Phao Bơi Hình Hoạt Hình Cho Bé Trai Bé Gái Từ 2 Đến 8 Tuổi / 15-25kg\n"
     ]
    },
    {
     "name": "stderr",
     "output_type": "stream",
     "text": [
      "c:\\Users\\ADMIN\\PycharmProjects\\pricecrawler\\key_word_crawl.py:433: FutureWarning: The frame.append method is deprecated and will be removed from pandas in a future version. Use pandas.concat instead.\n",
      "  output_df = output_df.append(result, ignore_index=True)\n"
     ]
    },
    {
     "name": "stdout",
     "output_type": "stream",
     "text": [
      "Execution time: 11788.718379497528\n",
      "Crawling features for product Phao Bơi Cho Bé Đi Biển Tập Bơi Dây Chắc Chắn Điều Chỉnh Chống Lật 2- 6 Tuổi Hoạt Hình Đáng Yêu Tay Đỡ Ngực\n"
     ]
    },
    {
     "name": "stderr",
     "output_type": "stream",
     "text": [
      "c:\\Users\\ADMIN\\PycharmProjects\\pricecrawler\\key_word_crawl.py:433: FutureWarning: The frame.append method is deprecated and will be removed from pandas in a future version. Use pandas.concat instead.\n",
      "  output_df = output_df.append(result, ignore_index=True)\n"
     ]
    },
    {
     "name": "stdout",
     "output_type": "stream",
     "text": [
      "Execution time: 11814.007489919662\n",
      "Crawling features for product Đồ bơi áo tắm liền thân một mảnh kèm băng đô cho bé gái 10-30kg dễ thương nhiều màu sắc rực rỡ nổi bật\n"
     ]
    },
    {
     "name": "stderr",
     "output_type": "stream",
     "text": [
      "c:\\Users\\ADMIN\\PycharmProjects\\pricecrawler\\key_word_crawl.py:433: FutureWarning: The frame.append method is deprecated and will be removed from pandas in a future version. Use pandas.concat instead.\n",
      "  output_df = output_df.append(result, ignore_index=True)\n"
     ]
    },
    {
     "name": "stdout",
     "output_type": "stream",
     "text": [
      "Execution time: 11837.773027420044\n",
      "Crawling features for product Bộ đồ bơi một mảnh MANVIN BABY in hình cá mập hoạt hình dành cho bé trai\n"
     ]
    },
    {
     "name": "stderr",
     "output_type": "stream",
     "text": [
      "c:\\Users\\ADMIN\\PycharmProjects\\pricecrawler\\key_word_crawl.py:433: FutureWarning: The frame.append method is deprecated and will be removed from pandas in a future version. Use pandas.concat instead.\n",
      "  output_df = output_df.append(result, ignore_index=True)\n"
     ]
    },
    {
     "name": "stdout",
     "output_type": "stream",
     "text": [
      "Execution time: 11903.13506269455\n",
      "Crawling features for product Bikini bộ bơi đồ bơi nữ kín đáo tay lửng phối hoa văn quần đùi\n"
     ]
    },
    {
     "name": "stderr",
     "output_type": "stream",
     "text": [
      "c:\\Users\\ADMIN\\PycharmProjects\\pricecrawler\\key_word_crawl.py:433: FutureWarning: The frame.append method is deprecated and will be removed from pandas in a future version. Use pandas.concat instead.\n",
      "  output_df = output_df.append(result, ignore_index=True)\n"
     ]
    },
    {
     "name": "stdout",
     "output_type": "stream",
     "text": [
      "Execution time: 11929.079368591309\n",
      "Crawling features for product ĐỒ BƠI NỮ bikini kín đáo áo croptop tay ngắn váy bơi cạp cao quần đùi đồ bơi học sinh Jami atd14\n"
     ]
    },
    {
     "name": "stderr",
     "output_type": "stream",
     "text": [
      "c:\\Users\\ADMIN\\PycharmProjects\\pricecrawler\\key_word_crawl.py:433: FutureWarning: The frame.append method is deprecated and will be removed from pandas in a future version. Use pandas.concat instead.\n",
      "  output_df = output_df.append(result, ignore_index=True)\n"
     ]
    },
    {
     "name": "stdout",
     "output_type": "stream",
     "text": [
      "Execution time: 11957.089878797531\n",
      "Crawling features for product Đồ Bơi Bé Gái - Bikini Cho Bé Gái 8-30Kg - Áo Tắm Bé Gái Chất Liệu Cao Cấp - Hàng Quảng Châu\n"
     ]
    },
    {
     "name": "stderr",
     "output_type": "stream",
     "text": [
      "c:\\Users\\ADMIN\\PycharmProjects\\pricecrawler\\key_word_crawl.py:433: FutureWarning: The frame.append method is deprecated and will be removed from pandas in a future version. Use pandas.concat instead.\n",
      "  output_df = output_df.append(result, ignore_index=True)\n"
     ]
    },
    {
     "name": "stdout",
     "output_type": "stream",
     "text": [
      "Execution time: 11984.65725517273\n",
      "Crawling features for product Bikini liền thân đùi áo có tay đồ bơi 1 mảnh phong cách thể thao khỏe khoắn khóa ngực phối màu retro nổi bật 8412 A-91\n"
     ]
    },
    {
     "name": "stderr",
     "output_type": "stream",
     "text": [
      "c:\\Users\\ADMIN\\PycharmProjects\\pricecrawler\\key_word_crawl.py:433: FutureWarning: The frame.append method is deprecated and will be removed from pandas in a future version. Use pandas.concat instead.\n",
      "  output_df = output_df.append(result, ignore_index=True)\n"
     ]
    },
    {
     "name": "stdout",
     "output_type": "stream",
     "text": [
      "Execution time: 12009.239334583282\n",
      "Crawling features for product Đồ bơi bé trai , sẹt bộ đồ bơi 3ct áo +quần+mũ họa tiết khủng long đáng yêu cho bé\n"
     ]
    },
    {
     "name": "stderr",
     "output_type": "stream",
     "text": [
      "c:\\Users\\ADMIN\\PycharmProjects\\pricecrawler\\key_word_crawl.py:433: FutureWarning: The frame.append method is deprecated and will be removed from pandas in a future version. Use pandas.concat instead.\n",
      "  output_df = output_df.append(result, ignore_index=True)\n"
     ]
    },
    {
     "name": "stdout",
     "output_type": "stream",
     "text": [
      "Execution time: 12034.016698598862\n",
      "Crawling features for product Bộ Đồ Bơi Hai Mảnh Thể Thao Phong Cách Hàn Quốc Cho Nữ\n"
     ]
    },
    {
     "name": "stderr",
     "output_type": "stream",
     "text": [
      "c:\\Users\\ADMIN\\PycharmProjects\\pricecrawler\\key_word_crawl.py:433: FutureWarning: The frame.append method is deprecated and will be removed from pandas in a future version. Use pandas.concat instead.\n",
      "  output_df = output_df.append(result, ignore_index=True)\n"
     ]
    },
    {
     "name": "stdout",
     "output_type": "stream",
     "text": [
      "Execution time: 12112.97015619278\n",
      "Crawling features for product Bộ bơi rời dài tay quần đùi Bu Aqua cao cấp cho bé trai bé gái chính hãng\n"
     ]
    },
    {
     "name": "stderr",
     "output_type": "stream",
     "text": [
      "c:\\Users\\ADMIN\\PycharmProjects\\pricecrawler\\key_word_crawl.py:433: FutureWarning: The frame.append method is deprecated and will be removed from pandas in a future version. Use pandas.concat instead.\n",
      "  output_df = output_df.append(result, ignore_index=True)\n"
     ]
    },
    {
     "name": "stdout",
     "output_type": "stream",
     "text": [
      "Execution time: 12141.35320353508\n",
      "Crawling features for product Bộ Đồ Bơi Một Mảnh , Bikini Đi Biển 1 Mảnh Kín Đáo Thời Trang Hàn Quốc Quyến Rũ Cho Nữ SiuDolot\n"
     ]
    },
    {
     "name": "stderr",
     "output_type": "stream",
     "text": [
      "c:\\Users\\ADMIN\\PycharmProjects\\pricecrawler\\key_word_crawl.py:433: FutureWarning: The frame.append method is deprecated and will be removed from pandas in a future version. Use pandas.concat instead.\n",
      "  output_df = output_df.append(result, ignore_index=True)\n"
     ]
    },
    {
     "name": "stdout",
     "output_type": "stream",
     "text": [
      "Execution time: 12165.187746286392\n",
      "Crawling features for product Đồ bơi đùi 2 mảnh Bikini đi biển nữ du lịch kín đáo quần cạp cao phong cách thể thao năng động kiểu Quảng Châu 6822 C-10\n"
     ]
    },
    {
     "name": "stderr",
     "output_type": "stream",
     "text": [
      "c:\\Users\\ADMIN\\PycharmProjects\\pricecrawler\\key_word_crawl.py:433: FutureWarning: The frame.append method is deprecated and will be removed from pandas in a future version. Use pandas.concat instead.\n",
      "  output_df = output_df.append(result, ignore_index=True)\n"
     ]
    },
    {
     "name": "stdout",
     "output_type": "stream",
     "text": [
      "Execution time: 12193.25245642662\n",
      "Crawling features for product Set Bơi Nữ Kéo Khoá YLIKE\n"
     ]
    },
    {
     "name": "stderr",
     "output_type": "stream",
     "text": [
      "c:\\Users\\ADMIN\\PycharmProjects\\pricecrawler\\key_word_crawl.py:433: FutureWarning: The frame.append method is deprecated and will be removed from pandas in a future version. Use pandas.concat instead.\n",
      "  output_df = output_df.append(result, ignore_index=True)\n"
     ]
    },
    {
     "name": "stdout",
     "output_type": "stream",
     "text": [
      "Execution time: 12211.092804193497\n",
      "Crawling features for product Áo Phao Bơi Tay Ngực Cho Bé Tập Bơi Hoạt Hình 2-6 Tuổi CUNCHICI\n"
     ]
    },
    {
     "name": "stderr",
     "output_type": "stream",
     "text": [
      "c:\\Users\\ADMIN\\PycharmProjects\\pricecrawler\\key_word_crawl.py:433: FutureWarning: The frame.append method is deprecated and will be removed from pandas in a future version. Use pandas.concat instead.\n",
      "  output_df = output_df.append(result, ignore_index=True)\n"
     ]
    },
    {
     "name": "stdout",
     "output_type": "stream",
     "text": [
      "Execution time: 12236.790682554245\n",
      "Crawling features for product Đồ bơi liền thân cho bé họa tiết đáng yêu chính hãng HAIZID cho bé từ 1 tuổi đến size đại\n"
     ]
    },
    {
     "name": "stderr",
     "output_type": "stream",
     "text": [
      "c:\\Users\\ADMIN\\PycharmProjects\\pricecrawler\\key_word_crawl.py:433: FutureWarning: The frame.append method is deprecated and will be removed from pandas in a future version. Use pandas.concat instead.\n",
      "  output_df = output_df.append(result, ignore_index=True)\n"
     ]
    },
    {
     "name": "stdout",
     "output_type": "stream",
     "text": [
      "Execution time: 12265.40442109108\n",
      "Crawling features for product Bộ Đồ Bơi Hai Mảnh Phong Cách Thời Trang Dành Cho Bé Gái\n"
     ]
    },
    {
     "name": "stderr",
     "output_type": "stream",
     "text": [
      "c:\\Users\\ADMIN\\PycharmProjects\\pricecrawler\\key_word_crawl.py:433: FutureWarning: The frame.append method is deprecated and will be removed from pandas in a future version. Use pandas.concat instead.\n",
      "  output_df = output_df.append(result, ignore_index=True)\n"
     ]
    },
    {
     "name": "stdout",
     "output_type": "stream",
     "text": [
      "Execution time: 12290.657142400742\n",
      "Crawling features for product [FREE SHIP TẶNG MŨ BƠI] Bộ bơi liền thân bé gái tránh nắng cản tia UV chống lạnh hàng Quảng Châu cao cấp\n"
     ]
    },
    {
     "name": "stderr",
     "output_type": "stream",
     "text": [
      "c:\\Users\\ADMIN\\PycharmProjects\\pricecrawler\\key_word_crawl.py:433: FutureWarning: The frame.append method is deprecated and will be removed from pandas in a future version. Use pandas.concat instead.\n",
      "  output_df = output_df.append(result, ignore_index=True)\n"
     ]
    },
    {
     "name": "stdout",
     "output_type": "stream",
     "text": [
      "Execution time: 12319.037508964539\n",
      "Crawling features for product BỘ ĐỒ BƠI, BIKINI, ÁO TẮM 3 CHI TIẾT CHO BÉ GÁI SIZE 10-30KG(3MANH)\n"
     ]
    },
    {
     "name": "stderr",
     "output_type": "stream",
     "text": [
      "c:\\Users\\ADMIN\\PycharmProjects\\pricecrawler\\key_word_crawl.py:433: FutureWarning: The frame.append method is deprecated and will be removed from pandas in a future version. Use pandas.concat instead.\n",
      "  output_df = output_df.append(result, ignore_index=True)\n"
     ]
    },
    {
     "name": "stdout",
     "output_type": "stream",
     "text": [
      "Execution time: 12340.867883682251\n",
      "Crawling features for product Bikini Len Móc Kín Đáo Đi Biển 3 Món Có Bán Rời Đồ Bơi Kín\n"
     ]
    },
    {
     "name": "stderr",
     "output_type": "stream",
     "text": [
      "c:\\Users\\ADMIN\\PycharmProjects\\pricecrawler\\key_word_crawl.py:433: FutureWarning: The frame.append method is deprecated and will be removed from pandas in a future version. Use pandas.concat instead.\n",
      "  output_df = output_df.append(result, ignore_index=True)\n"
     ]
    },
    {
     "name": "stdout",
     "output_type": "stream",
     "text": [
      "Execution time: 12365.882368087769\n",
      "Crawling features for product Bộ Đồ Bơi Tay Ngắn In Hình Gấu Hồng Dễ Thương Size XL-6XL Cho Bé Gái\n"
     ]
    },
    {
     "name": "stderr",
     "output_type": "stream",
     "text": [
      "c:\\Users\\ADMIN\\PycharmProjects\\pricecrawler\\key_word_crawl.py:433: FutureWarning: The frame.append method is deprecated and will be removed from pandas in a future version. Use pandas.concat instead.\n",
      "  output_df = output_df.append(result, ignore_index=True)\n"
     ]
    },
    {
     "name": "stdout",
     "output_type": "stream",
     "text": [
      "Execution time: 12391.000126600266\n",
      "Crawling features for product Bộ Đồ Bơi 3 Mảnh Gồm Áo Ngực Không Tay Nâng Ngực Và Chân Váy Co Giãn In Họa Tiết Hoa Dành Cho Nữ\n"
     ]
    },
    {
     "name": "stderr",
     "output_type": "stream",
     "text": [
      "c:\\Users\\ADMIN\\PycharmProjects\\pricecrawler\\key_word_crawl.py:433: FutureWarning: The frame.append method is deprecated and will be removed from pandas in a future version. Use pandas.concat instead.\n",
      "  output_df = output_df.append(result, ignore_index=True)\n"
     ]
    },
    {
     "name": "stdout",
     "output_type": "stream",
     "text": [
      "Execution time: 12417.698247432709\n",
      "Crawling features for product Bộ Bơi Nữ dài tay| Bikini đi biển có khóa lưng kèm đệm ngực, quần liền váy 2 lớp kín đáo\n"
     ]
    },
    {
     "name": "stderr",
     "output_type": "stream",
     "text": [
      "c:\\Users\\ADMIN\\PycharmProjects\\pricecrawler\\key_word_crawl.py:433: FutureWarning: The frame.append method is deprecated and will be removed from pandas in a future version. Use pandas.concat instead.\n",
      "  output_df = output_df.append(result, ignore_index=True)\n"
     ]
    },
    {
     "name": "stdout",
     "output_type": "stream",
     "text": [
      "Execution time: 12440.464782476425\n",
      "Crawling features for product Phao bơi liền thân, phao tay đỡ ngực cho bé trai bé gái từ 14kg đến 25kg chất liệu cao cấp mềm mại\n"
     ]
    },
    {
     "name": "stderr",
     "output_type": "stream",
     "text": [
      "c:\\Users\\ADMIN\\PycharmProjects\\pricecrawler\\key_word_crawl.py:433: FutureWarning: The frame.append method is deprecated and will be removed from pandas in a future version. Use pandas.concat instead.\n",
      "  output_df = output_df.append(result, ignore_index=True)\n"
     ]
    },
    {
     "name": "stdout",
     "output_type": "stream",
     "text": [
      "Execution time: 12466.123504400253\n",
      "Crawling features for product BỘ BƠI DÂY SIÊU XINH CHO BÉ TOMBABY88\n"
     ]
    },
    {
     "name": "stderr",
     "output_type": "stream",
     "text": [
      "c:\\Users\\ADMIN\\PycharmProjects\\pricecrawler\\key_word_crawl.py:433: FutureWarning: The frame.append method is deprecated and will be removed from pandas in a future version. Use pandas.concat instead.\n",
      "  output_df = output_df.append(result, ignore_index=True)\n"
     ]
    },
    {
     "name": "stdout",
     "output_type": "stream",
     "text": [
      "Execution time: 12492.330766916275\n",
      "Crawling features for product Quần bơi dài 2 lớp Ara nam màu đen\n"
     ]
    },
    {
     "name": "stderr",
     "output_type": "stream",
     "text": [
      "c:\\Users\\ADMIN\\PycharmProjects\\pricecrawler\\key_word_crawl.py:433: FutureWarning: The frame.append method is deprecated and will be removed from pandas in a future version. Use pandas.concat instead.\n",
      "  output_df = output_df.append(result, ignore_index=True)\n"
     ]
    },
    {
     "name": "stdout",
     "output_type": "stream",
     "text": [
      "Execution time: 12514.927656412125\n",
      "Crawling features for product Quần bơi nam lửng thể thao, quần bơi nam 2 lớp đi bơi đi biển tự tin và thoải mái vận động\n"
     ]
    },
    {
     "name": "stderr",
     "output_type": "stream",
     "text": [
      "c:\\Users\\ADMIN\\PycharmProjects\\pricecrawler\\key_word_crawl.py:433: FutureWarning: The frame.append method is deprecated and will be removed from pandas in a future version. Use pandas.concat instead.\n",
      "  output_df = output_df.append(result, ignore_index=True)\n"
     ]
    },
    {
     "name": "stdout",
     "output_type": "stream",
     "text": [
      "Execution time: 12543.184434175491\n",
      "Crawling features for product Phao Bơi Tay Ngực Cho Bé Tập Bơi Hoạt Hình 2-6 Tuổi\n"
     ]
    },
    {
     "name": "stderr",
     "output_type": "stream",
     "text": [
      "c:\\Users\\ADMIN\\PycharmProjects\\pricecrawler\\key_word_crawl.py:433: FutureWarning: The frame.append method is deprecated and will be removed from pandas in a future version. Use pandas.concat instead.\n",
      "  output_df = output_df.append(result, ignore_index=True)\n"
     ]
    },
    {
     "name": "stdout",
     "output_type": "stream",
     "text": [
      "Execution time: 12565.833356380463\n",
      "Crawling features for product Đồ bơi trẻ em Bé gái Công chúa Bé gái Kho báu 3-12 tuổi Cậu bé lớn Ngâm áo tắm suối nước nóng cho bé gái\n"
     ]
    },
    {
     "name": "stderr",
     "output_type": "stream",
     "text": [
      "c:\\Users\\ADMIN\\PycharmProjects\\pricecrawler\\key_word_crawl.py:433: FutureWarning: The frame.append method is deprecated and will be removed from pandas in a future version. Use pandas.concat instead.\n",
      "  output_df = output_df.append(result, ignore_index=True)\n"
     ]
    },
    {
     "name": "stdout",
     "output_type": "stream",
     "text": [
      "Execution time: 12608.761893033981\n",
      "Crawling features for product Bikini 1 mảnh kín đáo DILYSFASHION ĐB9307, Đồ bơi nữ liền thân đi biển kèm áo voan phong cách hàn quốc trẻ trung\n"
     ]
    },
    {
     "name": "stderr",
     "output_type": "stream",
     "text": [
      "c:\\Users\\ADMIN\\PycharmProjects\\pricecrawler\\key_word_crawl.py:433: FutureWarning: The frame.append method is deprecated and will be removed from pandas in a future version. Use pandas.concat instead.\n",
      "  output_df = output_df.append(result, ignore_index=True)\n"
     ]
    },
    {
     "name": "stdout",
     "output_type": "stream",
     "text": [
      "Execution time: 12638.771303653717\n",
      "Crawling features for product Phao bơi Mambobaby không bơm hơi chống lật cho bé từ newborn 0 1 2 3 4 5 tuổi phao tập bơi chống lật Mambobaby\n"
     ]
    },
    {
     "name": "stderr",
     "output_type": "stream",
     "text": [
      "c:\\Users\\ADMIN\\PycharmProjects\\pricecrawler\\key_word_crawl.py:433: FutureWarning: The frame.append method is deprecated and will be removed from pandas in a future version. Use pandas.concat instead.\n",
      "  output_df = output_df.append(result, ignore_index=True)\n"
     ]
    },
    {
     "name": "stdout",
     "output_type": "stream",
     "text": [
      "Execution time: 12665.74764919281\n",
      "Crawling features for product Bộ bơi siêu nhân kèm mũ cho bé trai - BSNN- BBSN\n"
     ]
    },
    {
     "name": "stderr",
     "output_type": "stream",
     "text": [
      "ERROR:root:Traceback (most recent call last):\n",
      "  File \"c:\\Users\\ADMIN\\PycharmProjects\\pricecrawler\\key_word_crawl.py\", line 432, in crawl_multiple_products\n",
      "    result = self.extract_product_feature(url)\n",
      "  File \"c:\\Users\\ADMIN\\PycharmProjects\\pricecrawler\\key_word_crawl.py\", line 224, in extract_product_feature\n",
      "    class_=\"DmxDxl\").text  # nếu có giá (k free ship) thì có gtri là giá ship; k thì là \"miễn phí vận chuyển\"\n",
      "AttributeError: 'NoneType' object has no attribute 'text'\n",
      "\n"
     ]
    },
    {
     "name": "stdout",
     "output_type": "stream",
     "text": [
      "Crawling features for product Đồ Bơi Bé Trai Demeone Họa Tiết Khủng Long  Chất Liệu Bền Đẹp Co Giãn Tốt Hàng Loại 1 bé 10-30kg\n"
     ]
    },
    {
     "name": "stderr",
     "output_type": "stream",
     "text": [
      "ERROR:root:Traceback (most recent call last):\n",
      "  File \"c:\\Users\\ADMIN\\PycharmProjects\\pricecrawler\\key_word_crawl.py\", line 432, in crawl_multiple_products\n",
      "    result = self.extract_product_feature(url)\n",
      "  File \"c:\\Users\\ADMIN\\PycharmProjects\\pricecrawler\\key_word_crawl.py\", line 406, in extract_product_feature\n",
      "    result[\"num_like\"] = soup.find_all(\"div\", {\"class\": \"Ne7dEf\"})[1].text\n",
      "IndexError: list index out of range\n",
      "\n"
     ]
    },
    {
     "name": "stdout",
     "output_type": "stream",
     "text": [
      "Crawling features for product Quần bơi Nam, đồ bơi nam BIKINI PASSPORT kiểu dáng lửng - màu Đen - BS1006_BL\n"
     ]
    },
    {
     "name": "stderr",
     "output_type": "stream",
     "text": [
      "c:\\Users\\ADMIN\\PycharmProjects\\pricecrawler\\key_word_crawl.py:433: FutureWarning: The frame.append method is deprecated and will be removed from pandas in a future version. Use pandas.concat instead.\n",
      "  output_df = output_df.append(result, ignore_index=True)\n"
     ]
    },
    {
     "name": "stdout",
     "output_type": "stream",
     "text": [
      "Execution time: 12728.954589605331\n",
      "Crawling features for product Bikini đồ bơi nữ đi biển 1 mảnh phối cúp ngực trắng váy xòe BIKINI SUNSHINE MS-05\n"
     ]
    },
    {
     "name": "stderr",
     "output_type": "stream",
     "text": [
      "c:\\Users\\ADMIN\\PycharmProjects\\pricecrawler\\key_word_crawl.py:433: FutureWarning: The frame.append method is deprecated and will be removed from pandas in a future version. Use pandas.concat instead.\n",
      "  output_df = output_df.append(result, ignore_index=True)\n"
     ]
    },
    {
     "name": "stdout",
     "output_type": "stream",
     "text": [
      "Execution time: 12758.884202480316\n",
      "Crawling features for product Bộ Đồ Bơi bikini Eo Cao Dáng Ôm Che Bụng Quyến Rũ Cho Nữ\n"
     ]
    },
    {
     "name": "stderr",
     "output_type": "stream",
     "text": [
      "c:\\Users\\ADMIN\\PycharmProjects\\pricecrawler\\key_word_crawl.py:433: FutureWarning: The frame.append method is deprecated and will be removed from pandas in a future version. Use pandas.concat instead.\n",
      "  output_df = output_df.append(result, ignore_index=True)\n"
     ]
    },
    {
     "name": "stdout",
     "output_type": "stream",
     "text": [
      "Execution time: 12794.807471036911\n",
      "Crawling features for product MANVIN BABY Bộ Đồ Bơi Một Mảnh Họa Tiết Hoạt Hình Dễ Thương Cho Bé Trai\n"
     ]
    },
    {
     "name": "stderr",
     "output_type": "stream",
     "text": [
      "c:\\Users\\ADMIN\\PycharmProjects\\pricecrawler\\key_word_crawl.py:433: FutureWarning: The frame.append method is deprecated and will be removed from pandas in a future version. Use pandas.concat instead.\n",
      "  output_df = output_df.append(result, ignore_index=True)\n"
     ]
    },
    {
     "name": "stdout",
     "output_type": "stream",
     "text": [
      "Execution time: 12856.438923597336\n",
      "Crawling features for product Chaang Bộ bơi liền khóa giữa ngắn Pool cho bé, dành cho bé từ 6 tháng đến 5 tuổi SS2023D05\n"
     ]
    },
    {
     "name": "stderr",
     "output_type": "stream",
     "text": [
      "c:\\Users\\ADMIN\\PycharmProjects\\pricecrawler\\key_word_crawl.py:433: FutureWarning: The frame.append method is deprecated and will be removed from pandas in a future version. Use pandas.concat instead.\n",
      "  output_df = output_df.append(result, ignore_index=True)\n"
     ]
    },
    {
     "name": "stdout",
     "output_type": "stream",
     "text": [
      "Execution time: 12881.364202260971\n",
      "Crawling features for product Planet đồ bé gái Áo tắm huấn luyện thể thao cho trẻ em CUHK đồ bơi\n"
     ]
    },
    {
     "name": "stderr",
     "output_type": "stream",
     "text": [
      "c:\\Users\\ADMIN\\PycharmProjects\\pricecrawler\\key_word_crawl.py:433: FutureWarning: The frame.append method is deprecated and will be removed from pandas in a future version. Use pandas.concat instead.\n",
      "  output_df = output_df.append(result, ignore_index=True)\n"
     ]
    },
    {
     "name": "stdout",
     "output_type": "stream",
     "text": [
      "Execution time: 12906.112668275833\n",
      "Crawling features for product Bikini đi biển đồ bơi nữ liền thân Retro Mẫu in Bộ 2 mảnh Có Bán Tách Rời\n"
     ]
    },
    {
     "name": "stderr",
     "output_type": "stream",
     "text": [
      "c:\\Users\\ADMIN\\PycharmProjects\\pricecrawler\\key_word_crawl.py:433: FutureWarning: The frame.append method is deprecated and will be removed from pandas in a future version. Use pandas.concat instead.\n",
      "  output_df = output_df.append(result, ignore_index=True)\n"
     ]
    },
    {
     "name": "stdout",
     "output_type": "stream",
     "text": [
      "Execution time: 12983.760083675385\n",
      "Crawling features for product Bộ Đồ Bơi 3 Món Áo Tay Ngắn + Quần Short + Mũ Bơi Dành Cho Bé Gái M-4XL\n"
     ]
    },
    {
     "name": "stderr",
     "output_type": "stream",
     "text": [
      "c:\\Users\\ADMIN\\PycharmProjects\\pricecrawler\\key_word_crawl.py:433: FutureWarning: The frame.append method is deprecated and will be removed from pandas in a future version. Use pandas.concat instead.\n",
      "  output_df = output_df.append(result, ignore_index=True)\n"
     ]
    },
    {
     "name": "stdout",
     "output_type": "stream",
     "text": [
      "Execution time: 13010.724462509155\n",
      "Crawling features for product Đồ bơi cho bé gái Xu hướng thời trang đồ bơi dễ thương cho bé gái\n"
     ]
    },
    {
     "name": "stderr",
     "output_type": "stream",
     "text": [
      "c:\\Users\\ADMIN\\PycharmProjects\\pricecrawler\\key_word_crawl.py:433: FutureWarning: The frame.append method is deprecated and will be removed from pandas in a future version. Use pandas.concat instead.\n",
      "  output_df = output_df.append(result, ignore_index=True)\n"
     ]
    },
    {
     "name": "stdout",
     "output_type": "stream",
     "text": [
      "Execution time: 13036.732070684433\n",
      "Crawling features for product Đồ bơi NỮ BIKINI PASSPORT Hai mảnh LC tay áo phối màu &amp; logo - Đen - BS1010_BL\n"
     ]
    },
    {
     "name": "stderr",
     "output_type": "stream",
     "text": [
      "c:\\Users\\ADMIN\\PycharmProjects\\pricecrawler\\key_word_crawl.py:433: FutureWarning: The frame.append method is deprecated and will be removed from pandas in a future version. Use pandas.concat instead.\n",
      "  output_df = output_df.append(result, ignore_index=True)\n"
     ]
    },
    {
     "name": "stdout",
     "output_type": "stream",
     "text": [
      "Execution time: 13067.593893051147\n",
      "Crawling features for product Đồ bơi nữ bikini 2 mảnh áo croptop tay bồng trễ vai phối quần chân váy bồng 2 tầng nhiều màu đi biển đẹp\n"
     ]
    },
    {
     "name": "stderr",
     "output_type": "stream",
     "text": [
      "c:\\Users\\ADMIN\\PycharmProjects\\pricecrawler\\key_word_crawl.py:433: FutureWarning: The frame.append method is deprecated and will be removed from pandas in a future version. Use pandas.concat instead.\n",
      "  output_df = output_df.append(result, ignore_index=True)\n"
     ]
    },
    {
     "name": "stdout",
     "output_type": "stream",
     "text": [
      "Execution time: 13096.643224716187\n",
      "Crawling features for product Đồ bơi bé trai size đại quần rời họa tiết phi hành gia hãng Y cao cấp (từ 14-43kg)\n"
     ]
    },
    {
     "name": "stderr",
     "output_type": "stream",
     "text": [
      "c:\\Users\\ADMIN\\PycharmProjects\\pricecrawler\\key_word_crawl.py:433: FutureWarning: The frame.append method is deprecated and will be removed from pandas in a future version. Use pandas.concat instead.\n",
      "  output_df = output_df.append(result, ignore_index=True)\n"
     ]
    },
    {
     "name": "stdout",
     "output_type": "stream",
     "text": [
      "Execution time: 13123.908447504044\n",
      "Crawling features for product Đồ bơi trẻ em, đồ bơi bé gái có nón Unicorn Tiên Cá nhiều màu sắc dành cho bé size từ 15kg đến 40kg - Mebena shop\n"
     ]
    },
    {
     "name": "stderr",
     "output_type": "stream",
     "text": [
      "c:\\Users\\ADMIN\\PycharmProjects\\pricecrawler\\key_word_crawl.py:433: FutureWarning: The frame.append method is deprecated and will be removed from pandas in a future version. Use pandas.concat instead.\n",
      "  output_df = output_df.append(result, ignore_index=True)\n"
     ]
    },
    {
     "name": "stdout",
     "output_type": "stream",
     "text": [
      "Execution time: 13156.85456085205\n",
      "Crawling features for product Đồ Bơi Bé Gái BodySuit 1 Mảnh 1-14 Tuổi Mẫu Váy Hồng\n"
     ]
    },
    {
     "name": "stderr",
     "output_type": "stream",
     "text": [
      "c:\\Users\\ADMIN\\PycharmProjects\\pricecrawler\\key_word_crawl.py:433: FutureWarning: The frame.append method is deprecated and will be removed from pandas in a future version. Use pandas.concat instead.\n",
      "  output_df = output_df.append(result, ignore_index=True)\n"
     ]
    },
    {
     "name": "stdout",
     "output_type": "stream",
     "text": [
      "Execution time: 13181.494067192078\n",
      "Crawling features for product Bộ đồ bơi cho bé trai tay lửng họa tiết trơn - kẻ sọc Harifa size 6 -32kg\n"
     ]
    },
    {
     "name": "stderr",
     "output_type": "stream",
     "text": [
      "c:\\Users\\ADMIN\\PycharmProjects\\pricecrawler\\key_word_crawl.py:433: FutureWarning: The frame.append method is deprecated and will be removed from pandas in a future version. Use pandas.concat instead.\n",
      "  output_df = output_df.append(result, ignore_index=True)\n"
     ]
    },
    {
     "name": "stdout",
     "output_type": "stream",
     "text": [
      "Execution time: 13204.034523487091\n",
      "Crawling features for product Áo Phao Bơi Cho Bé Tập Bơi Liền Thân dưới 25kg Hình siêu nhân, người nhện, công chúa elsa cho bé trai bé gái PB DALOI\n"
     ]
    },
    {
     "name": "stderr",
     "output_type": "stream",
     "text": [
      "c:\\Users\\ADMIN\\PycharmProjects\\pricecrawler\\key_word_crawl.py:433: FutureWarning: The frame.append method is deprecated and will be removed from pandas in a future version. Use pandas.concat instead.\n",
      "  output_df = output_df.append(result, ignore_index=True)\n"
     ]
    },
    {
     "name": "stdout",
     "output_type": "stream",
     "text": [
      "Execution time: 13233.900893449783\n",
      "Crawling features for product Bộ Đồ Bơi Thể Thao Ngắn Tay Thời Trang Mùa Xuân Dành Cho Nữ\n"
     ]
    },
    {
     "name": "stderr",
     "output_type": "stream",
     "text": [
      "c:\\Users\\ADMIN\\PycharmProjects\\pricecrawler\\key_word_crawl.py:433: FutureWarning: The frame.append method is deprecated and will be removed from pandas in a future version. Use pandas.concat instead.\n",
      "  output_df = output_df.append(result, ignore_index=True)\n"
     ]
    },
    {
     "name": "stdout",
     "output_type": "stream",
     "text": [
      "Execution time: 13257.264152765274\n",
      "Crawling features for product ÁO BƠI TAY DÀI KÍN ĐÁO CHE BỤNG CHỐNG NẮNG THUN LẠNH KÈM MÚT-JAMI-AB_SOC_41_FZ\n"
     ]
    },
    {
     "name": "stderr",
     "output_type": "stream",
     "text": [
      "c:\\Users\\ADMIN\\PycharmProjects\\pricecrawler\\key_word_crawl.py:433: FutureWarning: The frame.append method is deprecated and will be removed from pandas in a future version. Use pandas.concat instead.\n",
      "  output_df = output_df.append(result, ignore_index=True)\n"
     ]
    },
    {
     "name": "stdout",
     "output_type": "stream",
     "text": [
      "Execution time: 13283.981949567795\n",
      "Crawling features for product [Bikini đi biển sành điệu 2023] Đồ bơi nữ liền mảnh màu đen có khóa kéo form SHORT kín đáo\n"
     ]
    },
    {
     "name": "stderr",
     "output_type": "stream",
     "text": [
      "c:\\Users\\ADMIN\\PycharmProjects\\pricecrawler\\key_word_crawl.py:433: FutureWarning: The frame.append method is deprecated and will be removed from pandas in a future version. Use pandas.concat instead.\n",
      "  output_df = output_df.append(result, ignore_index=True)\n"
     ]
    },
    {
     "name": "stdout",
     "output_type": "stream",
     "text": [
      "Execution time: 13310.782998800278\n",
      "Crawling features for product Set đồ bơi U GONNA S ba món cổ yếm màu trơn co giãn thời trang quyến rũ 2023 dành cho nữ\n"
     ]
    },
    {
     "name": "stderr",
     "output_type": "stream",
     "text": [
      "c:\\Users\\ADMIN\\PycharmProjects\\pricecrawler\\key_word_crawl.py:433: FutureWarning: The frame.append method is deprecated and will be removed from pandas in a future version. Use pandas.concat instead.\n",
      "  output_df = output_df.append(result, ignore_index=True)\n"
     ]
    },
    {
     "name": "stdout",
     "output_type": "stream",
     "text": [
      "Execution time: 13385.600225687027\n",
      "Crawling features for product Quần bơi nam, quần thể thao nam 2 lớp có túi 2 bên QB-006i\n"
     ]
    },
    {
     "name": "stderr",
     "output_type": "stream",
     "text": [
      "c:\\Users\\ADMIN\\PycharmProjects\\pricecrawler\\key_word_crawl.py:433: FutureWarning: The frame.append method is deprecated and will be removed from pandas in a future version. Use pandas.concat instead.\n",
      "  output_df = output_df.append(result, ignore_index=True)\n"
     ]
    },
    {
     "name": "stdout",
     "output_type": "stream",
     "text": [
      "Execution time: 13411.690556049347\n",
      "Crawling features for product Bộ Đồ Bơi Một Mảnh Kiểu Dáng Thể Thao Có Size Lớn 40-80kg Dành Cho Nữ\n"
     ]
    },
    {
     "name": "stderr",
     "output_type": "stream",
     "text": [
      "c:\\Users\\ADMIN\\PycharmProjects\\pricecrawler\\key_word_crawl.py:433: FutureWarning: The frame.append method is deprecated and will be removed from pandas in a future version. Use pandas.concat instead.\n",
      "  output_df = output_df.append(result, ignore_index=True)\n"
     ]
    },
    {
     "name": "stdout",
     "output_type": "stream",
     "text": [
      "Execution time: 13434.505101442337\n",
      "Crawling features for product LANSBOTER Bộ Đồ Bơi Hai Mảnh In Họa Tiết Hoạt Hình Dễ Thương Thời Trang Mùa Xuân 2023 Cho Bé Trai\n"
     ]
    },
    {
     "name": "stderr",
     "output_type": "stream",
     "text": [
      "c:\\Users\\ADMIN\\PycharmProjects\\pricecrawler\\key_word_crawl.py:433: FutureWarning: The frame.append method is deprecated and will be removed from pandas in a future version. Use pandas.concat instead.\n",
      "  output_df = output_df.append(result, ignore_index=True)\n"
     ]
    },
    {
     "name": "stdout",
     "output_type": "stream",
     "text": [
      "Execution time: 13461.094462394714\n",
      "Crawling features for product set đồ bơi 3 chi tiết gồm áo tay dài, quần dài, quần đùi bé gái size đại\n"
     ]
    },
    {
     "name": "stderr",
     "output_type": "stream",
     "text": [
      "c:\\Users\\ADMIN\\PycharmProjects\\pricecrawler\\key_word_crawl.py:433: FutureWarning: The frame.append method is deprecated and will be removed from pandas in a future version. Use pandas.concat instead.\n",
      "  output_df = output_df.append(result, ignore_index=True)\n"
     ]
    },
    {
     "name": "stdout",
     "output_type": "stream",
     "text": [
      "Execution time: 13485.802539348602\n",
      "Crawling features for product ✈️[Freeship] ÁO PHAO BƠI XỐP BÊN TRONG CAO CẤP HỌA TIẾT HOẠT HÌNH CHO BÉ TỰ TIN THỎA MÁI TẬP BƠI RÈN LUYỆN SỨC KHỎE\n"
     ]
    },
    {
     "name": "stderr",
     "output_type": "stream",
     "text": [
      "c:\\Users\\ADMIN\\PycharmProjects\\pricecrawler\\key_word_crawl.py:433: FutureWarning: The frame.append method is deprecated and will be removed from pandas in a future version. Use pandas.concat instead.\n",
      "  output_df = output_df.append(result, ignore_index=True)\n"
     ]
    },
    {
     "name": "stdout",
     "output_type": "stream",
     "text": [
      "Execution time: 13517.500943899155\n",
      "Crawling features for product Bikini 1 mảnh Tuvada phong cách vintage, đồ bơi nữ 2 mặt, áo tắm đi biển cao cấp - BHT01\n"
     ]
    },
    {
     "name": "stderr",
     "output_type": "stream",
     "text": [
      "c:\\Users\\ADMIN\\PycharmProjects\\pricecrawler\\key_word_crawl.py:433: FutureWarning: The frame.append method is deprecated and will be removed from pandas in a future version. Use pandas.concat instead.\n",
      "  output_df = output_df.append(result, ignore_index=True)\n"
     ]
    },
    {
     "name": "stdout",
     "output_type": "stream",
     "text": [
      "Execution time: 13545.48703289032\n",
      "Crawling features for product Quần bơi bé trai dày đẹp, chất thun bơi lạnh Lycra co giãn mịn mát, lớp lót trong thoáng khí, đủ size từ 12-60kg | BT68\n"
     ]
    },
    {
     "name": "stderr",
     "output_type": "stream",
     "text": [
      "c:\\Users\\ADMIN\\PycharmProjects\\pricecrawler\\key_word_crawl.py:433: FutureWarning: The frame.append method is deprecated and will be removed from pandas in a future version. Use pandas.concat instead.\n",
      "  output_df = output_df.append(result, ignore_index=True)\n"
     ]
    },
    {
     "name": "stdout",
     "output_type": "stream",
     "text": [
      "Execution time: 13607.855952501297\n",
      "Crawling features for product Hàng Chuẩn Loại 1- Đồ Bơi Bé Gái Liền Thân -  Bikini Cánh Tiên Cho Bé -Chất Liệu Bơi Cao Cấp - Hàng Quảng Châu\n"
     ]
    },
    {
     "name": "stderr",
     "output_type": "stream",
     "text": [
      "c:\\Users\\ADMIN\\PycharmProjects\\pricecrawler\\key_word_crawl.py:433: FutureWarning: The frame.append method is deprecated and will be removed from pandas in a future version. Use pandas.concat instead.\n",
      "  output_df = output_df.append(result, ignore_index=True)\n"
     ]
    },
    {
     "name": "stdout",
     "output_type": "stream",
     "text": [
      "Execution time: 13636.76692199707\n",
      "Crawling features for product Planet đồ bơi nữ Bộ Đồ Bơi Bé Gái Dài Tay Bộ Quần Dài Hai Mảnh Nàng Tiên Cá Trang Phục Trẻ Em Đồ Bơi\n"
     ]
    },
    {
     "name": "stderr",
     "output_type": "stream",
     "text": [
      "c:\\Users\\ADMIN\\PycharmProjects\\pricecrawler\\key_word_crawl.py:433: FutureWarning: The frame.append method is deprecated and will be removed from pandas in a future version. Use pandas.concat instead.\n",
      "  output_df = output_df.append(result, ignore_index=True)\n"
     ]
    },
    {
     "name": "stdout",
     "output_type": "stream",
     "text": [
      "Execution time: 13692.013469219208\n",
      "Crawling features for product PHAO TẬP BƠI HÌNH TIM PHỒNG_THẮNG LỢI,_PHAO TAM GIÁC TẬP BƠI_PHAO TIM LỒI_KẸP ĐÙI_phao tim tập bơi_ĐỒ BƠI_Swimming Float\n"
     ]
    },
    {
     "name": "stderr",
     "output_type": "stream",
     "text": [
      "c:\\Users\\ADMIN\\PycharmProjects\\pricecrawler\\key_word_crawl.py:433: FutureWarning: The frame.append method is deprecated and will be removed from pandas in a future version. Use pandas.concat instead.\n",
      "  output_df = output_df.append(result, ignore_index=True)\n"
     ]
    },
    {
     "name": "stdout",
     "output_type": "stream",
     "text": [
      "Execution time: 13716.628927230835\n",
      "Crawling features for product Bikini đồ bơi nữ đi biển 1 mảnh dây kéo phối thân trắng form short BIKINI SUNSHINE MS-27\n"
     ]
    },
    {
     "name": "stderr",
     "output_type": "stream",
     "text": [
      "c:\\Users\\ADMIN\\PycharmProjects\\pricecrawler\\key_word_crawl.py:433: FutureWarning: The frame.append method is deprecated and will be removed from pandas in a future version. Use pandas.concat instead.\n",
      "  output_df = output_df.append(result, ignore_index=True)\n"
     ]
    },
    {
     "name": "stdout",
     "output_type": "stream",
     "text": [
      "Execution time: 13743.939781665802\n",
      "Crawling features for product Bộ đồ bơi nữ 3 chi tiết áo lưới phong cách thể thao chất thun đẹp Happy Sport Fashion\n"
     ]
    },
    {
     "name": "stderr",
     "output_type": "stream",
     "text": [
      "c:\\Users\\ADMIN\\PycharmProjects\\pricecrawler\\key_word_crawl.py:433: FutureWarning: The frame.append method is deprecated and will be removed from pandas in a future version. Use pandas.concat instead.\n",
      "  output_df = output_df.append(result, ignore_index=True)\n"
     ]
    },
    {
     "name": "stdout",
     "output_type": "stream",
     "text": [
      "Execution time: 13768.538841485977\n",
      "Crawling features for product Bikini đi biển 2 mảnh đồ bơi nữ kín đáo set 3 chi tiết quần áo croptop hàng Quảng Châu bigsize kiểu Hàn Quốc 8066 B-24\n"
     ]
    },
    {
     "name": "stderr",
     "output_type": "stream",
     "text": [
      "c:\\Users\\ADMIN\\PycharmProjects\\pricecrawler\\key_word_crawl.py:433: FutureWarning: The frame.append method is deprecated and will be removed from pandas in a future version. Use pandas.concat instead.\n",
      "  output_df = output_df.append(result, ignore_index=True)\n"
     ]
    },
    {
     "name": "stdout",
     "output_type": "stream",
     "text": [
      "Execution time: 13793.156089305878\n",
      "Crawling features for product Set đồ bơi U GONNA S 3 món có đệm ngực tay dài đàn hồi phong cách Hàn Quốc thể thao thời trang quyến rũ 2023 dành cho nữ\n"
     ]
    },
    {
     "name": "stderr",
     "output_type": "stream",
     "text": [
      "c:\\Users\\ADMIN\\PycharmProjects\\pricecrawler\\key_word_crawl.py:433: FutureWarning: The frame.append method is deprecated and will be removed from pandas in a future version. Use pandas.concat instead.\n",
      "  output_df = output_df.append(result, ignore_index=True)\n"
     ]
    },
    {
     "name": "stdout",
     "output_type": "stream",
     "text": [
      "Execution time: 13878.190069675446\n",
      "Crawling features for product Planet đồ bơi nữ Áo tắm trẻ em phong cách nước ngoài áo tắm học sinh một mảnh cho trẻ em\n"
     ]
    },
    {
     "name": "stderr",
     "output_type": "stream",
     "text": [
      "c:\\Users\\ADMIN\\PycharmProjects\\pricecrawler\\key_word_crawl.py:433: FutureWarning: The frame.append method is deprecated and will be removed from pandas in a future version. Use pandas.concat instead.\n",
      "  output_df = output_df.append(result, ignore_index=True)\n"
     ]
    },
    {
     "name": "stdout",
     "output_type": "stream",
     "text": [
      "Execution time: 13937.81354856491\n",
      "Crawling features for product LANSBOTER Bộ Đồ Bơi Hai Mảnh Phong Cách Thời Trang Dành Cho Bé Gái\n"
     ]
    },
    {
     "name": "stderr",
     "output_type": "stream",
     "text": [
      "c:\\Users\\ADMIN\\PycharmProjects\\pricecrawler\\key_word_crawl.py:433: FutureWarning: The frame.append method is deprecated and will be removed from pandas in a future version. Use pandas.concat instead.\n",
      "  output_df = output_df.append(result, ignore_index=True)\n"
     ]
    },
    {
     "name": "stdout",
     "output_type": "stream",
     "text": [
      "Execution time: 13967.453052520752\n",
      "Crawling features for product Đồ bơi bé trai liền thân tay ngắn phối màu cá tính khóa kéo trước dễ sử dụng cho bé từ 10-38kg\n"
     ]
    },
    {
     "name": "stderr",
     "output_type": "stream",
     "text": [
      "c:\\Users\\ADMIN\\PycharmProjects\\pricecrawler\\key_word_crawl.py:433: FutureWarning: The frame.append method is deprecated and will be removed from pandas in a future version. Use pandas.concat instead.\n",
      "  output_df = output_df.append(result, ignore_index=True)\n"
     ]
    },
    {
     "name": "stdout",
     "output_type": "stream",
     "text": [
      "Execution time: 13996.722089290619\n",
      "Crawling features for product ĐỒ BƠI CHO BÉ GÁI, BIKINI BEO CHO BÉ 🌸\n"
     ]
    }
   ],
   "source": [
    "os.chdir(\"C:\\\\Users\\\\ADMIN\\\\PycharmProjects\\\\pricecrawler\")\n",
    "for df, kw in zip(dfs, keyword):\n",
    "    print(\"\\n\")\n",
    "    print(\"-----------------------------------------------------------\")\n",
    "    print(\"Crawling products for {0}...\".format(kw))\n",
    "    print(\"-----------------------------------------------------------\")\n",
    "    product_crawler.crawl_multiple_products(product_link_df=df,\n",
    "                                            save_path=\"./product features/{0}.csv\".format(kw), max_prod=500)"
   ]
  }
 ],
 "metadata": {
  "kernelspec": {
   "display_name": "Python 3 (ipykernel)",
   "language": "python",
   "name": "python3"
  },
  "language_info": {
   "codemirror_mode": {
    "name": "ipython",
    "version": 3
   },
   "file_extension": ".py",
   "mimetype": "text/x-python",
   "name": "python",
   "nbconvert_exporter": "python",
   "pygments_lexer": "ipython3",
   "version": "3.10.9"
  }
 },
 "nbformat": 4,
 "nbformat_minor": 2
}
